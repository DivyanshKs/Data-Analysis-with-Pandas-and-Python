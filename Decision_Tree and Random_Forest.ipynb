{
  "nbformat": 4,
  "nbformat_minor": 0,
  "metadata": {
    "colab": {
      "name": "Untitled6.ipynb",
      "provenance": [],
      "authorship_tag": "ABX9TyMisTG5xw6wI0I/MvBsDtyR",
      "include_colab_link": true
    },
    "kernelspec": {
      "name": "python3",
      "display_name": "Python 3"
    },
    "language_info": {
      "name": "python"
    }
  },
  "cells": [
    {
      "cell_type": "markdown",
      "metadata": {
        "id": "view-in-github",
        "colab_type": "text"
      },
      "source": [
        "<a href=\"https://colab.research.google.com/github/DivyanshKs/Data-Analysis-with-Pandas-and-Python/blob/master/Decision_Tree%20and%20Random_Forest.ipynb\" target=\"_parent\"><img src=\"https://colab.research.google.com/assets/colab-badge.svg\" alt=\"Open In Colab\"/></a>"
      ]
    },
    {
      "cell_type": "markdown",
      "metadata": {
        "id": "x5lFWokIuXuw"
      },
      "source": [
        "**Decision Tree**"
      ]
    },
    {
      "cell_type": "code",
      "metadata": {
        "id": "grX9IHYgudfs"
      },
      "source": [
        "import pydotplus\n",
        "from sklearn.tree import DecisionTreeClassifier\n",
        "from sklearn import datasets"
      ],
      "execution_count": 1,
      "outputs": []
    },
    {
      "cell_type": "code",
      "metadata": {
        "colab": {
          "base_uri": "https://localhost:8080/"
        },
        "id": "E_B-Up7wu3Qc",
        "outputId": "d672540b-6f84-409a-e1f9-88218e6e7f1a"
      },
      "source": [
        "iris = datasets.load_iris()\n",
        "target = iris.target\n",
        "features = iris.data\n",
        "\n",
        "print(features)\n",
        "print(target)"
      ],
      "execution_count": 3,
      "outputs": [
        {
          "output_type": "stream",
          "text": [
            "[[5.1 3.5 1.4 0.2]\n",
            " [4.9 3.  1.4 0.2]\n",
            " [4.7 3.2 1.3 0.2]\n",
            " [4.6 3.1 1.5 0.2]\n",
            " [5.  3.6 1.4 0.2]\n",
            " [5.4 3.9 1.7 0.4]\n",
            " [4.6 3.4 1.4 0.3]\n",
            " [5.  3.4 1.5 0.2]\n",
            " [4.4 2.9 1.4 0.2]\n",
            " [4.9 3.1 1.5 0.1]\n",
            " [5.4 3.7 1.5 0.2]\n",
            " [4.8 3.4 1.6 0.2]\n",
            " [4.8 3.  1.4 0.1]\n",
            " [4.3 3.  1.1 0.1]\n",
            " [5.8 4.  1.2 0.2]\n",
            " [5.7 4.4 1.5 0.4]\n",
            " [5.4 3.9 1.3 0.4]\n",
            " [5.1 3.5 1.4 0.3]\n",
            " [5.7 3.8 1.7 0.3]\n",
            " [5.1 3.8 1.5 0.3]\n",
            " [5.4 3.4 1.7 0.2]\n",
            " [5.1 3.7 1.5 0.4]\n",
            " [4.6 3.6 1.  0.2]\n",
            " [5.1 3.3 1.7 0.5]\n",
            " [4.8 3.4 1.9 0.2]\n",
            " [5.  3.  1.6 0.2]\n",
            " [5.  3.4 1.6 0.4]\n",
            " [5.2 3.5 1.5 0.2]\n",
            " [5.2 3.4 1.4 0.2]\n",
            " [4.7 3.2 1.6 0.2]\n",
            " [4.8 3.1 1.6 0.2]\n",
            " [5.4 3.4 1.5 0.4]\n",
            " [5.2 4.1 1.5 0.1]\n",
            " [5.5 4.2 1.4 0.2]\n",
            " [4.9 3.1 1.5 0.2]\n",
            " [5.  3.2 1.2 0.2]\n",
            " [5.5 3.5 1.3 0.2]\n",
            " [4.9 3.6 1.4 0.1]\n",
            " [4.4 3.  1.3 0.2]\n",
            " [5.1 3.4 1.5 0.2]\n",
            " [5.  3.5 1.3 0.3]\n",
            " [4.5 2.3 1.3 0.3]\n",
            " [4.4 3.2 1.3 0.2]\n",
            " [5.  3.5 1.6 0.6]\n",
            " [5.1 3.8 1.9 0.4]\n",
            " [4.8 3.  1.4 0.3]\n",
            " [5.1 3.8 1.6 0.2]\n",
            " [4.6 3.2 1.4 0.2]\n",
            " [5.3 3.7 1.5 0.2]\n",
            " [5.  3.3 1.4 0.2]\n",
            " [7.  3.2 4.7 1.4]\n",
            " [6.4 3.2 4.5 1.5]\n",
            " [6.9 3.1 4.9 1.5]\n",
            " [5.5 2.3 4.  1.3]\n",
            " [6.5 2.8 4.6 1.5]\n",
            " [5.7 2.8 4.5 1.3]\n",
            " [6.3 3.3 4.7 1.6]\n",
            " [4.9 2.4 3.3 1. ]\n",
            " [6.6 2.9 4.6 1.3]\n",
            " [5.2 2.7 3.9 1.4]\n",
            " [5.  2.  3.5 1. ]\n",
            " [5.9 3.  4.2 1.5]\n",
            " [6.  2.2 4.  1. ]\n",
            " [6.1 2.9 4.7 1.4]\n",
            " [5.6 2.9 3.6 1.3]\n",
            " [6.7 3.1 4.4 1.4]\n",
            " [5.6 3.  4.5 1.5]\n",
            " [5.8 2.7 4.1 1. ]\n",
            " [6.2 2.2 4.5 1.5]\n",
            " [5.6 2.5 3.9 1.1]\n",
            " [5.9 3.2 4.8 1.8]\n",
            " [6.1 2.8 4.  1.3]\n",
            " [6.3 2.5 4.9 1.5]\n",
            " [6.1 2.8 4.7 1.2]\n",
            " [6.4 2.9 4.3 1.3]\n",
            " [6.6 3.  4.4 1.4]\n",
            " [6.8 2.8 4.8 1.4]\n",
            " [6.7 3.  5.  1.7]\n",
            " [6.  2.9 4.5 1.5]\n",
            " [5.7 2.6 3.5 1. ]\n",
            " [5.5 2.4 3.8 1.1]\n",
            " [5.5 2.4 3.7 1. ]\n",
            " [5.8 2.7 3.9 1.2]\n",
            " [6.  2.7 5.1 1.6]\n",
            " [5.4 3.  4.5 1.5]\n",
            " [6.  3.4 4.5 1.6]\n",
            " [6.7 3.1 4.7 1.5]\n",
            " [6.3 2.3 4.4 1.3]\n",
            " [5.6 3.  4.1 1.3]\n",
            " [5.5 2.5 4.  1.3]\n",
            " [5.5 2.6 4.4 1.2]\n",
            " [6.1 3.  4.6 1.4]\n",
            " [5.8 2.6 4.  1.2]\n",
            " [5.  2.3 3.3 1. ]\n",
            " [5.6 2.7 4.2 1.3]\n",
            " [5.7 3.  4.2 1.2]\n",
            " [5.7 2.9 4.2 1.3]\n",
            " [6.2 2.9 4.3 1.3]\n",
            " [5.1 2.5 3.  1.1]\n",
            " [5.7 2.8 4.1 1.3]\n",
            " [6.3 3.3 6.  2.5]\n",
            " [5.8 2.7 5.1 1.9]\n",
            " [7.1 3.  5.9 2.1]\n",
            " [6.3 2.9 5.6 1.8]\n",
            " [6.5 3.  5.8 2.2]\n",
            " [7.6 3.  6.6 2.1]\n",
            " [4.9 2.5 4.5 1.7]\n",
            " [7.3 2.9 6.3 1.8]\n",
            " [6.7 2.5 5.8 1.8]\n",
            " [7.2 3.6 6.1 2.5]\n",
            " [6.5 3.2 5.1 2. ]\n",
            " [6.4 2.7 5.3 1.9]\n",
            " [6.8 3.  5.5 2.1]\n",
            " [5.7 2.5 5.  2. ]\n",
            " [5.8 2.8 5.1 2.4]\n",
            " [6.4 3.2 5.3 2.3]\n",
            " [6.5 3.  5.5 1.8]\n",
            " [7.7 3.8 6.7 2.2]\n",
            " [7.7 2.6 6.9 2.3]\n",
            " [6.  2.2 5.  1.5]\n",
            " [6.9 3.2 5.7 2.3]\n",
            " [5.6 2.8 4.9 2. ]\n",
            " [7.7 2.8 6.7 2. ]\n",
            " [6.3 2.7 4.9 1.8]\n",
            " [6.7 3.3 5.7 2.1]\n",
            " [7.2 3.2 6.  1.8]\n",
            " [6.2 2.8 4.8 1.8]\n",
            " [6.1 3.  4.9 1.8]\n",
            " [6.4 2.8 5.6 2.1]\n",
            " [7.2 3.  5.8 1.6]\n",
            " [7.4 2.8 6.1 1.9]\n",
            " [7.9 3.8 6.4 2. ]\n",
            " [6.4 2.8 5.6 2.2]\n",
            " [6.3 2.8 5.1 1.5]\n",
            " [6.1 2.6 5.6 1.4]\n",
            " [7.7 3.  6.1 2.3]\n",
            " [6.3 3.4 5.6 2.4]\n",
            " [6.4 3.1 5.5 1.8]\n",
            " [6.  3.  4.8 1.8]\n",
            " [6.9 3.1 5.4 2.1]\n",
            " [6.7 3.1 5.6 2.4]\n",
            " [6.9 3.1 5.1 2.3]\n",
            " [5.8 2.7 5.1 1.9]\n",
            " [6.8 3.2 5.9 2.3]\n",
            " [6.7 3.3 5.7 2.5]\n",
            " [6.7 3.  5.2 2.3]\n",
            " [6.3 2.5 5.  1.9]\n",
            " [6.5 3.  5.2 2. ]\n",
            " [6.2 3.4 5.4 2.3]\n",
            " [5.9 3.  5.1 1.8]]\n",
            "[0 0 0 0 0 0 0 0 0 0 0 0 0 0 0 0 0 0 0 0 0 0 0 0 0 0 0 0 0 0 0 0 0 0 0 0 0\n",
            " 0 0 0 0 0 0 0 0 0 0 0 0 0 1 1 1 1 1 1 1 1 1 1 1 1 1 1 1 1 1 1 1 1 1 1 1 1\n",
            " 1 1 1 1 1 1 1 1 1 1 1 1 1 1 1 1 1 1 1 1 1 1 1 1 1 1 2 2 2 2 2 2 2 2 2 2 2\n",
            " 2 2 2 2 2 2 2 2 2 2 2 2 2 2 2 2 2 2 2 2 2 2 2 2 2 2 2 2 2 2 2 2 2 2 2 2 2\n",
            " 2 2]\n"
          ],
          "name": "stdout"
        }
      ]
    },
    {
      "cell_type": "code",
      "metadata": {
        "id": "f3W7L7BjvKGn"
      },
      "source": [
        "decisiontree = DecisionTreeClassifier()"
      ],
      "execution_count": 4,
      "outputs": []
    },
    {
      "cell_type": "code",
      "metadata": {
        "id": "M5k-9UM6vSVB"
      },
      "source": [
        "model = decisiontree.fit(features, target)"
      ],
      "execution_count": 6,
      "outputs": []
    },
    {
      "cell_type": "code",
      "metadata": {
        "colab": {
          "base_uri": "https://localhost:8080/"
        },
        "id": "MKGVlH9tvXI6",
        "outputId": "ec6e1e79-80fc-49ff-925b-994252613626"
      },
      "source": [
        "observation = [[2, 4, 1, 3]]\n",
        "model.predict(observation)\n",
        "model.predict_proba(observation)"
      ],
      "execution_count": 9,
      "outputs": [
        {
          "output_type": "execute_result",
          "data": {
            "text/plain": [
              "array([[0., 1., 0.]])"
            ]
          },
          "metadata": {
            "tags": []
          },
          "execution_count": 9
        }
      ]
    },
    {
      "cell_type": "code",
      "metadata": {
        "id": "KgiMFbqgwBIq"
      },
      "source": [
        "from sklearn import tree\n",
        "\n",
        "dot_data = tree.export_graphviz(decisiontree, out_file = None, feature_names = iris.feature_names, class_names = iris.target_names)\n"
      ],
      "execution_count": 11,
      "outputs": []
    },
    {
      "cell_type": "code",
      "metadata": {
        "colab": {
          "base_uri": "https://localhost:8080/",
          "height": 799
        },
        "id": "WEVCVZOHw3TF",
        "outputId": "1b20225e-0263-43c3-e846-a7064b8a47bc"
      },
      "source": [
        "from IPython.display import Image\n",
        "graph = pydotplus.graph_from_dot_data(dot_data)\n",
        "Image(graph.create_png())"
      ],
      "execution_count": 18,
      "outputs": [
        {
          "output_type": "execute_result",
          "data": {
            "image/png": "[encoded data removed]",
            "text/plain": [
              "<IPython.core.display.Image object>"
            ]
          },
          "metadata": {
            "tags": []
          },
          "execution_count": 18
        }
      ]
    },
    {
      "cell_type": "code",
      "metadata": {
        "colab": {
          "base_uri": "https://localhost:8080/"
        },
        "id": "YL8yiLa8xeUT",
        "outputId": "cc9b6b40-87ae-487b-e4b1-caf5563965d8"
      },
      "source": [
        "import numpy as np\n",
        "import pandas as pd\n",
        "import matplotlib.pyplot as plt\n",
        "\n",
        "df = pd.read_csv('Salary_Data-1.csv').values\n",
        "\n",
        "x = df[:,:-1]\n",
        "y = df[:,-1]\n",
        "x, y"
      ],
      "execution_count": 20,
      "outputs": [
        {
          "output_type": "execute_result",
          "data": {
            "text/plain": [
              "(array([[ 1.1],\n",
              "        [ 1.3],\n",
              "        [ 1.5],\n",
              "        [ 2. ],\n",
              "        [ 2.2],\n",
              "        [ 2.9],\n",
              "        [ 3. ],\n",
              "        [ 3.2],\n",
              "        [ 3.2],\n",
              "        [ 3.7],\n",
              "        [ 3.9],\n",
              "        [ 4. ],\n",
              "        [ 4. ],\n",
              "        [ 4.1],\n",
              "        [ 4.5],\n",
              "        [ 4.9],\n",
              "        [ 5.1],\n",
              "        [ 5.3],\n",
              "        [ 5.9],\n",
              "        [ 6. ],\n",
              "        [ 6.8],\n",
              "        [ 7.1],\n",
              "        [ 7.9],\n",
              "        [ 8.2],\n",
              "        [ 8.7],\n",
              "        [ 9. ],\n",
              "        [ 9.5],\n",
              "        [ 9.6],\n",
              "        [10.3],\n",
              "        [10.5]]),\n",
              " array([ 39343.,  46205.,  37731.,  43525.,  39891.,  56642.,  60150.,\n",
              "         54445.,  64445.,  57189.,  63218.,  55794.,  56957.,  57081.,\n",
              "         61111.,  67938.,  66029.,  83088.,  81363.,  93940.,  91738.,\n",
              "         98273., 101302., 113812., 109431., 105582., 116969., 112635.,\n",
              "        122391., 121872.]))"
            ]
          },
          "metadata": {
            "tags": []
          },
          "execution_count": 20
        }
      ]
    },
    {
      "cell_type": "code",
      "metadata": {
        "colab": {
          "base_uri": "https://localhost:8080/",
          "height": 283
        },
        "id": "EJ52zwQMyQj1",
        "outputId": "deedd2b4-98e2-4568-dfc0-65e862139aef"
      },
      "source": [
        "plt.scatter(x,y)"
      ],
      "execution_count": 21,
      "outputs": [
        {
          "output_type": "execute_result",
          "data": {
            "text/plain": [
              "<matplotlib.collections.PathCollection at 0x7f9b5b296d10>"
            ]
          },
          "metadata": {
            "tags": []
          },
          "execution_count": 21
        },
        {
          "output_type": "display_data",
          "data": {
            "image/png": "[encoded data removed]",
            "text/plain": [
              "<Figure size 432x288 with 1 Axes>"
            ]
          },
          "metadata": {
            "tags": [],
            "needs_background": "light"
          }
        }
      ]
    },
    {
      "cell_type": "code",
      "metadata": {
        "colab": {
          "base_uri": "https://localhost:8080/"
        },
        "id": "Xj-kG0aMyUOk",
        "outputId": "88c562ec-290b-4e57-b4f8-00d5701e5004"
      },
      "source": [
        "from sklearn.tree import DecisionTreeClassifier\n",
        "\n",
        "model = DecisionTreeClassifier(max_depth = 200)\n",
        "model.fit(x,y)\n",
        "y_pred = model.predict(x)\n",
        "y_pred"
      ],
      "execution_count": 26,
      "outputs": [
        {
          "output_type": "execute_result",
          "data": {
            "text/plain": [
              "array([ 39343.,  46205.,  37731.,  43525.,  39891.,  56642.,  60150.,\n",
              "        54445.,  54445.,  57189.,  63218.,  55794.,  55794.,  57081.,\n",
              "        61111.,  67938.,  66029.,  83088.,  81363.,  93940.,  91738.,\n",
              "        98273., 101302., 113812., 109431., 105582., 116969., 112635.,\n",
              "       122391., 121872.])"
            ]
          },
          "metadata": {
            "tags": []
          },
          "execution_count": 26
        }
      ]
    },
    {
      "cell_type": "code",
      "metadata": {
        "colab": {
          "base_uri": "https://localhost:8080/",
          "height": 283
        },
        "id": "3e7yNHPs0ZpQ",
        "outputId": "74d9b0da-6624-4370-9bfc-32e53ae801f4"
      },
      "source": [
        "plt.scatter(x,y)\n",
        "plt.plot(x, y_pred, color = 'red')"
      ],
      "execution_count": 28,
      "outputs": [
        {
          "output_type": "execute_result",
          "data": {
            "text/plain": [
              "[<matplotlib.lines.Line2D at 0x7f9b5a78d9d0>]"
            ]
          },
          "metadata": {
            "tags": []
          },
          "execution_count": 28
        },
        {
          "output_type": "display_data",
          "data": {
            "image/png": "[encoded data removed]",
            "text/plain": [
              "<Figure size 432x288 with 1 Axes>"
            ]
          },
          "metadata": {
            "tags": [],
            "needs_background": "light"
          }
        }
      ]
    },
    {
      "cell_type": "code",
      "metadata": {
        "colab": {
          "base_uri": "https://localhost:8080/"
        },
        "id": "wjhgWLRozh4S",
        "outputId": "68b22101-b5ba-4161-d138-fdd041bd7318"
      },
      "source": [
        "x_grid = np.arange(min(x), max(x), 0.01).reshape(-1,1)\n",
        "y_pred = model.predict(x_grid)\n",
        "y_pred"
      ],
      "execution_count": 33,
      "outputs": [
        {
          "output_type": "execute_result",
          "data": {
            "text/plain": [
              "array([ 39343.,  39343.,  39343.,  39343.,  39343.,  39343.,  39343.,\n",
              "        39343.,  39343.,  39343.,  46205.,  46205.,  46205.,  46205.,\n",
              "        46205.,  46205.,  46205.,  46205.,  46205.,  46205.,  46205.,\n",
              "        46205.,  46205.,  46205.,  46205.,  46205.,  46205.,  46205.,\n",
              "        46205.,  46205.,  46205.,  37731.,  37731.,  37731.,  37731.,\n",
              "        37731.,  37731.,  37731.,  37731.,  37731.,  37731.,  37731.,\n",
              "        37731.,  37731.,  37731.,  37731.,  37731.,  37731.,  37731.,\n",
              "        37731.,  37731.,  37731.,  37731.,  37731.,  37731.,  37731.,\n",
              "        37731.,  37731.,  37731.,  37731.,  37731.,  37731.,  37731.,\n",
              "        37731.,  37731.,  37731.,  43525.,  43525.,  43525.,  43525.,\n",
              "        43525.,  43525.,  43525.,  43525.,  43525.,  43525.,  43525.,\n",
              "        43525.,  43525.,  43525.,  43525.,  43525.,  43525.,  43525.,\n",
              "        43525.,  43525.,  43525.,  43525.,  43525.,  43525.,  43525.,\n",
              "        43525.,  43525.,  43525.,  43525.,  43525.,  43525.,  43525.,\n",
              "        43525.,  43525.,  43525.,  39891.,  39891.,  39891.,  39891.,\n",
              "        39891.,  39891.,  39891.,  39891.,  39891.,  39891.,  39891.,\n",
              "        39891.,  39891.,  39891.,  39891.,  39891.,  39891.,  39891.,\n",
              "        39891.,  39891.,  39891.,  39891.,  39891.,  39891.,  39891.,\n",
              "        39891.,  39891.,  39891.,  39891.,  39891.,  39891.,  39891.,\n",
              "        39891.,  39891.,  39891.,  39891.,  39891.,  39891.,  39891.,\n",
              "        39891.,  39891.,  39891.,  39891.,  39891.,  39891.,  56642.,\n",
              "        56642.,  56642.,  56642.,  56642.,  56642.,  56642.,  56642.,\n",
              "        56642.,  56642.,  56642.,  56642.,  56642.,  56642.,  56642.,\n",
              "        56642.,  56642.,  56642.,  56642.,  56642.,  56642.,  56642.,\n",
              "        56642.,  56642.,  56642.,  56642.,  56642.,  56642.,  56642.,\n",
              "        56642.,  56642.,  56642.,  56642.,  56642.,  56642.,  56642.,\n",
              "        56642.,  56642.,  56642.,  56642.,  60150.,  60150.,  60150.,\n",
              "        60150.,  60150.,  60150.,  60150.,  60150.,  60150.,  60150.,\n",
              "        60150.,  60150.,  60150.,  60150.,  60150.,  54445.,  54445.,\n",
              "        54445.,  54445.,  54445.,  54445.,  54445.,  54445.,  54445.,\n",
              "        54445.,  54445.,  54445.,  54445.,  54445.,  54445.,  54445.,\n",
              "        54445.,  54445.,  54445.,  54445.,  54445.,  54445.,  54445.,\n",
              "        54445.,  54445.,  54445.,  54445.,  54445.,  54445.,  54445.,\n",
              "        54445.,  54445.,  54445.,  54445.,  54445.,  57189.,  57189.,\n",
              "        57189.,  57189.,  57189.,  57189.,  57189.,  57189.,  57189.,\n",
              "        57189.,  57189.,  57189.,  57189.,  57189.,  57189.,  57189.,\n",
              "        57189.,  57189.,  57189.,  57189.,  57189.,  57189.,  57189.,\n",
              "        57189.,  57189.,  57189.,  57189.,  57189.,  57189.,  57189.,\n",
              "        57189.,  57189.,  57189.,  57189.,  57189.,  63218.,  63218.,\n",
              "        63218.,  63218.,  63218.,  63218.,  63218.,  63218.,  63218.,\n",
              "        63218.,  63218.,  63218.,  63218.,  63218.,  63218.,  55794.,\n",
              "        55794.,  55794.,  55794.,  55794.,  55794.,  55794.,  55794.,\n",
              "        55794.,  57081.,  57081.,  57081.,  57081.,  57081.,  57081.,\n",
              "        57081.,  57081.,  57081.,  57081.,  57081.,  57081.,  57081.,\n",
              "        57081.,  57081.,  57081.,  57081.,  57081.,  57081.,  57081.,\n",
              "        57081.,  57081.,  57081.,  57081.,  57081.,  61111.,  61111.,\n",
              "        61111.,  61111.,  61111.,  61111.,  61111.,  61111.,  61111.,\n",
              "        61111.,  61111.,  61111.,  61111.,  61111.,  61111.,  61111.,\n",
              "        61111.,  61111.,  61111.,  61111.,  61111.,  61111.,  61111.,\n",
              "        61111.,  61111.,  61111.,  61111.,  61111.,  61111.,  61111.,\n",
              "        61111.,  61111.,  61111.,  61111.,  61111.,  61111.,  61111.,\n",
              "        61111.,  61111.,  61111.,  61111.,  67938.,  67938.,  67938.,\n",
              "        67938.,  67938.,  67938.,  67938.,  67938.,  67938.,  67938.,\n",
              "        67938.,  67938.,  67938.,  67938.,  67938.,  67938.,  67938.,\n",
              "        67938.,  67938.,  67938.,  67938.,  67938.,  67938.,  67938.,\n",
              "        67938.,  67938.,  67938.,  67938.,  67938.,  67938.,  66029.,\n",
              "        66029.,  66029.,  66029.,  66029.,  66029.,  66029.,  66029.,\n",
              "        66029.,  66029.,  66029.,  66029.,  66029.,  66029.,  66029.,\n",
              "        66029.,  66029.,  66029.,  66029.,  66029.,  83088.,  83088.,\n",
              "        83088.,  83088.,  83088.,  83088.,  83088.,  83088.,  83088.,\n",
              "        83088.,  83088.,  83088.,  83088.,  83088.,  83088.,  83088.,\n",
              "        83088.,  83088.,  83088.,  83088.,  83088.,  83088.,  83088.,\n",
              "        83088.,  83088.,  83088.,  83088.,  83088.,  83088.,  83088.,\n",
              "        83088.,  83088.,  83088.,  83088.,  83088.,  83088.,  83088.,\n",
              "        83088.,  83088.,  83088.,  81363.,  81363.,  81363.,  81363.,\n",
              "        81363.,  81363.,  81363.,  81363.,  81363.,  81363.,  81363.,\n",
              "        81363.,  81363.,  81363.,  81363.,  81363.,  81363.,  81363.,\n",
              "        81363.,  81363.,  81363.,  81363.,  81363.,  81363.,  81363.,\n",
              "        81363.,  81363.,  81363.,  81363.,  81363.,  81363.,  81363.,\n",
              "        81363.,  81363.,  81363.,  93940.,  93940.,  93940.,  93940.,\n",
              "        93940.,  93940.,  93940.,  93940.,  93940.,  93940.,  93940.,\n",
              "        93940.,  93940.,  93940.,  93940.,  93940.,  93940.,  93940.,\n",
              "        93940.,  93940.,  93940.,  93940.,  93940.,  93940.,  93940.,\n",
              "        93940.,  93940.,  93940.,  93940.,  93940.,  93940.,  93940.,\n",
              "        93940.,  93940.,  93940.,  93940.,  93940.,  93940.,  93940.,\n",
              "        93940.,  93940.,  93940.,  93940.,  93940.,  93940.,  91738.,\n",
              "        91738.,  91738.,  91738.,  91738.,  91738.,  91738.,  91738.,\n",
              "        91738.,  91738.,  91738.,  91738.,  91738.,  91738.,  91738.,\n",
              "        91738.,  91738.,  91738.,  91738.,  91738.,  91738.,  91738.,\n",
              "        91738.,  91738.,  91738.,  91738.,  91738.,  91738.,  91738.,\n",
              "        91738.,  91738.,  91738.,  91738.,  91738.,  91738.,  91738.,\n",
              "        91738.,  91738.,  91738.,  91738.,  91738.,  91738.,  91738.,\n",
              "        91738.,  91738.,  91738.,  91738.,  91738.,  91738.,  91738.,\n",
              "        91738.,  91738.,  91738.,  91738.,  91738.,  98273.,  98273.,\n",
              "        98273.,  98273.,  98273.,  98273.,  98273.,  98273.,  98273.,\n",
              "        98273.,  98273.,  98273.,  98273.,  98273.,  98273.,  98273.,\n",
              "        98273.,  98273.,  98273.,  98273.,  98273.,  98273.,  98273.,\n",
              "        98273.,  98273.,  98273.,  98273.,  98273.,  98273.,  98273.,\n",
              "        98273.,  98273.,  98273.,  98273.,  98273.,  98273.,  98273.,\n",
              "        98273.,  98273.,  98273.,  98273.,  98273.,  98273.,  98273.,\n",
              "        98273.,  98273.,  98273.,  98273.,  98273.,  98273.,  98273.,\n",
              "        98273.,  98273.,  98273.,  98273., 101302., 101302., 101302.,\n",
              "       101302., 101302., 101302., 101302., 101302., 101302., 101302.,\n",
              "       101302., 101302., 101302., 101302., 101302., 101302., 101302.,\n",
              "       101302., 101302., 101302., 101302., 101302., 101302., 101302.,\n",
              "       101302., 101302., 101302., 101302., 101302., 101302., 101302.,\n",
              "       101302., 101302., 101302., 101302., 101302., 101302., 101302.,\n",
              "       101302., 101302., 101302., 101302., 101302., 101302., 101302.,\n",
              "       101302., 101302., 101302., 101302., 101302., 101302., 101302.,\n",
              "       101302., 101302., 113812., 113812., 113812., 113812., 113812.,\n",
              "       113812., 113812., 113812., 113812., 113812., 113812., 113812.,\n",
              "       113812., 113812., 113812., 113812., 113812., 113812., 113812.,\n",
              "       113812., 113812., 113812., 113812., 113812., 113812., 113812.,\n",
              "       113812., 113812., 113812., 113812., 113812., 113812., 113812.,\n",
              "       113812., 113812., 113812., 113812., 113812., 113812., 113812.,\n",
              "       113812., 109431., 109431., 109431., 109431., 109431., 109431.,\n",
              "       109431., 109431., 109431., 109431., 109431., 109431., 109431.,\n",
              "       109431., 109431., 109431., 109431., 109431., 109431., 109431.,\n",
              "       109431., 109431., 109431., 109431., 109431., 109431., 109431.,\n",
              "       109431., 109431., 109431., 109431., 109431., 109431., 109431.,\n",
              "       109431., 109431., 109431., 109431., 109431., 105582., 105582.,\n",
              "       105582., 105582., 105582., 105582., 105582., 105582., 105582.,\n",
              "       105582., 105582., 105582., 105582., 105582., 105582., 105582.,\n",
              "       105582., 105582., 105582., 105582., 105582., 105582., 105582.,\n",
              "       105582., 105582., 105582., 105582., 105582., 105582., 105582.,\n",
              "       105582., 105582., 105582., 105582., 105582., 105582., 105582.,\n",
              "       105582., 105582., 105582., 105582., 116969., 116969., 116969.,\n",
              "       116969., 116969., 116969., 116969., 116969., 116969., 116969.,\n",
              "       116969., 116969., 116969., 116969., 116969., 116969., 116969.,\n",
              "       116969., 116969., 116969., 116969., 116969., 116969., 116969.,\n",
              "       116969., 116969., 116969., 116969., 116969., 116969., 112635.,\n",
              "       112635., 112635., 112635., 112635., 112635., 112635., 112635.,\n",
              "       112635., 112635., 112635., 112635., 112635., 112635., 112635.,\n",
              "       112635., 112635., 112635., 112635., 112635., 112635., 112635.,\n",
              "       112635., 112635., 112635., 112635., 112635., 112635., 112635.,\n",
              "       112635., 112635., 112635., 112635., 112635., 112635., 112635.,\n",
              "       112635., 112635., 112635., 112635., 122391., 122391., 122391.,\n",
              "       122391., 122391., 122391., 122391., 122391., 122391., 122391.,\n",
              "       122391., 122391., 122391., 122391., 122391., 122391., 122391.,\n",
              "       122391., 122391., 122391., 122391., 122391., 122391., 122391.,\n",
              "       122391., 122391., 122391., 122391., 122391., 122391., 122391.,\n",
              "       122391., 122391., 122391., 122391., 122391., 122391., 122391.,\n",
              "       122391., 122391., 122391., 122391., 122391., 122391., 122391.,\n",
              "       121872., 121872., 121872., 121872., 121872., 121872., 121872.,\n",
              "       121872., 121872.])"
            ]
          },
          "metadata": {
            "tags": []
          },
          "execution_count": 33
        }
      ]
    },
    {
      "cell_type": "code",
      "metadata": {
        "colab": {
          "base_uri": "https://localhost:8080/",
          "height": 283
        },
        "id": "tpGqk4Jwz8zm",
        "outputId": "4f6c4bb9-bb1a-4e0d-c8ea-fac28431dffa"
      },
      "source": [
        "plt.scatter(x,y)\n",
        "plt.plot(x_grid, y_pred, color = 'red')"
      ],
      "execution_count": 34,
      "outputs": [
        {
          "output_type": "execute_result",
          "data": {
            "text/plain": [
              "[<matplotlib.lines.Line2D at 0x7f9b5a6ade10>]"
            ]
          },
          "metadata": {
            "tags": []
          },
          "execution_count": 34
        },
        {
          "output_type": "display_data",
          "data": {
            "image/png": "[encoded data removed]",
            "text/plain": [
              "<Figure size 432x288 with 1 Axes>"
            ]
          },
          "metadata": {
            "tags": [],
            "needs_background": "light"
          }
        }
      ]
    },
    {
      "cell_type": "code",
      "metadata": {
        "colab": {
          "base_uri": "https://localhost:8080/"
        },
        "id": "MQrgjnl40upA",
        "outputId": "25c500ea-69ab-4ed6-f8fa-9ac6a83f1981"
      },
      "source": [
        "import numpy as np\n",
        "import pandas as pd\n",
        "import matplotlib.pyplot as plt\n",
        "df = pd.read_csv('gunpowder.csv').values\n",
        "x = df[:, :-1]\n",
        "y = df[:,-1]\n",
        "x, y"
      ],
      "execution_count": 49,
      "outputs": [
        {
          "output_type": "execute_result",
          "data": {
            "text/plain": [
              "(array([[ 78.],\n",
              "        [117.],\n",
              "        [156.],\n",
              "        [195.],\n",
              "        [234.],\n",
              "        [273.],\n",
              "        [312.],\n",
              "        [351.],\n",
              "        [390.],\n",
              "        [429.],\n",
              "        [468.],\n",
              "        [507.],\n",
              "        [546.],\n",
              "        [585.],\n",
              "        [624.],\n",
              "        [702.]]),\n",
              " array([  99. ,  124. ,  207.7,  304.8,  372.4,  440.9,  632.7,  842.6,\n",
              "        1023.5, 1205.3, 1398. , 1783.4, 2177.1, 2565.2, 3851.2, 5962.5]))"
            ]
          },
          "metadata": {
            "tags": []
          },
          "execution_count": 49
        }
      ]
    },
    {
      "cell_type": "code",
      "metadata": {
        "colab": {
          "base_uri": "https://localhost:8080/",
          "height": 283
        },
        "id": "T5TpH8Il3wHS",
        "outputId": "c933cd18-fc31-4746-e8f3-066cee82913d"
      },
      "source": [
        "#scattering\n",
        "plt.scatter(x,y)"
      ],
      "execution_count": 51,
      "outputs": [
        {
          "output_type": "execute_result",
          "data": {
            "text/plain": [
              "<matplotlib.collections.PathCollection at 0x7f9b5a248c10>"
            ]
          },
          "metadata": {
            "tags": []
          },
          "execution_count": 51
        },
        {
          "output_type": "display_data",
          "data": {
            "image/png": "[encoded data removed]",
            "text/plain": [
              "<Figure size 432x288 with 1 Axes>"
            ]
          },
          "metadata": {
            "tags": [],
            "needs_background": "light"
          }
        }
      ]
    },
    {
      "cell_type": "code",
      "metadata": {
        "id": "6M5x_ykH36Ql"
      },
      "source": [
        "# Splitting the dataset into the Training set and Test set\n",
        "from sklearn.model_selection import train_test_split\n",
        "x_train, x_test, y_train, y_test = train_test_split(x, y, test_size = 0.25) "
      ],
      "execution_count": 53,
      "outputs": []
    },
    {
      "cell_type": "code",
      "metadata": {
        "colab": {
          "base_uri": "https://localhost:8080/"
        },
        "id": "FVuMfC_X1y1E",
        "outputId": "397a62c6-0f5f-4e81-8605-5c989cce63a7"
      },
      "source": [
        "from sklearn.tree import DecisionTreeRegressor\n",
        "model = DecisionTreeRegressor()\n",
        "model.fit(x_train, y_train)\n",
        "y_pred = model.predict(x_test)\n",
        "y_test, y_pred"
      ],
      "execution_count": 62,
      "outputs": [
        {
          "output_type": "execute_result",
          "data": {
            "text/plain": [
              "(array([ 842.6, 5962.5,   99. ,  440.9]),\n",
              " array([ 632.7, 3851.2,  124. ,  372.4]))"
            ]
          },
          "metadata": {
            "tags": []
          },
          "execution_count": 62
        }
      ]
    },
    {
      "cell_type": "code",
      "metadata": {
        "colab": {
          "base_uri": "https://localhost:8080/",
          "height": 283
        },
        "id": "COtsi-5y4EIp",
        "outputId": "b20f284e-b18c-477c-fcde-c9a771304956"
      },
      "source": [
        "plt.scatter(x_train, y_train, color='blue')\n",
        "plt.scatter(x_test, y_test, color = 'green')\n",
        "plt.plot(x_test, y_pred, color = 'red')"
      ],
      "execution_count": 60,
      "outputs": [
        {
          "output_type": "execute_result",
          "data": {
            "text/plain": [
              "[<matplotlib.lines.Line2D at 0x7f9b5b291ad0>]"
            ]
          },
          "metadata": {
            "tags": []
          },
          "execution_count": 60
        },
        {
          "output_type": "display_data",
          "data": {
            "image/png": "[encoded data removed]",
            "text/plain": [
              "<Figure size 432x288 with 1 Axes>"
            ]
          },
          "metadata": {
            "tags": [],
            "needs_background": "light"
          }
        }
      ]
    },
    {
      "cell_type": "code",
      "metadata": {
        "colab": {
          "base_uri": "https://localhost:8080/",
          "height": 283
        },
        "id": "PuIStQsu5PUD",
        "outputId": "86b1fb67-5048-4dca-82ee-a455fd1083e8"
      },
      "source": [
        "model.fit(x, y)\n",
        "y_pred = model.predict(x)\n",
        "plt.scatter(x, y)\n",
        "plt.plot(x, y_pred, color = 'red')"
      ],
      "execution_count": 63,
      "outputs": [
        {
          "output_type": "execute_result",
          "data": {
            "text/plain": [
              "[<matplotlib.lines.Line2D at 0x7f9b5b2a3b10>]"
            ]
          },
          "metadata": {
            "tags": []
          },
          "execution_count": 63
        },
        {
          "output_type": "display_data",
          "data": {
            "image/png": "[encoded data removed]",
            "text/plain": [
              "<Figure size 432x288 with 1 Axes>"
            ]
          },
          "metadata": {
            "tags": [],
            "needs_background": "light"
          }
        }
      ]
    },
    {
      "cell_type": "code",
      "metadata": {
        "colab": {
          "base_uri": "https://localhost:8080/"
        },
        "id": "dVLTR2GE5ezN",
        "outputId": "aa69ef4b-86cb-4f4f-9146-bb918c4be4aa"
      },
      "source": [
        "#For high resolotuion\n",
        "x_grid=np.arange(min (x),max (x),0.1).reshape(-1,1)\n",
        "y_pred=model.predict(x_grid)\n",
        "y_pred"
      ],
      "execution_count": 64,
      "outputs": [
        {
          "output_type": "execute_result",
          "data": {
            "text/plain": [
              "array([  99. ,   99. ,   99. , ..., 5962.5, 5962.5, 5962.5])"
            ]
          },
          "metadata": {
            "tags": []
          },
          "execution_count": 64
        }
      ]
    },
    {
      "cell_type": "code",
      "metadata": {
        "colab": {
          "base_uri": "https://localhost:8080/",
          "height": 283
        },
        "id": "cbDxz6eL5lZd",
        "outputId": "e066b100-0962-43c4-e335-130acdee6ebf"
      },
      "source": [
        "plt.scatter(x, y)\n",
        "plt.plot(x_grid, y_pred, color = 'red')"
      ],
      "execution_count": 65,
      "outputs": [
        {
          "output_type": "execute_result",
          "data": {
            "text/plain": [
              "[<matplotlib.lines.Line2D at 0x7f9b5b2fc150>]"
            ]
          },
          "metadata": {
            "tags": []
          },
          "execution_count": 65
        },
        {
          "output_type": "display_data",
          "data": {
            "image/png": "[encoded data removed]",
            "text/plain": [
              "<Figure size 432x288 with 1 Axes>"
            ]
          },
          "metadata": {
            "tags": [],
            "needs_background": "light"
          }
        }
      ]
    },
    {
      "cell_type": "code",
      "metadata": {
        "id": "01qi1DYV5s2V"
      },
      "source": [
        "import pandas as pd\n",
        "import numpy as np\n",
        "import matplotlib.pyplot as plt"
      ],
      "execution_count": 66,
      "outputs": []
    },
    {
      "cell_type": "code",
      "metadata": {
        "colab": {
          "base_uri": "https://localhost:8080/"
        },
        "id": "E8Ls0hHt5zzw",
        "outputId": "b01db3e8-ea0b-4a11-a66a-5b3a0a7c797c"
      },
      "source": [
        "#Importing the data\n",
        "df =pd.read_csv('Chip_test.csv').values\n",
        "df.shape"
      ],
      "execution_count": 67,
      "outputs": [
        {
          "output_type": "execute_result",
          "data": {
            "text/plain": [
              "(118, 3)"
            ]
          },
          "metadata": {
            "tags": []
          },
          "execution_count": 67
        }
      ]
    },
    {
      "cell_type": "code",
      "metadata": {
        "colab": {
          "base_uri": "https://localhost:8080/"
        },
        "id": "jYmd_7sk52dX",
        "outputId": "9aa50504-0f63-4261-8a5f-278157c49cfb"
      },
      "source": [
        "x= df[:, 0:2 ]\n",
        "y= df[:, -1] \n",
        "x, y"
      ],
      "execution_count": 69,
      "outputs": [
        {
          "output_type": "execute_result",
          "data": {
            "text/plain": [
              "(array([[ 0.051267 ,  0.69956  ],\n",
              "        [-0.092742 ,  0.68494  ],\n",
              "        [-0.21371  ,  0.69225  ],\n",
              "        [-0.375    ,  0.50219  ],\n",
              "        [-0.51325  ,  0.46564  ],\n",
              "        [-0.52477  ,  0.2098   ],\n",
              "        [-0.39804  ,  0.034357 ],\n",
              "        [-0.30588  , -0.19225  ],\n",
              "        [ 0.016705 , -0.40424  ],\n",
              "        [ 0.13191  , -0.51389  ],\n",
              "        [ 0.38537  , -0.56506  ],\n",
              "        [ 0.52938  , -0.5212   ],\n",
              "        [ 0.63882  , -0.24342  ],\n",
              "        [ 0.73675  , -0.18494  ],\n",
              "        [ 0.54666  ,  0.48757  ],\n",
              "        [ 0.322    ,  0.5826   ],\n",
              "        [ 0.16647  ,  0.53874  ],\n",
              "        [-0.046659 ,  0.81652  ],\n",
              "        [-0.17339  ,  0.69956  ],\n",
              "        [-0.47869  ,  0.63377  ],\n",
              "        [-0.60541  ,  0.59722  ],\n",
              "        [-0.62846  ,  0.33406  ],\n",
              "        [-0.59389  ,  0.005117 ],\n",
              "        [-0.42108  , -0.27266  ],\n",
              "        [-0.11578  , -0.39693  ],\n",
              "        [ 0.20104  , -0.60161  ],\n",
              "        [ 0.46601  , -0.53582  ],\n",
              "        [ 0.67339  , -0.53582  ],\n",
              "        [-0.13882  ,  0.54605  ],\n",
              "        [-0.29435  ,  0.77997  ],\n",
              "        [-0.26555  ,  0.96272  ],\n",
              "        [-0.16187  ,  0.8019   ],\n",
              "        [-0.17339  ,  0.64839  ],\n",
              "        [-0.28283  ,  0.47295  ],\n",
              "        [-0.36348  ,  0.31213  ],\n",
              "        [-0.30012  ,  0.027047 ],\n",
              "        [-0.23675  , -0.21418  ],\n",
              "        [-0.06394  , -0.18494  ],\n",
              "        [ 0.062788 , -0.16301  ],\n",
              "        [ 0.22984  , -0.41155  ],\n",
              "        [ 0.2932   , -0.2288   ],\n",
              "        [ 0.48329  , -0.18494  ],\n",
              "        [ 0.64459  , -0.14108  ],\n",
              "        [ 0.46025  ,  0.012427 ],\n",
              "        [ 0.6273   ,  0.15863  ],\n",
              "        [ 0.57546  ,  0.26827  ],\n",
              "        [ 0.72523  ,  0.44371  ],\n",
              "        [ 0.22408  ,  0.52412  ],\n",
              "        [ 0.44297  ,  0.67032  ],\n",
              "        [ 0.322    ,  0.69225  ],\n",
              "        [ 0.13767  ,  0.57529  ],\n",
              "        [-0.0063364,  0.39985  ],\n",
              "        [-0.092742 ,  0.55336  ],\n",
              "        [-0.20795  ,  0.35599  ],\n",
              "        [-0.20795  ,  0.17325  ],\n",
              "        [-0.43836  ,  0.21711  ],\n",
              "        [-0.21947  , -0.016813 ],\n",
              "        [-0.13882  , -0.27266  ],\n",
              "        [ 0.18376  ,  0.93348  ],\n",
              "        [ 0.22408  ,  0.77997  ],\n",
              "        [ 0.29896  ,  0.61915  ],\n",
              "        [ 0.50634  ,  0.75804  ],\n",
              "        [ 0.61578  ,  0.7288   ],\n",
              "        [ 0.60426  ,  0.59722  ],\n",
              "        [ 0.76555  ,  0.50219  ],\n",
              "        [ 0.92684  ,  0.3633   ],\n",
              "        [ 0.82316  ,  0.27558  ],\n",
              "        [ 0.96141  ,  0.085526 ],\n",
              "        [ 0.93836  ,  0.012427 ],\n",
              "        [ 0.86348  , -0.082602 ],\n",
              "        [ 0.89804  , -0.20687  ],\n",
              "        [ 0.85196  , -0.36769  ],\n",
              "        [ 0.82892  , -0.5212   ],\n",
              "        [ 0.79435  , -0.55775  ],\n",
              "        [ 0.59274  , -0.7405   ],\n",
              "        [ 0.51786  , -0.5943   ],\n",
              "        [ 0.46601  , -0.41886  ],\n",
              "        [ 0.35081  , -0.57968  ],\n",
              "        [ 0.28744  , -0.76974  ],\n",
              "        [ 0.085829 , -0.75512  ],\n",
              "        [ 0.14919  , -0.57968  ],\n",
              "        [-0.13306  , -0.4481   ],\n",
              "        [-0.40956  , -0.41155  ],\n",
              "        [-0.39228  , -0.25804  ],\n",
              "        [-0.74366  , -0.25804  ],\n",
              "        [-0.69758  ,  0.041667 ],\n",
              "        [-0.75518  ,  0.2902   ],\n",
              "        [-0.69758  ,  0.68494  ],\n",
              "        [-0.4038   ,  0.70687  ],\n",
              "        [-0.38076  ,  0.91886  ],\n",
              "        [-0.50749  ,  0.90424  ],\n",
              "        [-0.54781  ,  0.70687  ],\n",
              "        [ 0.10311  ,  0.77997  ],\n",
              "        [ 0.057028 ,  0.91886  ],\n",
              "        [-0.10426  ,  0.99196  ],\n",
              "        [-0.081221 ,  1.1089   ],\n",
              "        [ 0.28744  ,  1.087    ],\n",
              "        [ 0.39689  ,  0.82383  ],\n",
              "        [ 0.63882  ,  0.88962  ],\n",
              "        [ 0.82316  ,  0.66301  ],\n",
              "        [ 0.67339  ,  0.64108  ],\n",
              "        [ 1.0709   ,  0.10015  ],\n",
              "        [-0.046659 , -0.57968  ],\n",
              "        [-0.23675  , -0.63816  ],\n",
              "        [-0.15035  , -0.36769  ],\n",
              "        [-0.49021  , -0.3019   ],\n",
              "        [-0.46717  , -0.13377  ],\n",
              "        [-0.28859  , -0.060673 ],\n",
              "        [-0.61118  , -0.067982 ],\n",
              "        [-0.66302  , -0.21418  ],\n",
              "        [-0.59965  , -0.41886  ],\n",
              "        [-0.72638  , -0.082602 ],\n",
              "        [-0.83007  ,  0.31213  ],\n",
              "        [-0.72062  ,  0.53874  ],\n",
              "        [-0.59389  ,  0.49488  ],\n",
              "        [-0.48445  ,  0.99927  ],\n",
              "        [-0.0063364,  0.99927  ],\n",
              "        [ 0.63265  , -0.030612 ]]),\n",
              " array([1., 1., 1., 1., 1., 1., 1., 1., 1., 1., 1., 1., 1., 1., 1., 1., 1.,\n",
              "        1., 1., 1., 1., 1., 1., 1., 1., 1., 1., 1., 1., 1., 1., 1., 1., 1.,\n",
              "        1., 1., 1., 1., 1., 1., 1., 1., 1., 1., 1., 1., 1., 1., 1., 1., 1.,\n",
              "        1., 1., 1., 1., 1., 1., 1., 0., 0., 0., 0., 0., 0., 0., 0., 0., 0.,\n",
              "        0., 0., 0., 0., 0., 0., 0., 0., 0., 0., 0., 0., 0., 0., 0., 0., 0.,\n",
              "        0., 0., 0., 0., 0., 0., 0., 0., 0., 0., 0., 0., 0., 0., 0., 0., 0.,\n",
              "        0., 0., 0., 0., 0., 0., 0., 0., 0., 0., 0., 0., 0., 0., 0., 0.]))"
            ]
          },
          "metadata": {
            "tags": []
          },
          "execution_count": 69
        }
      ]
    },
    {
      "cell_type": "code",
      "metadata": {
        "id": "KYRtDyyd52gD"
      },
      "source": [
        "# Splitting the dataset into the Training set and Test set\n",
        "from sklearn.model_selection import train_test_split\n",
        "x_train, x_test, y_train, y_test = train_test_split(x, y, test_size = 0.25) "
      ],
      "execution_count": 70,
      "outputs": []
    },
    {
      "cell_type": "code",
      "metadata": {
        "id": "2uM5ZRl452ij"
      },
      "source": [
        "#Fitting DT classifier to Training Set\n",
        "from sklearn.tree import DecisionTreeClassifier\n",
        "model= DecisionTreeClassifier()"
      ],
      "execution_count": 71,
      "outputs": []
    },
    {
      "cell_type": "code",
      "metadata": {
        "colab": {
          "base_uri": "https://localhost:8080/"
        },
        "id": "Ce0174J852ko",
        "outputId": "1e093f80-0682-447b-a159-52ae7e88cab0"
      },
      "source": [
        "model.fit(x_train,y_train)"
      ],
      "execution_count": 72,
      "outputs": [
        {
          "output_type": "execute_result",
          "data": {
            "text/plain": [
              "DecisionTreeClassifier(ccp_alpha=0.0, class_weight=None, criterion='gini',\n",
              "                       max_depth=None, max_features=None, max_leaf_nodes=None,\n",
              "                       min_impurity_decrease=0.0, min_impurity_split=None,\n",
              "                       min_samples_leaf=1, min_samples_split=2,\n",
              "                       min_weight_fraction_leaf=0.0, presort='deprecated',\n",
              "                       random_state=None, splitter='best')"
            ]
          },
          "metadata": {
            "tags": []
          },
          "execution_count": 72
        }
      ]
    },
    {
      "cell_type": "code",
      "metadata": {
        "colab": {
          "base_uri": "https://localhost:8080/"
        },
        "id": "UtnTfCsj52m0",
        "outputId": "1a82e429-5bff-415a-883c-16ad792460da"
      },
      "source": [
        "#Predicting the Test Set Results\n",
        "y_pred = model.predict(x_test)\n",
        "y_pred"
      ],
      "execution_count": 73,
      "outputs": [
        {
          "output_type": "execute_result",
          "data": {
            "text/plain": [
              "array([1., 0., 1., 1., 0., 0., 0., 1., 0., 1., 1., 0., 1., 1., 0., 1., 0.,\n",
              "       1., 0., 0., 1., 1., 0., 1., 0., 1., 1., 0., 0., 1.])"
            ]
          },
          "metadata": {
            "tags": []
          },
          "execution_count": 73
        }
      ]
    },
    {
      "cell_type": "code",
      "metadata": {
        "colab": {
          "base_uri": "https://localhost:8080/"
        },
        "id": "u_vkzN466L-9",
        "outputId": "cd4b1bef-3ab0-4288-a631-d73e47ca99f8"
      },
      "source": [
        "from sklearn.metrics import confusion_matrix\n",
        "cm = confusion_matrix(y_test,y_pred)\n",
        "cm"
      ],
      "execution_count": 74,
      "outputs": [
        {
          "output_type": "execute_result",
          "data": {
            "text/plain": [
              "array([[ 8,  6],\n",
              "       [ 6, 10]])"
            ]
          },
          "metadata": {
            "tags": []
          },
          "execution_count": 74
        }
      ]
    },
    {
      "cell_type": "code",
      "metadata": {
        "colab": {
          "base_uri": "https://localhost:8080/",
          "height": 287
        },
        "id": "xmHDof_Z6O_d",
        "outputId": "d98ce4c1-d0b7-4543-c64c-90d3b12ec3f6"
      },
      "source": [
        "import seaborn as sn\n",
        "sn.heatmap(cm, annot=True)"
      ],
      "execution_count": 78,
      "outputs": [
        {
          "output_type": "execute_result",
          "data": {
            "text/plain": [
              "<matplotlib.axes._subplots.AxesSubplot at 0x7f9b50b54290>"
            ]
          },
          "metadata": {
            "tags": []
          },
          "execution_count": 78
        },
        {
          "output_type": "display_data",
          "data": {
            "image/png": "[encoded data removed]",
            "text/plain": [
              "<Figure size 432x288 with 2 Axes>"
            ]
          },
          "metadata": {
            "tags": [],
            "needs_background": "light"
          }
        }
      ]
    },
    {
      "cell_type": "markdown",
      "metadata": {
        "id": "QJYQOhI36qPW"
      },
      "source": [
        "**Random Forest**"
      ]
    },
    {
      "cell_type": "code",
      "metadata": {
        "colab": {
          "base_uri": "https://localhost:8080/"
        },
        "id": "dmtGz4qK6pFh",
        "outputId": "c77cdd7e-0151-4c70-cf12-827bc46da4a6"
      },
      "source": [
        "import numpy as np\n",
        "import pandas as pd\n",
        "import matplotlib.pyplot as plt\n",
        "\n",
        "df = pd.read_csv('Salary_Data-1.csv').values\n",
        "df"
      ],
      "execution_count": 81,
      "outputs": [
        {
          "output_type": "execute_result",
          "data": {
            "text/plain": [
              "array([[1.10000e+00, 3.93430e+04],\n",
              "       [1.30000e+00, 4.62050e+04],\n",
              "       [1.50000e+00, 3.77310e+04],\n",
              "       [2.00000e+00, 4.35250e+04],\n",
              "       [2.20000e+00, 3.98910e+04],\n",
              "       [2.90000e+00, 5.66420e+04],\n",
              "       [3.00000e+00, 6.01500e+04],\n",
              "       [3.20000e+00, 5.44450e+04],\n",
              "       [3.20000e+00, 6.44450e+04],\n",
              "       [3.70000e+00, 5.71890e+04],\n",
              "       [3.90000e+00, 6.32180e+04],\n",
              "       [4.00000e+00, 5.57940e+04],\n",
              "       [4.00000e+00, 5.69570e+04],\n",
              "       [4.10000e+00, 5.70810e+04],\n",
              "       [4.50000e+00, 6.11110e+04],\n",
              "       [4.90000e+00, 6.79380e+04],\n",
              "       [5.10000e+00, 6.60290e+04],\n",
              "       [5.30000e+00, 8.30880e+04],\n",
              "       [5.90000e+00, 8.13630e+04],\n",
              "       [6.00000e+00, 9.39400e+04],\n",
              "       [6.80000e+00, 9.17380e+04],\n",
              "       [7.10000e+00, 9.82730e+04],\n",
              "       [7.90000e+00, 1.01302e+05],\n",
              "       [8.20000e+00, 1.13812e+05],\n",
              "       [8.70000e+00, 1.09431e+05],\n",
              "       [9.00000e+00, 1.05582e+05],\n",
              "       [9.50000e+00, 1.16969e+05],\n",
              "       [9.60000e+00, 1.12635e+05],\n",
              "       [1.03000e+01, 1.22391e+05],\n",
              "       [1.05000e+01, 1.21872e+05]])"
            ]
          },
          "metadata": {
            "tags": []
          },
          "execution_count": 81
        }
      ]
    },
    {
      "cell_type": "code",
      "metadata": {
        "colab": {
          "base_uri": "https://localhost:8080/"
        },
        "id": "N-a0RhTl7lGr",
        "outputId": "f779cf8d-87c4-43fc-e693-b899ea71096b"
      },
      "source": [
        "x = df[:, :-1]\n",
        "y = df[:, -1]\n",
        "x, y"
      ],
      "execution_count": 82,
      "outputs": [
        {
          "output_type": "execute_result",
          "data": {
            "text/plain": [
              "(array([[ 1.1],\n",
              "        [ 1.3],\n",
              "        [ 1.5],\n",
              "        [ 2. ],\n",
              "        [ 2.2],\n",
              "        [ 2.9],\n",
              "        [ 3. ],\n",
              "        [ 3.2],\n",
              "        [ 3.2],\n",
              "        [ 3.7],\n",
              "        [ 3.9],\n",
              "        [ 4. ],\n",
              "        [ 4. ],\n",
              "        [ 4.1],\n",
              "        [ 4.5],\n",
              "        [ 4.9],\n",
              "        [ 5.1],\n",
              "        [ 5.3],\n",
              "        [ 5.9],\n",
              "        [ 6. ],\n",
              "        [ 6.8],\n",
              "        [ 7.1],\n",
              "        [ 7.9],\n",
              "        [ 8.2],\n",
              "        [ 8.7],\n",
              "        [ 9. ],\n",
              "        [ 9.5],\n",
              "        [ 9.6],\n",
              "        [10.3],\n",
              "        [10.5]]),\n",
              " array([ 39343.,  46205.,  37731.,  43525.,  39891.,  56642.,  60150.,\n",
              "         54445.,  64445.,  57189.,  63218.,  55794.,  56957.,  57081.,\n",
              "         61111.,  67938.,  66029.,  83088.,  81363.,  93940.,  91738.,\n",
              "         98273., 101302., 113812., 109431., 105582., 116969., 112635.,\n",
              "        122391., 121872.]))"
            ]
          },
          "metadata": {
            "tags": []
          },
          "execution_count": 82
        }
      ]
    },
    {
      "cell_type": "code",
      "metadata": {
        "colab": {
          "base_uri": "https://localhost:8080/",
          "height": 283
        },
        "id": "YYNCythV7pa3",
        "outputId": "9a34778d-77db-4b72-ad24-64cb42a08448"
      },
      "source": [
        "plt.scatter(x,y)"
      ],
      "execution_count": 83,
      "outputs": [
        {
          "output_type": "execute_result",
          "data": {
            "text/plain": [
              "<matplotlib.collections.PathCollection at 0x7f9b50ac5150>"
            ]
          },
          "metadata": {
            "tags": []
          },
          "execution_count": 83
        },
        {
          "output_type": "display_data",
          "data": {
            "image/png": "[encoded data removed]",
            "text/plain": [
              "<Figure size 432x288 with 1 Axes>"
            ]
          },
          "metadata": {
            "tags": [],
            "needs_background": "light"
          }
        }
      ]
    },
    {
      "cell_type": "code",
      "metadata": {
        "id": "_dI1Y0Ra7u6H"
      },
      "source": [
        "from sklearn.ensemble import RandomForestRegressor"
      ],
      "execution_count": 88,
      "outputs": []
    },
    {
      "cell_type": "code",
      "metadata": {
        "id": "EmSmlMka73Ln"
      },
      "source": [
        "model = RandomForestRegressor(n_estimators=50)"
      ],
      "execution_count": 89,
      "outputs": []
    },
    {
      "cell_type": "code",
      "metadata": {
        "colab": {
          "base_uri": "https://localhost:8080/"
        },
        "id": "xPTw5DGr7_G0",
        "outputId": "30a17077-f698-465d-daa8-46c4423da5ac"
      },
      "source": [
        "model.fit(x,y)"
      ],
      "execution_count": 93,
      "outputs": [
        {
          "output_type": "execute_result",
          "data": {
            "text/plain": [
              "RandomForestRegressor(bootstrap=True, ccp_alpha=0.0, criterion='mse',\n",
              "                      max_depth=None, max_features='auto', max_leaf_nodes=None,\n",
              "                      max_samples=None, min_impurity_decrease=0.0,\n",
              "                      min_impurity_split=None, min_samples_leaf=1,\n",
              "                      min_samples_split=2, min_weight_fraction_leaf=0.0,\n",
              "                      n_estimators=50, n_jobs=None, oob_score=False,\n",
              "                      random_state=None, verbose=0, warm_start=False)"
            ]
          },
          "metadata": {
            "tags": []
          },
          "execution_count": 93
        }
      ]
    },
    {
      "cell_type": "code",
      "metadata": {
        "colab": {
          "base_uri": "https://localhost:8080/"
        },
        "id": "xWxr57mp8CSD",
        "outputId": "f5c31426-0188-4540-90f0-9fdce73da5d4"
      },
      "source": [
        "y_pred = model.predict(x)\n",
        "y_pred"
      ],
      "execution_count": 94,
      "outputs": [
        {
          "output_type": "execute_result",
          "data": {
            "text/plain": [
              "array([ 40796.44      ,  42992.28      ,  39248.04      ,  42073.44      ,\n",
              "        40401.8       ,  58353.93333333,  59616.81333333,  60445.07333333,\n",
              "        60445.07333333,  59387.04      ,  60774.625     ,  56962.596     ,\n",
              "        56962.596     ,  56996.66766667,  60036.75266667,  67834.42      ,\n",
              "        68905.34      ,  76348.12      ,  84498.84      ,  90798.44      ,\n",
              "        92811.42      ,  97017.04      , 103757.8       , 110305.16      ,\n",
              "       109526.76      , 108395.9       , 115075.14      , 113664.98      ,\n",
              "       120878.84      , 120702.38      ])"
            ]
          },
          "metadata": {
            "tags": []
          },
          "execution_count": 94
        }
      ]
    },
    {
      "cell_type": "code",
      "metadata": {
        "colab": {
          "base_uri": "https://localhost:8080/",
          "height": 283
        },
        "id": "bVxKB-8M8CVA",
        "outputId": "e0b1d902-eb74-4674-eb4c-f0005f60a230"
      },
      "source": [
        "plt.scatter(x,y)\n",
        "plt.plot(x,y_pred,color='red')"
      ],
      "execution_count": 96,
      "outputs": [
        {
          "output_type": "execute_result",
          "data": {
            "text/plain": [
              "[<matplotlib.lines.Line2D at 0x7f9b506e4490>]"
            ]
          },
          "metadata": {
            "tags": []
          },
          "execution_count": 96
        },
        {
          "output_type": "display_data",
          "data": {
            "image/png": "[encoded data removed]",
            "text/plain": [
              "<Figure size 432x288 with 1 Axes>"
            ]
          },
          "metadata": {
            "tags": [],
            "needs_background": "light"
          }
        }
      ]
    },
    {
      "cell_type": "code",
      "metadata": {
        "colab": {
          "base_uri": "https://localhost:8080/"
        },
        "id": "qOZon4ls8CYT",
        "outputId": "4d6b3892-16aa-48f5-d393-dda04df66e12"
      },
      "source": [
        "from sklearn.metrics import mean_squared_error, r2_score\n",
        "msc = mean_squared_error(y,y_pred)\n",
        "r2_score = r2_score(y,y_pred)\n",
        "print(\"Mean Squared Error = \",msc)\n",
        "print(\"r2 Score = \",r2_score)"
      ],
      "execution_count": 97,
      "outputs": [
        {
          "output_type": "stream",
          "text": [
            "Mean Squared Error =  6544927.477055134\n",
            "r2 Score =  0.9909911436641521\n"
          ],
          "name": "stdout"
        }
      ]
    },
    {
      "cell_type": "code",
      "metadata": {
        "id": "qZyc4lgf8CbV"
      },
      "source": [
        "import numpy as np\n",
        "import pandas as pd\n",
        "import matplotlib.pyplot as plt\n",
        "path = \"https://archive.ics.uci.edu/ml/machine-learning-databases/iris/iris.data\"\n"
      ],
      "execution_count": 98,
      "outputs": []
    },
    {
      "cell_type": "code",
      "metadata": {
        "id": "aAOSnW-y-gzu"
      },
      "source": [
        "headernames = ['sepal-length', 'sepal-width', 'petal-length', 'petal-width', 'Class']\n"
      ],
      "execution_count": 99,
      "outputs": []
    },
    {
      "cell_type": "code",
      "metadata": {
        "colab": {
          "base_uri": "https://localhost:8080/",
          "height": 204
        },
        "id": "YdAnQWgE-g2M",
        "outputId": "d5be674b-de7e-4b83-9bd5-0ac555d53725"
      },
      "source": [
        "dataset = pd.read_csv(path, names = headernames)\n",
        "dataset.head()"
      ],
      "execution_count": 100,
      "outputs": [
        {
          "output_type": "execute_result",
          "data": {
            "text/html": [
              "<div>\n",
              "<style scoped>\n",
              "    .dataframe tbody tr th:only-of-type {\n",
              "        vertical-align: middle;\n",
              "    }\n",
              "\n",
              "    .dataframe tbody tr th {\n",
              "        vertical-align: top;\n",
              "    }\n",
              "\n",
              "    .dataframe thead th {\n",
              "        text-align: right;\n",
              "    }\n",
              "</style>\n",
              "<table border=\"1\" class=\"dataframe\">\n",
              "  <thead>\n",
              "    <tr style=\"text-align: right;\">\n",
              "      <th></th>\n",
              "      <th>sepal-length</th>\n",
              "      <th>sepal-width</th>\n",
              "      <th>petal-length</th>\n",
              "      <th>petal-width</th>\n",
              "      <th>Class</th>\n",
              "    </tr>\n",
              "  </thead>\n",
              "  <tbody>\n",
              "    <tr>\n",
              "      <th>0</th>\n",
              "      <td>5.1</td>\n",
              "      <td>3.5</td>\n",
              "      <td>1.4</td>\n",
              "      <td>0.2</td>\n",
              "      <td>Iris-setosa</td>\n",
              "    </tr>\n",
              "    <tr>\n",
              "      <th>1</th>\n",
              "      <td>4.9</td>\n",
              "      <td>3.0</td>\n",
              "      <td>1.4</td>\n",
              "      <td>0.2</td>\n",
              "      <td>Iris-setosa</td>\n",
              "    </tr>\n",
              "    <tr>\n",
              "      <th>2</th>\n",
              "      <td>4.7</td>\n",
              "      <td>3.2</td>\n",
              "      <td>1.3</td>\n",
              "      <td>0.2</td>\n",
              "      <td>Iris-setosa</td>\n",
              "    </tr>\n",
              "    <tr>\n",
              "      <th>3</th>\n",
              "      <td>4.6</td>\n",
              "      <td>3.1</td>\n",
              "      <td>1.5</td>\n",
              "      <td>0.2</td>\n",
              "      <td>Iris-setosa</td>\n",
              "    </tr>\n",
              "    <tr>\n",
              "      <th>4</th>\n",
              "      <td>5.0</td>\n",
              "      <td>3.6</td>\n",
              "      <td>1.4</td>\n",
              "      <td>0.2</td>\n",
              "      <td>Iris-setosa</td>\n",
              "    </tr>\n",
              "  </tbody>\n",
              "</table>\n",
              "</div>"
            ],
            "text/plain": [
              "   sepal-length  sepal-width  petal-length  petal-width        Class\n",
              "0           5.1          3.5           1.4          0.2  Iris-setosa\n",
              "1           4.9          3.0           1.4          0.2  Iris-setosa\n",
              "2           4.7          3.2           1.3          0.2  Iris-setosa\n",
              "3           4.6          3.1           1.5          0.2  Iris-setosa\n",
              "4           5.0          3.6           1.4          0.2  Iris-setosa"
            ]
          },
          "metadata": {
            "tags": []
          },
          "execution_count": 100
        }
      ]
    },
    {
      "cell_type": "code",
      "metadata": {
        "id": "4SN80zPf-g4c"
      },
      "source": [
        "X = dataset.iloc[:, :-1].values\n",
        "y = dataset.iloc[:, 4].values"
      ],
      "execution_count": 101,
      "outputs": []
    },
    {
      "cell_type": "code",
      "metadata": {
        "id": "V49CS_VJ-g62"
      },
      "source": [
        "from sklearn.model_selection import train_test_split\n",
        "X_train, X_test, y_train, y_test = train_test_split(X, y, test_size = 0.30)"
      ],
      "execution_count": 102,
      "outputs": []
    },
    {
      "cell_type": "code",
      "metadata": {
        "colab": {
          "base_uri": "https://localhost:8080/"
        },
        "id": "ISjLje55-g84",
        "outputId": "67c64c2a-809f-4003-c43c-eccf2152069c"
      },
      "source": [
        "from sklearn.ensemble import RandomForestClassifier\n",
        "classifier = RandomForestClassifier(n_estimators = 50)\n",
        "classifier.fit(X_train, y_train)"
      ],
      "execution_count": 103,
      "outputs": [
        {
          "output_type": "execute_result",
          "data": {
            "text/plain": [
              "RandomForestClassifier(bootstrap=True, ccp_alpha=0.0, class_weight=None,\n",
              "                       criterion='gini', max_depth=None, max_features='auto',\n",
              "                       max_leaf_nodes=None, max_samples=None,\n",
              "                       min_impurity_decrease=0.0, min_impurity_split=None,\n",
              "                       min_samples_leaf=1, min_samples_split=2,\n",
              "                       min_weight_fraction_leaf=0.0, n_estimators=50,\n",
              "                       n_jobs=None, oob_score=False, random_state=None,\n",
              "                       verbose=0, warm_start=False)"
            ]
          },
          "metadata": {
            "tags": []
          },
          "execution_count": 103
        }
      ]
    },
    {
      "cell_type": "code",
      "metadata": {
        "colab": {
          "base_uri": "https://localhost:8080/"
        },
        "id": "BnBy3TCa-g_B",
        "outputId": "f1eb317a-430c-425b-e096-aa69c509d192"
      },
      "source": [
        "y_pred = classifier.predict(X_test)\n",
        "y_pred"
      ],
      "execution_count": 104,
      "outputs": [
        {
          "output_type": "execute_result",
          "data": {
            "text/plain": [
              "array(['Iris-virginica', 'Iris-versicolor', 'Iris-setosa', 'Iris-setosa',\n",
              "       'Iris-setosa', 'Iris-setosa', 'Iris-setosa', 'Iris-setosa',\n",
              "       'Iris-virginica', 'Iris-setosa', 'Iris-virginica', 'Iris-setosa',\n",
              "       'Iris-versicolor', 'Iris-versicolor', 'Iris-virginica',\n",
              "       'Iris-versicolor', 'Iris-virginica', 'Iris-virginica',\n",
              "       'Iris-virginica', 'Iris-setosa', 'Iris-virginica', 'Iris-setosa',\n",
              "       'Iris-setosa', 'Iris-setosa', 'Iris-setosa', 'Iris-virginica',\n",
              "       'Iris-versicolor', 'Iris-versicolor', 'Iris-versicolor',\n",
              "       'Iris-versicolor', 'Iris-virginica', 'Iris-virginica',\n",
              "       'Iris-virginica', 'Iris-versicolor', 'Iris-setosa',\n",
              "       'Iris-virginica', 'Iris-virginica', 'Iris-virginica',\n",
              "       'Iris-versicolor', 'Iris-virginica', 'Iris-versicolor',\n",
              "       'Iris-versicolor', 'Iris-versicolor', 'Iris-setosa',\n",
              "       'Iris-virginica'], dtype=object)"
            ]
          },
          "metadata": {
            "tags": []
          },
          "execution_count": 104
        }
      ]
    },
    {
      "cell_type": "code",
      "metadata": {
        "colab": {
          "base_uri": "https://localhost:8080/"
        },
        "id": "3JHgPFDk-hAW",
        "outputId": "e88a88b2-72bf-4a63-e1ea-4d8a3707698c"
      },
      "source": [
        "from sklearn.metrics import classification_report, confusion_matrix, accuracy_score\n",
        "result = confusion_matrix(y_test, y_pred)\n",
        "print(\"Confusion Matrix:\")\n",
        "print(result)"
      ],
      "execution_count": 105,
      "outputs": [
        {
          "output_type": "stream",
          "text": [
            "Confusion Matrix:\n",
            "[[15  0  0]\n",
            " [ 0 12  1]\n",
            " [ 0  1 16]]\n"
          ],
          "name": "stdout"
        }
      ]
    },
    {
      "cell_type": "code",
      "metadata": {
        "colab": {
          "base_uri": "https://localhost:8080/"
        },
        "id": "qU95S6TG-3E8",
        "outputId": "2927e079-0816-46c3-c7a8-e87b700f479a"
      },
      "source": [
        "result1 = classification_report(y_test, y_pred)\n",
        "print(\"Classification Report:\",)\n",
        "print (result1)"
      ],
      "execution_count": 106,
      "outputs": [
        {
          "output_type": "stream",
          "text": [
            "Classification Report:\n",
            "                 precision    recall  f1-score   support\n",
            "\n",
            "    Iris-setosa       1.00      1.00      1.00        15\n",
            "Iris-versicolor       0.92      0.92      0.92        13\n",
            " Iris-virginica       0.94      0.94      0.94        17\n",
            "\n",
            "       accuracy                           0.96        45\n",
            "      macro avg       0.95      0.95      0.95        45\n",
            "   weighted avg       0.96      0.96      0.96        45\n",
            "\n"
          ],
          "name": "stdout"
        }
      ]
    },
    {
      "cell_type": "code",
      "metadata": {
        "colab": {
          "base_uri": "https://localhost:8080/"
        },
        "id": "xKHca6ON-3Hu",
        "outputId": "4d80942c-1568-4c72-dd18-0a8e9f78300a"
      },
      "source": [
        "result2 = accuracy_score(y_test,y_pred)\n",
        "print(\"Accuracy:\",result2)"
      ],
      "execution_count": 107,
      "outputs": [
        {
          "output_type": "stream",
          "text": [
            "Accuracy: 0.9555555555555556\n"
          ],
          "name": "stdout"
        }
      ]
    },
    {
      "cell_type": "code",
      "metadata": {
        "colab": {
          "base_uri": "https://localhost:8080/"
        },
        "id": "RrHtwjIV-3KD",
        "outputId": "bdef37f3-a62e-4634-f6bc-e69f4fa1cbdc"
      },
      "source": [
        "import numpy as np\n",
        "import pandas as pd\n",
        "import matplotlib.pyplot as plt\n",
        "df = pd.read_csv('Chip_test.csv').values\n",
        "x = df[:, 0:2]\n",
        "y = df[:, -1]\n",
        "x, y"
      ],
      "execution_count": 109,
      "outputs": [
        {
          "output_type": "execute_result",
          "data": {
            "text/plain": [
              "(array([[ 0.051267 ,  0.69956  ],\n",
              "        [-0.092742 ,  0.68494  ],\n",
              "        [-0.21371  ,  0.69225  ],\n",
              "        [-0.375    ,  0.50219  ],\n",
              "        [-0.51325  ,  0.46564  ],\n",
              "        [-0.52477  ,  0.2098   ],\n",
              "        [-0.39804  ,  0.034357 ],\n",
              "        [-0.30588  , -0.19225  ],\n",
              "        [ 0.016705 , -0.40424  ],\n",
              "        [ 0.13191  , -0.51389  ],\n",
              "        [ 0.38537  , -0.56506  ],\n",
              "        [ 0.52938  , -0.5212   ],\n",
              "        [ 0.63882  , -0.24342  ],\n",
              "        [ 0.73675  , -0.18494  ],\n",
              "        [ 0.54666  ,  0.48757  ],\n",
              "        [ 0.322    ,  0.5826   ],\n",
              "        [ 0.16647  ,  0.53874  ],\n",
              "        [-0.046659 ,  0.81652  ],\n",
              "        [-0.17339  ,  0.69956  ],\n",
              "        [-0.47869  ,  0.63377  ],\n",
              "        [-0.60541  ,  0.59722  ],\n",
              "        [-0.62846  ,  0.33406  ],\n",
              "        [-0.59389  ,  0.005117 ],\n",
              "        [-0.42108  , -0.27266  ],\n",
              "        [-0.11578  , -0.39693  ],\n",
              "        [ 0.20104  , -0.60161  ],\n",
              "        [ 0.46601  , -0.53582  ],\n",
              "        [ 0.67339  , -0.53582  ],\n",
              "        [-0.13882  ,  0.54605  ],\n",
              "        [-0.29435  ,  0.77997  ],\n",
              "        [-0.26555  ,  0.96272  ],\n",
              "        [-0.16187  ,  0.8019   ],\n",
              "        [-0.17339  ,  0.64839  ],\n",
              "        [-0.28283  ,  0.47295  ],\n",
              "        [-0.36348  ,  0.31213  ],\n",
              "        [-0.30012  ,  0.027047 ],\n",
              "        [-0.23675  , -0.21418  ],\n",
              "        [-0.06394  , -0.18494  ],\n",
              "        [ 0.062788 , -0.16301  ],\n",
              "        [ 0.22984  , -0.41155  ],\n",
              "        [ 0.2932   , -0.2288   ],\n",
              "        [ 0.48329  , -0.18494  ],\n",
              "        [ 0.64459  , -0.14108  ],\n",
              "        [ 0.46025  ,  0.012427 ],\n",
              "        [ 0.6273   ,  0.15863  ],\n",
              "        [ 0.57546  ,  0.26827  ],\n",
              "        [ 0.72523  ,  0.44371  ],\n",
              "        [ 0.22408  ,  0.52412  ],\n",
              "        [ 0.44297  ,  0.67032  ],\n",
              "        [ 0.322    ,  0.69225  ],\n",
              "        [ 0.13767  ,  0.57529  ],\n",
              "        [-0.0063364,  0.39985  ],\n",
              "        [-0.092742 ,  0.55336  ],\n",
              "        [-0.20795  ,  0.35599  ],\n",
              "        [-0.20795  ,  0.17325  ],\n",
              "        [-0.43836  ,  0.21711  ],\n",
              "        [-0.21947  , -0.016813 ],\n",
              "        [-0.13882  , -0.27266  ],\n",
              "        [ 0.18376  ,  0.93348  ],\n",
              "        [ 0.22408  ,  0.77997  ],\n",
              "        [ 0.29896  ,  0.61915  ],\n",
              "        [ 0.50634  ,  0.75804  ],\n",
              "        [ 0.61578  ,  0.7288   ],\n",
              "        [ 0.60426  ,  0.59722  ],\n",
              "        [ 0.76555  ,  0.50219  ],\n",
              "        [ 0.92684  ,  0.3633   ],\n",
              "        [ 0.82316  ,  0.27558  ],\n",
              "        [ 0.96141  ,  0.085526 ],\n",
              "        [ 0.93836  ,  0.012427 ],\n",
              "        [ 0.86348  , -0.082602 ],\n",
              "        [ 0.89804  , -0.20687  ],\n",
              "        [ 0.85196  , -0.36769  ],\n",
              "        [ 0.82892  , -0.5212   ],\n",
              "        [ 0.79435  , -0.55775  ],\n",
              "        [ 0.59274  , -0.7405   ],\n",
              "        [ 0.51786  , -0.5943   ],\n",
              "        [ 0.46601  , -0.41886  ],\n",
              "        [ 0.35081  , -0.57968  ],\n",
              "        [ 0.28744  , -0.76974  ],\n",
              "        [ 0.085829 , -0.75512  ],\n",
              "        [ 0.14919  , -0.57968  ],\n",
              "        [-0.13306  , -0.4481   ],\n",
              "        [-0.40956  , -0.41155  ],\n",
              "        [-0.39228  , -0.25804  ],\n",
              "        [-0.74366  , -0.25804  ],\n",
              "        [-0.69758  ,  0.041667 ],\n",
              "        [-0.75518  ,  0.2902   ],\n",
              "        [-0.69758  ,  0.68494  ],\n",
              "        [-0.4038   ,  0.70687  ],\n",
              "        [-0.38076  ,  0.91886  ],\n",
              "        [-0.50749  ,  0.90424  ],\n",
              "        [-0.54781  ,  0.70687  ],\n",
              "        [ 0.10311  ,  0.77997  ],\n",
              "        [ 0.057028 ,  0.91886  ],\n",
              "        [-0.10426  ,  0.99196  ],\n",
              "        [-0.081221 ,  1.1089   ],\n",
              "        [ 0.28744  ,  1.087    ],\n",
              "        [ 0.39689  ,  0.82383  ],\n",
              "        [ 0.63882  ,  0.88962  ],\n",
              "        [ 0.82316  ,  0.66301  ],\n",
              "        [ 0.67339  ,  0.64108  ],\n",
              "        [ 1.0709   ,  0.10015  ],\n",
              "        [-0.046659 , -0.57968  ],\n",
              "        [-0.23675  , -0.63816  ],\n",
              "        [-0.15035  , -0.36769  ],\n",
              "        [-0.49021  , -0.3019   ],\n",
              "        [-0.46717  , -0.13377  ],\n",
              "        [-0.28859  , -0.060673 ],\n",
              "        [-0.61118  , -0.067982 ],\n",
              "        [-0.66302  , -0.21418  ],\n",
              "        [-0.59965  , -0.41886  ],\n",
              "        [-0.72638  , -0.082602 ],\n",
              "        [-0.83007  ,  0.31213  ],\n",
              "        [-0.72062  ,  0.53874  ],\n",
              "        [-0.59389  ,  0.49488  ],\n",
              "        [-0.48445  ,  0.99927  ],\n",
              "        [-0.0063364,  0.99927  ],\n",
              "        [ 0.63265  , -0.030612 ]]),\n",
              " array([1., 1., 1., 1., 1., 1., 1., 1., 1., 1., 1., 1., 1., 1., 1., 1., 1.,\n",
              "        1., 1., 1., 1., 1., 1., 1., 1., 1., 1., 1., 1., 1., 1., 1., 1., 1.,\n",
              "        1., 1., 1., 1., 1., 1., 1., 1., 1., 1., 1., 1., 1., 1., 1., 1., 1.,\n",
              "        1., 1., 1., 1., 1., 1., 1., 0., 0., 0., 0., 0., 0., 0., 0., 0., 0.,\n",
              "        0., 0., 0., 0., 0., 0., 0., 0., 0., 0., 0., 0., 0., 0., 0., 0., 0.,\n",
              "        0., 0., 0., 0., 0., 0., 0., 0., 0., 0., 0., 0., 0., 0., 0., 0., 0.,\n",
              "        0., 0., 0., 0., 0., 0., 0., 0., 0., 0., 0., 0., 0., 0., 0., 0.]))"
            ]
          },
          "metadata": {
            "tags": []
          },
          "execution_count": 109
        }
      ]
    },
    {
      "cell_type": "code",
      "metadata": {
        "colab": {
          "base_uri": "https://localhost:8080/"
        },
        "id": "dz7MIHid_Dsr",
        "outputId": "e2b0e043-b198-41ac-cd35-99926b80d338"
      },
      "source": [
        "x.shape"
      ],
      "execution_count": 110,
      "outputs": [
        {
          "output_type": "execute_result",
          "data": {
            "text/plain": [
              "(118, 2)"
            ]
          },
          "metadata": {
            "tags": []
          },
          "execution_count": 110
        }
      ]
    },
    {
      "cell_type": "code",
      "metadata": {
        "id": "9AouhaIx_Dwl"
      },
      "source": [
        "from sklearn.model_selection import train_test_split\n",
        "x_train, x_test, y_train, y_test = train_test_split(x, y, test_size = 0.25) "
      ],
      "execution_count": 111,
      "outputs": []
    },
    {
      "cell_type": "code",
      "metadata": {
        "id": "lO0mMEOt_Dzr"
      },
      "source": [
        "from sklearn.preprocessing import StandardScaler\n",
        "sc_x = StandardScaler()\n",
        "x_train = sc_x.fit_transform(x_train)\n",
        "x_test = sc_x.transform(x_test)"
      ],
      "execution_count": null,
      "outputs": []
    },
    {
      "cell_type": "code",
      "metadata": {
        "colab": {
          "base_uri": "https://localhost:8080/"
        },
        "id": "DHphI2Os_D1v",
        "outputId": "4ba73e07-7a95-420b-ccb7-aad56082032f"
      },
      "source": [
        "from sklearn.ensemble import RandomForestClassifier\n",
        "classifier = RandomForestClassifier(n_estimators = 100, criterion = 'entropy', random_state = 0)\n",
        "classifier.fit(x_train,y_train)"
      ],
      "execution_count": 112,
      "outputs": [
        {
          "output_type": "execute_result",
          "data": {
            "text/plain": [
              "RandomForestClassifier(bootstrap=True, ccp_alpha=0.0, class_weight=None,\n",
              "                       criterion='entropy', max_depth=None, max_features='auto',\n",
              "                       max_leaf_nodes=None, max_samples=None,\n",
              "                       min_impurity_decrease=0.0, min_impurity_split=None,\n",
              "                       min_samples_leaf=1, min_samples_split=2,\n",
              "                       min_weight_fraction_leaf=0.0, n_estimators=100,\n",
              "                       n_jobs=None, oob_score=False, random_state=0, verbose=0,\n",
              "                       warm_start=False)"
            ]
          },
          "metadata": {
            "tags": []
          },
          "execution_count": 112
        }
      ]
    },
    {
      "cell_type": "code",
      "metadata": {
        "id": "PRPMURDN_D32"
      },
      "source": [
        "y_pred = classifier.predict(x_test)"
      ],
      "execution_count": 113,
      "outputs": []
    },
    {
      "cell_type": "code",
      "metadata": {
        "colab": {
          "base_uri": "https://localhost:8080/"
        },
        "id": "_RTxPQfK_D54",
        "outputId": "31b6cdf5-c158-4377-ecd0-f1f98834536e"
      },
      "source": [
        "from sklearn.metrics import confusion_matrix\n",
        "cm = confusion_matrix(y_test,y_pred)\n",
        "cm"
      ],
      "execution_count": 114,
      "outputs": [
        {
          "output_type": "execute_result",
          "data": {
            "text/plain": [
              "array([[11,  5],\n",
              "       [ 4, 10]])"
            ]
          },
          "metadata": {
            "tags": []
          },
          "execution_count": 114
        }
      ]
    },
    {
      "cell_type": "code",
      "metadata": {
        "colab": {
          "base_uri": "https://localhost:8080/",
          "height": 336
        },
        "id": "c4borsQv_obV",
        "outputId": "6ce86f4b-6b11-4b7a-ab97-e7b68d66e830"
      },
      "source": [
        "#Visualizing the Training Set Results\n",
        "from matplotlib.colors import ListedColormap\n",
        "x_set , y_set = x_train ,y_train\n",
        "x1, x2 = np.meshgrid(np.arange(start = x_set[:,0].min()-1,stop =x_set[:,0].max()+1,step=0.01),\n",
        "                    np.arange(start = x_set[:,1].min()-1,stop =x_set[:,1].max()+1,step=0.01))\n",
        "plt.contour(x1,x2,classifier.predict(np.array([x1.ravel(),x2.ravel()]).T).reshape(x1.shape),\n",
        "            alpha= 0.75 ,cmap = ListedColormap(('red','green')))\n",
        "plt.xlim(x1.min() ,x1.max())\n",
        "plt.ylim(x2.min() ,x2.max())\n",
        "for i,j in enumerate(np.unique(y_set)):\n",
        "    plt.scatter(x_set[y_set == j ,0], x_set[y_set == j,1],\n",
        "                c= ListedColormap(('red' , 'green'))(i) , label = j)\n",
        "plt.title('(Training Set)')\n",
        "\n",
        "plt.legend()\n",
        "plt.show()"
      ],
      "execution_count": 115,
      "outputs": [
        {
          "output_type": "stream",
          "text": [
            "*c* argument looks like a single numeric RGB or RGBA sequence, which should be avoided as value-mapping will have precedence in case its length matches with *x* & *y*.  Please use the *color* keyword-argument or provide a 2-D array with a single row if you intend to specify the same RGB or RGBA value for all points.\n",
            "*c* argument looks like a single numeric RGB or RGBA sequence, which should be avoided as value-mapping will have precedence in case its length matches with *x* & *y*.  Please use the *color* keyword-argument or provide a 2-D array with a single row if you intend to specify the same RGB or RGBA value for all points.\n"
          ],
          "name": "stderr"
        },
        {
          "output_type": "display_data",
          "data": {
            "image/png": "[encoded data removed]",
            "text/plain": [
              "<Figure size 432x288 with 1 Axes>"
            ]
          },
          "metadata": {
            "tags": [],
            "needs_background": "light"
          }
        }
      ]
    },
    {
      "cell_type": "code",
      "metadata": {
        "colab": {
          "base_uri": "https://localhost:8080/",
          "height": 354
        },
        "id": "p1hNo0M2_odh",
        "outputId": "4d914524-512d-47d4-9412-7f0ddab446c5"
      },
      "source": [
        "#Visualizing the Test Set Results\n",
        "from matplotlib.colors import ListedColormap\n",
        "x_set , y_set = x_test ,y_test\n",
        "x1, x2 = np.meshgrid(np.arange(start = x_set[:,0].min()-1,stop =x_set[:,0].max()+1,step=0.01),\n",
        "                    np.arange(start = x_set[:,1].min()-1,stop =x_set[:,1].max()+1,step=0.01))\n",
        "plt.contour(x1,x2,classifier.predict(np.array([x1.ravel(),x2.ravel()]).T).reshape(x1.shape),\n",
        "            alpha= 0.75 ,cmap = ListedColormap(('red','green')))\n",
        "plt.xlim(x1.min() ,x1.max())\n",
        "plt.ylim(x2.min() ,x2.max())\n",
        "for i,j in enumerate(np.unique(y_set)):\n",
        "    plt.scatter(x_set[y_set == j ,0], x_set[y_set == j,1],\n",
        "                c= ListedColormap(('red' , 'green'))(i) , label = j)\n",
        "plt.title('Test Set')\n",
        " \n",
        "plt.legend()"
      ],
      "execution_count": 116,
      "outputs": [
        {
          "output_type": "stream",
          "text": [
            "*c* argument looks like a single numeric RGB or RGBA sequence, which should be avoided as value-mapping will have precedence in case its length matches with *x* & *y*.  Please use the *color* keyword-argument or provide a 2-D array with a single row if you intend to specify the same RGB or RGBA value for all points.\n",
            "*c* argument looks like a single numeric RGB or RGBA sequence, which should be avoided as value-mapping will have precedence in case its length matches with *x* & *y*.  Please use the *color* keyword-argument or provide a 2-D array with a single row if you intend to specify the same RGB or RGBA value for all points.\n"
          ],
          "name": "stderr"
        },
        {
          "output_type": "execute_result",
          "data": {
            "text/plain": [
              "<matplotlib.legend.Legend at 0x7f9b4ff52450>"
            ]
          },
          "metadata": {
            "tags": []
          },
          "execution_count": 116
        },
        {
          "output_type": "display_data",
          "data": {
            "image/png": "[encoded data removed]",
            "text/plain": [
              "<Figure size 432x288 with 1 Axes>"
            ]
          },
          "metadata": {
            "tags": [],
            "needs_background": "light"
          }
        }
      ]
    },
    {
      "cell_type": "code",
      "metadata": {
        "colab": {
          "base_uri": "https://localhost:8080/"
        },
        "id": "36soEOX2_ofu",
        "outputId": "5e6be7ed-1078-4537-b60d-2184c7a3161c"
      },
      "source": [
        "import numpy as np\n",
        "import pandas as pd\n",
        "import matplotlib.pyplot as plt\n",
        "df = pd.read_csv('Ads.csv')\n",
        "x = df.iloc[:, [2, 3]].values\n",
        "y = df.iloc[:, 4].values\n",
        "x, y"
      ],
      "execution_count": 118,
      "outputs": [
        {
          "output_type": "execute_result",
          "data": {
            "text/plain": [
              "(array([[1.90e+01, 1.90e+04],\n",
              "        [3.50e+01, 2.00e+04],\n",
              "        [2.60e+01, 4.30e+04],\n",
              "        [2.70e+01, 5.70e+04],\n",
              "        [1.90e+01, 7.60e+04],\n",
              "        [2.70e+01, 5.80e+04],\n",
              "        [2.70e+01, 8.40e+04],\n",
              "        [3.20e+01, 1.50e+05],\n",
              "        [2.50e+01, 3.30e+04],\n",
              "        [3.50e+01, 6.50e+04],\n",
              "        [2.60e+01, 8.00e+04],\n",
              "        [2.60e+01, 5.20e+04],\n",
              "        [2.00e+01, 8.60e+04],\n",
              "        [3.20e+01, 1.80e+04],\n",
              "        [1.80e+01, 8.20e+04],\n",
              "        [2.90e+01, 8.00e+04],\n",
              "        [4.70e+01, 2.50e+04],\n",
              "        [4.50e+01, 2.60e+04],\n",
              "        [4.60e+01, 2.80e+04],\n",
              "        [4.80e+01, 2.90e+04],\n",
              "        [4.50e+01, 2.20e+04],\n",
              "        [4.70e+01, 4.90e+04],\n",
              "        [4.80e+01, 4.10e+04],\n",
              "        [4.50e+01, 2.20e+04],\n",
              "        [4.60e+01, 2.30e+04],\n",
              "        [4.70e+01, 2.00e+04],\n",
              "        [4.90e+01, 2.80e+04],\n",
              "        [4.70e+01, 3.00e+04],\n",
              "        [2.90e+01, 4.30e+04],\n",
              "        [3.10e+01, 1.80e+04],\n",
              "        [3.10e+01, 7.40e+04],\n",
              "        [2.70e+01, 1.37e+05],\n",
              "        [2.10e+01, 1.60e+04],\n",
              "        [2.80e+01, 4.40e+04],\n",
              "        [2.70e+01, 9.00e+04],\n",
              "        [3.50e+01, 2.70e+04],\n",
              "        [3.30e+01, 2.80e+04],\n",
              "        [3.00e+01, 4.90e+04],\n",
              "        [2.60e+01, 7.20e+04],\n",
              "        [2.70e+01, 3.10e+04],\n",
              "        [2.70e+01, 1.70e+04],\n",
              "        [3.30e+01, 5.10e+04],\n",
              "        [3.50e+01, 1.08e+05],\n",
              "        [3.00e+01, 1.50e+04],\n",
              "        [2.80e+01, 8.40e+04],\n",
              "        [2.30e+01, 2.00e+04],\n",
              "        [2.50e+01, 7.90e+04],\n",
              "        [2.70e+01, 5.40e+04],\n",
              "        [3.00e+01, 1.35e+05],\n",
              "        [3.10e+01, 8.90e+04],\n",
              "        [2.40e+01, 3.20e+04],\n",
              "        [1.80e+01, 4.40e+04],\n",
              "        [2.90e+01, 8.30e+04],\n",
              "        [3.50e+01, 2.30e+04],\n",
              "        [2.70e+01, 5.80e+04],\n",
              "        [2.40e+01, 5.50e+04],\n",
              "        [2.30e+01, 4.80e+04],\n",
              "        [2.80e+01, 7.90e+04],\n",
              "        [2.20e+01, 1.80e+04],\n",
              "        [3.20e+01, 1.17e+05],\n",
              "        [2.70e+01, 2.00e+04],\n",
              "        [2.50e+01, 8.70e+04],\n",
              "        [2.30e+01, 6.60e+04],\n",
              "        [3.20e+01, 1.20e+05],\n",
              "        [5.90e+01, 8.30e+04],\n",
              "        [2.40e+01, 5.80e+04],\n",
              "        [2.40e+01, 1.90e+04],\n",
              "        [2.30e+01, 8.20e+04],\n",
              "        [2.20e+01, 6.30e+04],\n",
              "        [3.10e+01, 6.80e+04],\n",
              "        [2.50e+01, 8.00e+04],\n",
              "        [2.40e+01, 2.70e+04],\n",
              "        [2.00e+01, 2.30e+04],\n",
              "        [3.30e+01, 1.13e+05],\n",
              "        [3.20e+01, 1.80e+04],\n",
              "        [3.40e+01, 1.12e+05],\n",
              "        [1.80e+01, 5.20e+04],\n",
              "        [2.20e+01, 2.70e+04],\n",
              "        [2.80e+01, 8.70e+04],\n",
              "        [2.60e+01, 1.70e+04],\n",
              "        [3.00e+01, 8.00e+04],\n",
              "        [3.90e+01, 4.20e+04],\n",
              "        [2.00e+01, 4.90e+04],\n",
              "        [3.50e+01, 8.80e+04],\n",
              "        [3.00e+01, 6.20e+04],\n",
              "        [3.10e+01, 1.18e+05],\n",
              "        [2.40e+01, 5.50e+04],\n",
              "        [2.80e+01, 8.50e+04],\n",
              "        [2.60e+01, 8.10e+04],\n",
              "        [3.50e+01, 5.00e+04],\n",
              "        [2.20e+01, 8.10e+04],\n",
              "        [3.00e+01, 1.16e+05],\n",
              "        [2.60e+01, 1.50e+04],\n",
              "        [2.90e+01, 2.80e+04],\n",
              "        [2.90e+01, 8.30e+04],\n",
              "        [3.50e+01, 4.40e+04],\n",
              "        [3.50e+01, 2.50e+04],\n",
              "        [2.80e+01, 1.23e+05],\n",
              "        [3.50e+01, 7.30e+04],\n",
              "        [2.80e+01, 3.70e+04],\n",
              "        [2.70e+01, 8.80e+04],\n",
              "        [2.80e+01, 5.90e+04],\n",
              "        [3.20e+01, 8.60e+04],\n",
              "        [3.30e+01, 1.49e+05],\n",
              "        [1.90e+01, 2.10e+04],\n",
              "        [2.10e+01, 7.20e+04],\n",
              "        [2.60e+01, 3.50e+04],\n",
              "        [2.70e+01, 8.90e+04],\n",
              "        [2.60e+01, 8.60e+04],\n",
              "        [3.80e+01, 8.00e+04],\n",
              "        [3.90e+01, 7.10e+04],\n",
              "        [3.70e+01, 7.10e+04],\n",
              "        [3.80e+01, 6.10e+04],\n",
              "        [3.70e+01, 5.50e+04],\n",
              "        [4.20e+01, 8.00e+04],\n",
              "        [4.00e+01, 5.70e+04],\n",
              "        [3.50e+01, 7.50e+04],\n",
              "        [3.60e+01, 5.20e+04],\n",
              "        [4.00e+01, 5.90e+04],\n",
              "        [4.10e+01, 5.90e+04],\n",
              "        [3.60e+01, 7.50e+04],\n",
              "        [3.70e+01, 7.20e+04],\n",
              "        [4.00e+01, 7.50e+04],\n",
              "        [3.50e+01, 5.30e+04],\n",
              "        [4.10e+01, 5.10e+04],\n",
              "        [3.90e+01, 6.10e+04],\n",
              "        [4.20e+01, 6.50e+04],\n",
              "        [2.60e+01, 3.20e+04],\n",
              "        [3.00e+01, 1.70e+04],\n",
              "        [2.60e+01, 8.40e+04],\n",
              "        [3.10e+01, 5.80e+04],\n",
              "        [3.30e+01, 3.10e+04],\n",
              "        [3.00e+01, 8.70e+04],\n",
              "        [2.10e+01, 6.80e+04],\n",
              "        [2.80e+01, 5.50e+04],\n",
              "        [2.30e+01, 6.30e+04],\n",
              "        [2.00e+01, 8.20e+04],\n",
              "        [3.00e+01, 1.07e+05],\n",
              "        [2.80e+01, 5.90e+04],\n",
              "        [1.90e+01, 2.50e+04],\n",
              "        [1.90e+01, 8.50e+04],\n",
              "        [1.80e+01, 6.80e+04],\n",
              "        [3.50e+01, 5.90e+04],\n",
              "        [3.00e+01, 8.90e+04],\n",
              "        [3.40e+01, 2.50e+04],\n",
              "        [2.40e+01, 8.90e+04],\n",
              "        [2.70e+01, 9.60e+04],\n",
              "        [4.10e+01, 3.00e+04],\n",
              "        [2.90e+01, 6.10e+04],\n",
              "        [2.00e+01, 7.40e+04],\n",
              "        [2.60e+01, 1.50e+04],\n",
              "        [4.10e+01, 4.50e+04],\n",
              "        [3.10e+01, 7.60e+04],\n",
              "        [3.60e+01, 5.00e+04],\n",
              "        [4.00e+01, 4.70e+04],\n",
              "        [3.10e+01, 1.50e+04],\n",
              "        [4.60e+01, 5.90e+04],\n",
              "        [2.90e+01, 7.50e+04],\n",
              "        [2.60e+01, 3.00e+04],\n",
              "        [3.20e+01, 1.35e+05],\n",
              "        [3.20e+01, 1.00e+05],\n",
              "        [2.50e+01, 9.00e+04],\n",
              "        [3.70e+01, 3.30e+04],\n",
              "        [3.50e+01, 3.80e+04],\n",
              "        [3.30e+01, 6.90e+04],\n",
              "        [1.80e+01, 8.60e+04],\n",
              "        [2.20e+01, 5.50e+04],\n",
              "        [3.50e+01, 7.10e+04],\n",
              "        [2.90e+01, 1.48e+05],\n",
              "        [2.90e+01, 4.70e+04],\n",
              "        [2.10e+01, 8.80e+04],\n",
              "        [3.40e+01, 1.15e+05],\n",
              "        [2.60e+01, 1.18e+05],\n",
              "        [3.40e+01, 4.30e+04],\n",
              "        [3.40e+01, 7.20e+04],\n",
              "        [2.30e+01, 2.80e+04],\n",
              "        [3.50e+01, 4.70e+04],\n",
              "        [2.50e+01, 2.20e+04],\n",
              "        [2.40e+01, 2.30e+04],\n",
              "        [3.10e+01, 3.40e+04],\n",
              "        [2.60e+01, 1.60e+04],\n",
              "        [3.10e+01, 7.10e+04],\n",
              "        [3.20e+01, 1.17e+05],\n",
              "        [3.30e+01, 4.30e+04],\n",
              "        [3.30e+01, 6.00e+04],\n",
              "        [3.10e+01, 6.60e+04],\n",
              "        [2.00e+01, 8.20e+04],\n",
              "        [3.30e+01, 4.10e+04],\n",
              "        [3.50e+01, 7.20e+04],\n",
              "        [2.80e+01, 3.20e+04],\n",
              "        [2.40e+01, 8.40e+04],\n",
              "        [1.90e+01, 2.60e+04],\n",
              "        [2.90e+01, 4.30e+04],\n",
              "        [1.90e+01, 7.00e+04],\n",
              "        [2.80e+01, 8.90e+04],\n",
              "        [3.40e+01, 4.30e+04],\n",
              "        [3.00e+01, 7.90e+04],\n",
              "        [2.00e+01, 3.60e+04],\n",
              "        [2.60e+01, 8.00e+04],\n",
              "        [3.50e+01, 2.20e+04],\n",
              "        [3.50e+01, 3.90e+04],\n",
              "        [4.90e+01, 7.40e+04],\n",
              "        [3.90e+01, 1.34e+05],\n",
              "        [4.10e+01, 7.10e+04],\n",
              "        [5.80e+01, 1.01e+05],\n",
              "        [4.70e+01, 4.70e+04],\n",
              "        [5.50e+01, 1.30e+05],\n",
              "        [5.20e+01, 1.14e+05],\n",
              "        [4.00e+01, 1.42e+05],\n",
              "        [4.60e+01, 2.20e+04],\n",
              "        [4.80e+01, 9.60e+04],\n",
              "        [5.20e+01, 1.50e+05],\n",
              "        [5.90e+01, 4.20e+04],\n",
              "        [3.50e+01, 5.80e+04],\n",
              "        [4.70e+01, 4.30e+04],\n",
              "        [6.00e+01, 1.08e+05],\n",
              "        [4.90e+01, 6.50e+04],\n",
              "        [4.00e+01, 7.80e+04],\n",
              "        [4.60e+01, 9.60e+04],\n",
              "        [5.90e+01, 1.43e+05],\n",
              "        [4.10e+01, 8.00e+04],\n",
              "        [3.50e+01, 9.10e+04],\n",
              "        [3.70e+01, 1.44e+05],\n",
              "        [6.00e+01, 1.02e+05],\n",
              "        [3.50e+01, 6.00e+04],\n",
              "        [3.70e+01, 5.30e+04],\n",
              "        [3.60e+01, 1.26e+05],\n",
              "        [5.60e+01, 1.33e+05],\n",
              "        [4.00e+01, 7.20e+04],\n",
              "        [4.20e+01, 8.00e+04],\n",
              "        [3.50e+01, 1.47e+05],\n",
              "        [3.90e+01, 4.20e+04],\n",
              "        [4.00e+01, 1.07e+05],\n",
              "        [4.90e+01, 8.60e+04],\n",
              "        [3.80e+01, 1.12e+05],\n",
              "        [4.60e+01, 7.90e+04],\n",
              "        [4.00e+01, 5.70e+04],\n",
              "        [3.70e+01, 8.00e+04],\n",
              "        [4.60e+01, 8.20e+04],\n",
              "        [5.30e+01, 1.43e+05],\n",
              "        [4.20e+01, 1.49e+05],\n",
              "        [3.80e+01, 5.90e+04],\n",
              "        [5.00e+01, 8.80e+04],\n",
              "        [5.60e+01, 1.04e+05],\n",
              "        [4.10e+01, 7.20e+04],\n",
              "        [5.10e+01, 1.46e+05],\n",
              "        [3.50e+01, 5.00e+04],\n",
              "        [5.70e+01, 1.22e+05],\n",
              "        [4.10e+01, 5.20e+04],\n",
              "        [3.50e+01, 9.70e+04],\n",
              "        [4.40e+01, 3.90e+04],\n",
              "        [3.70e+01, 5.20e+04],\n",
              "        [4.80e+01, 1.34e+05],\n",
              "        [3.70e+01, 1.46e+05],\n",
              "        [5.00e+01, 4.40e+04],\n",
              "        [5.20e+01, 9.00e+04],\n",
              "        [4.10e+01, 7.20e+04],\n",
              "        [4.00e+01, 5.70e+04],\n",
              "        [5.80e+01, 9.50e+04],\n",
              "        [4.50e+01, 1.31e+05],\n",
              "        [3.50e+01, 7.70e+04],\n",
              "        [3.60e+01, 1.44e+05],\n",
              "        [5.50e+01, 1.25e+05],\n",
              "        [3.50e+01, 7.20e+04],\n",
              "        [4.80e+01, 9.00e+04],\n",
              "        [4.20e+01, 1.08e+05],\n",
              "        [4.00e+01, 7.50e+04],\n",
              "        [3.70e+01, 7.40e+04],\n",
              "        [4.70e+01, 1.44e+05],\n",
              "        [4.00e+01, 6.10e+04],\n",
              "        [4.30e+01, 1.33e+05],\n",
              "        [5.90e+01, 7.60e+04],\n",
              "        [6.00e+01, 4.20e+04],\n",
              "        [3.90e+01, 1.06e+05],\n",
              "        [5.70e+01, 2.60e+04],\n",
              "        [5.70e+01, 7.40e+04],\n",
              "        [3.80e+01, 7.10e+04],\n",
              "        [4.90e+01, 8.80e+04],\n",
              "        [5.20e+01, 3.80e+04],\n",
              "        [5.00e+01, 3.60e+04],\n",
              "        [5.90e+01, 8.80e+04],\n",
              "        [3.50e+01, 6.10e+04],\n",
              "        [3.70e+01, 7.00e+04],\n",
              "        [5.20e+01, 2.10e+04],\n",
              "        [4.80e+01, 1.41e+05],\n",
              "        [3.70e+01, 9.30e+04],\n",
              "        [3.70e+01, 6.20e+04],\n",
              "        [4.80e+01, 1.38e+05],\n",
              "        [4.10e+01, 7.90e+04],\n",
              "        [3.70e+01, 7.80e+04],\n",
              "        [3.90e+01, 1.34e+05],\n",
              "        [4.90e+01, 8.90e+04],\n",
              "        [5.50e+01, 3.90e+04],\n",
              "        [3.70e+01, 7.70e+04],\n",
              "        [3.50e+01, 5.70e+04],\n",
              "        [3.60e+01, 6.30e+04],\n",
              "        [4.20e+01, 7.30e+04],\n",
              "        [4.30e+01, 1.12e+05],\n",
              "        [4.50e+01, 7.90e+04],\n",
              "        [4.60e+01, 1.17e+05],\n",
              "        [5.80e+01, 3.80e+04],\n",
              "        [4.80e+01, 7.40e+04],\n",
              "        [3.70e+01, 1.37e+05],\n",
              "        [3.70e+01, 7.90e+04],\n",
              "        [4.00e+01, 6.00e+04],\n",
              "        [4.20e+01, 5.40e+04],\n",
              "        [5.10e+01, 1.34e+05],\n",
              "        [4.70e+01, 1.13e+05],\n",
              "        [3.60e+01, 1.25e+05],\n",
              "        [3.80e+01, 5.00e+04],\n",
              "        [4.20e+01, 7.00e+04],\n",
              "        [3.90e+01, 9.60e+04],\n",
              "        [3.80e+01, 5.00e+04],\n",
              "        [4.90e+01, 1.41e+05],\n",
              "        [3.90e+01, 7.90e+04],\n",
              "        [3.90e+01, 7.50e+04],\n",
              "        [5.40e+01, 1.04e+05],\n",
              "        [3.50e+01, 5.50e+04],\n",
              "        [4.50e+01, 3.20e+04],\n",
              "        [3.60e+01, 6.00e+04],\n",
              "        [5.20e+01, 1.38e+05],\n",
              "        [5.30e+01, 8.20e+04],\n",
              "        [4.10e+01, 5.20e+04],\n",
              "        [4.80e+01, 3.00e+04],\n",
              "        [4.80e+01, 1.31e+05],\n",
              "        [4.10e+01, 6.00e+04],\n",
              "        [4.10e+01, 7.20e+04],\n",
              "        [4.20e+01, 7.50e+04],\n",
              "        [3.60e+01, 1.18e+05],\n",
              "        [4.70e+01, 1.07e+05],\n",
              "        [3.80e+01, 5.10e+04],\n",
              "        [4.80e+01, 1.19e+05],\n",
              "        [4.20e+01, 6.50e+04],\n",
              "        [4.00e+01, 6.50e+04],\n",
              "        [5.70e+01, 6.00e+04],\n",
              "        [3.60e+01, 5.40e+04],\n",
              "        [5.80e+01, 1.44e+05],\n",
              "        [3.50e+01, 7.90e+04],\n",
              "        [3.80e+01, 5.50e+04],\n",
              "        [3.90e+01, 1.22e+05],\n",
              "        [5.30e+01, 1.04e+05],\n",
              "        [3.50e+01, 7.50e+04],\n",
              "        [3.80e+01, 6.50e+04],\n",
              "        [4.70e+01, 5.10e+04],\n",
              "        [4.70e+01, 1.05e+05],\n",
              "        [4.10e+01, 6.30e+04],\n",
              "        [5.30e+01, 7.20e+04],\n",
              "        [5.40e+01, 1.08e+05],\n",
              "        [3.90e+01, 7.70e+04],\n",
              "        [3.80e+01, 6.10e+04],\n",
              "        [3.80e+01, 1.13e+05],\n",
              "        [3.70e+01, 7.50e+04],\n",
              "        [4.20e+01, 9.00e+04],\n",
              "        [3.70e+01, 5.70e+04],\n",
              "        [3.60e+01, 9.90e+04],\n",
              "        [6.00e+01, 3.40e+04],\n",
              "        [5.40e+01, 7.00e+04],\n",
              "        [4.10e+01, 7.20e+04],\n",
              "        [4.00e+01, 7.10e+04],\n",
              "        [4.20e+01, 5.40e+04],\n",
              "        [4.30e+01, 1.29e+05],\n",
              "        [5.30e+01, 3.40e+04],\n",
              "        [4.70e+01, 5.00e+04],\n",
              "        [4.20e+01, 7.90e+04],\n",
              "        [4.20e+01, 1.04e+05],\n",
              "        [5.90e+01, 2.90e+04],\n",
              "        [5.80e+01, 4.70e+04],\n",
              "        [4.60e+01, 8.80e+04],\n",
              "        [3.80e+01, 7.10e+04],\n",
              "        [5.40e+01, 2.60e+04],\n",
              "        [6.00e+01, 4.60e+04],\n",
              "        [6.00e+01, 8.30e+04],\n",
              "        [3.90e+01, 7.30e+04],\n",
              "        [5.90e+01, 1.30e+05],\n",
              "        [3.70e+01, 8.00e+04],\n",
              "        [4.60e+01, 3.20e+04],\n",
              "        [4.60e+01, 7.40e+04],\n",
              "        [4.20e+01, 5.30e+04],\n",
              "        [4.10e+01, 8.70e+04],\n",
              "        [5.80e+01, 2.30e+04],\n",
              "        [4.20e+01, 6.40e+04],\n",
              "        [4.80e+01, 3.30e+04],\n",
              "        [4.40e+01, 1.39e+05],\n",
              "        [4.90e+01, 2.80e+04],\n",
              "        [5.70e+01, 3.30e+04],\n",
              "        [5.60e+01, 6.00e+04],\n",
              "        [4.90e+01, 3.90e+04],\n",
              "        [3.90e+01, 7.10e+04],\n",
              "        [4.70e+01, 3.40e+04],\n",
              "        [4.80e+01, 3.50e+04],\n",
              "        [4.80e+01, 3.30e+04],\n",
              "        [4.70e+01, 2.30e+04],\n",
              "        [4.50e+01, 4.50e+04],\n",
              "        [6.00e+01, 4.20e+04],\n",
              "        [3.90e+01, 5.90e+04],\n",
              "        [4.60e+01, 4.10e+04],\n",
              "        [5.10e+01, 2.30e+04],\n",
              "        [5.00e+01, 2.00e+04],\n",
              "        [3.60e+01, 3.30e+04],\n",
              "        [4.90e+01, 3.60e+04]]),\n",
              " array([0, 0, 0, 0, 0, 0, 0, 1, 0, 0, 0, 0, 0, 0, 0, 0, 1, 1, 1, 1, 1, 1,\n",
              "        1, 1, 1, 1, 1, 1, 0, 0, 0, 1, 0, 0, 0, 0, 0, 0, 0, 0, 0, 0, 0, 0,\n",
              "        0, 0, 0, 0, 1, 0, 0, 0, 0, 0, 0, 0, 0, 0, 0, 0, 0, 0, 0, 1, 0, 0,\n",
              "        0, 0, 0, 0, 0, 0, 0, 0, 0, 1, 0, 0, 0, 0, 0, 0, 0, 0, 0, 1, 0, 0,\n",
              "        0, 0, 0, 0, 0, 0, 0, 0, 0, 1, 0, 0, 0, 0, 0, 1, 0, 0, 0, 0, 0, 0,\n",
              "        0, 0, 0, 0, 0, 0, 0, 0, 0, 0, 0, 0, 0, 0, 0, 0, 0, 0, 0, 0, 0, 0,\n",
              "        0, 0, 0, 0, 0, 1, 0, 0, 0, 0, 0, 0, 0, 0, 1, 0, 0, 0, 0, 0, 0, 0,\n",
              "        0, 0, 0, 0, 0, 1, 1, 0, 0, 0, 0, 0, 0, 0, 1, 0, 0, 0, 0, 0, 0, 0,\n",
              "        0, 0, 0, 0, 0, 0, 1, 0, 0, 0, 0, 0, 0, 0, 0, 0, 0, 0, 0, 0, 0, 0,\n",
              "        0, 0, 0, 0, 1, 0, 1, 0, 1, 0, 1, 0, 1, 1, 0, 0, 0, 1, 0, 0, 0, 1,\n",
              "        0, 1, 1, 1, 0, 0, 1, 1, 0, 1, 1, 0, 1, 1, 0, 1, 0, 0, 0, 1, 1, 0,\n",
              "        1, 1, 0, 1, 0, 1, 0, 1, 0, 0, 1, 1, 0, 1, 0, 0, 1, 1, 0, 1, 1, 0,\n",
              "        1, 1, 0, 0, 1, 0, 0, 1, 1, 1, 1, 1, 0, 1, 1, 1, 1, 0, 1, 1, 0, 1,\n",
              "        0, 1, 0, 1, 1, 1, 1, 0, 0, 0, 1, 1, 0, 1, 1, 1, 1, 1, 0, 0, 0, 1,\n",
              "        1, 0, 0, 1, 0, 1, 0, 1, 1, 0, 1, 0, 1, 1, 0, 1, 1, 0, 0, 0, 1, 1,\n",
              "        0, 1, 0, 0, 1, 0, 1, 0, 0, 1, 1, 0, 0, 1, 1, 0, 1, 1, 0, 0, 1, 0,\n",
              "        1, 0, 1, 1, 1, 0, 1, 0, 1, 1, 1, 0, 1, 1, 1, 1, 0, 1, 1, 1, 0, 1,\n",
              "        0, 1, 0, 0, 1, 1, 0, 1, 1, 1, 1, 1, 1, 0, 1, 1, 1, 1, 1, 1, 0, 1,\n",
              "        1, 1, 0, 1]))"
            ]
          },
          "metadata": {
            "tags": []
          },
          "execution_count": 118
        }
      ]
    },
    {
      "cell_type": "code",
      "metadata": {
        "colab": {
          "base_uri": "https://localhost:8080/"
        },
        "id": "sCzZganY_ohw",
        "outputId": "fcaa9d05-43b7-4e5d-c2e4-76e63fab42a8"
      },
      "source": [
        "df.shape"
      ],
      "execution_count": 119,
      "outputs": [
        {
          "output_type": "execute_result",
          "data": {
            "text/plain": [
              "(400, 5)"
            ]
          },
          "metadata": {
            "tags": []
          },
          "execution_count": 119
        }
      ]
    },
    {
      "cell_type": "code",
      "metadata": {
        "id": "pMPUWm__AB9l"
      },
      "source": [
        "from sklearn.model_selection import train_test_split\n",
        "x_train, x_test, y_train, y_test = train_test_split(x, y, test_size = 0.20) "
      ],
      "execution_count": 120,
      "outputs": []
    },
    {
      "cell_type": "code",
      "metadata": {
        "id": "_7udDFGiACAY"
      },
      "source": [
        "from sklearn.preprocessing import StandardScaler\n",
        "sc_x = StandardScaler()\n",
        "x_train = sc_x.fit_transform(x_train)\n",
        "x_test = sc_x.transform(x_test)"
      ],
      "execution_count": 121,
      "outputs": []
    },
    {
      "cell_type": "code",
      "metadata": {
        "id": "FQojDmvHACC0"
      },
      "source": [
        "from sklearn.ensemble import RandomForestClassifier\n",
        "model = RandomForestClassifier()"
      ],
      "execution_count": 122,
      "outputs": []
    },
    {
      "cell_type": "code",
      "metadata": {
        "colab": {
          "base_uri": "https://localhost:8080/"
        },
        "id": "OI2Zji9iACFa",
        "outputId": "d5faa9e2-e2e3-4cfd-e8f2-c7bc49bdf4b5"
      },
      "source": [
        "model.fit(x_train, y_train)"
      ],
      "execution_count": 123,
      "outputs": [
        {
          "output_type": "execute_result",
          "data": {
            "text/plain": [
              "RandomForestClassifier(bootstrap=True, ccp_alpha=0.0, class_weight=None,\n",
              "                       criterion='gini', max_depth=None, max_features='auto',\n",
              "                       max_leaf_nodes=None, max_samples=None,\n",
              "                       min_impurity_decrease=0.0, min_impurity_split=None,\n",
              "                       min_samples_leaf=1, min_samples_split=2,\n",
              "                       min_weight_fraction_leaf=0.0, n_estimators=100,\n",
              "                       n_jobs=None, oob_score=False, random_state=None,\n",
              "                       verbose=0, warm_start=False)"
            ]
          },
          "metadata": {
            "tags": []
          },
          "execution_count": 123
        }
      ]
    },
    {
      "cell_type": "code",
      "metadata": {
        "colab": {
          "base_uri": "https://localhost:8080/"
        },
        "id": "4aEePDyoALsk",
        "outputId": "e656ade9-a014-46d7-a398-9812bf20263b"
      },
      "source": [
        "y_pred = model.predict(x_test)\n",
        "y_pred"
      ],
      "execution_count": 124,
      "outputs": [
        {
          "output_type": "execute_result",
          "data": {
            "text/plain": [
              "array([0, 1, 0, 0, 0, 1, 0, 0, 1, 1, 1, 1, 0, 1, 1, 1, 0, 1, 0, 0, 0, 0,\n",
              "       0, 0, 0, 1, 1, 0, 0, 1, 0, 0, 0, 0, 0, 0, 0, 1, 1, 1, 0, 1, 0, 0,\n",
              "       0, 0, 1, 0, 1, 1, 0, 1, 0, 0, 0, 0, 0, 0, 0, 0, 0, 1, 1, 0, 0, 0,\n",
              "       1, 0, 1, 1, 0, 0, 1, 0, 0, 0, 1, 1, 0, 0])"
            ]
          },
          "metadata": {
            "tags": []
          },
          "execution_count": 124
        }
      ]
    },
    {
      "cell_type": "code",
      "metadata": {
        "colab": {
          "base_uri": "https://localhost:8080/"
        },
        "id": "bQU9vFXMALu2",
        "outputId": "73bd72eb-1658-45b7-e025-0d13e708dca9"
      },
      "source": [
        "from sklearn.metrics import confusion_matrix\n",
        "cm = confusion_matrix(y_test,y_pred)\n",
        "cm"
      ],
      "execution_count": 125,
      "outputs": [
        {
          "output_type": "execute_result",
          "data": {
            "text/plain": [
              "array([[49,  5],\n",
              "       [ 2, 24]])"
            ]
          },
          "metadata": {
            "tags": []
          },
          "execution_count": 125
        }
      ]
    },
    {
      "cell_type": "code",
      "metadata": {
        "colab": {
          "base_uri": "https://localhost:8080/",
          "height": 336
        },
        "id": "xnN7S7qDALxI",
        "outputId": "cf59a063-1a36-400f-a696-0f6230f5525b"
      },
      "source": [
        "#Visualizing the Training Set Results\n",
        "from matplotlib.colors import ListedColormap\n",
        "x_set , y_set = x_train ,y_train\n",
        "x1, x2 = np.meshgrid(np.arange(start = x_set[:,0].min()-1,stop =x_set[:,0].max()+1,step=0.01),\n",
        "                    np.arange(start = x_set[:,1].min()-1,stop =x_set[:,1].max()+1,step=0.01))\n",
        "plt.contour(x1,x2,model.predict(np.array([x1.ravel(),x2.ravel()]).T).reshape(x1.shape),\n",
        "            alpha= 0.75 ,cmap = ListedColormap(('red','green')))\n",
        "plt.xlim(x1.min() ,x1.max())\n",
        "plt.ylim(x2.min() ,x2.max())\n",
        "for i,j in enumerate(np.unique(y_set)):\n",
        "    plt.scatter(x_set[y_set == j ,0], x_set[y_set == j,1],\n",
        "                c= ListedColormap(('red' , 'green'))(i) , label = j)\n",
        "plt.title(' (Training Set)')\n",
        " \n",
        "plt.legend()\n",
        "plt.show()"
      ],
      "execution_count": 126,
      "outputs": [
        {
          "output_type": "stream",
          "text": [
            "*c* argument looks like a single numeric RGB or RGBA sequence, which should be avoided as value-mapping will have precedence in case its length matches with *x* & *y*.  Please use the *color* keyword-argument or provide a 2-D array with a single row if you intend to specify the same RGB or RGBA value for all points.\n",
            "*c* argument looks like a single numeric RGB or RGBA sequence, which should be avoided as value-mapping will have precedence in case its length matches with *x* & *y*.  Please use the *color* keyword-argument or provide a 2-D array with a single row if you intend to specify the same RGB or RGBA value for all points.\n"
          ],
          "name": "stderr"
        },
        {
          "output_type": "display_data",
          "data": {
            "image/png": "[encoded data removed]",
            "text/plain": [
              "<Figure size 432x288 with 1 Axes>"
            ]
          },
          "metadata": {
            "tags": [],
            "needs_background": "light"
          }
        }
      ]
    },
    {
      "cell_type": "code",
      "metadata": {
        "colab": {
          "base_uri": "https://localhost:8080/",
          "height": 354
        },
        "id": "JaE8gmdzASLq",
        "outputId": "b60d1b5d-0e9a-4d60-fb51-90fff931f159"
      },
      "source": [
        "#Visualizing the Test Set Results\n",
        "from matplotlib.colors import ListedColormap\n",
        "x_set , y_set = x_test ,y_test\n",
        "x1, x2 = np.meshgrid(np.arange(start = x_set[:,0].min()-1,stop =x_set[:,0].max()+1,step=0.01),\n",
        "                    np.arange(start = x_set[:,1].min()-1,stop =x_set[:,1].max()+1,step=0.01))\n",
        "plt.contour(x1,x2,model.predict(np.array([x1.ravel(),x2.ravel()]).T).reshape(x1.shape),\n",
        "            alpha= 0.75 ,cmap = ListedColormap(('red','green')))\n",
        "plt.xlim(x1.min() ,x1.max())\n",
        "plt.ylim(x2.min() ,x2.max())\n",
        "for i,j in enumerate(np.unique(y_set)):\n",
        "    plt.scatter(x_set[y_set == j ,0], x_set[y_set == j,1],\n",
        "                c= ListedColormap(('red' , 'green'))(i) , label = j)\n",
        "plt.title('Test Set')\n",
        " \n",
        "plt.legend()"
      ],
      "execution_count": 127,
      "outputs": [
        {
          "output_type": "stream",
          "text": [
            "*c* argument looks like a single numeric RGB or RGBA sequence, which should be avoided as value-mapping will have precedence in case its length matches with *x* & *y*.  Please use the *color* keyword-argument or provide a 2-D array with a single row if you intend to specify the same RGB or RGBA value for all points.\n",
            "*c* argument looks like a single numeric RGB or RGBA sequence, which should be avoided as value-mapping will have precedence in case its length matches with *x* & *y*.  Please use the *color* keyword-argument or provide a 2-D array with a single row if you intend to specify the same RGB or RGBA value for all points.\n"
          ],
          "name": "stderr"
        },
        {
          "output_type": "execute_result",
          "data": {
            "text/plain": [
              "<matplotlib.legend.Legend at 0x7f9b506f91d0>"
            ]
          },
          "metadata": {
            "tags": []
          },
          "execution_count": 127
        },
        {
          "output_type": "display_data",
          "data": {
            "image/png": "[encoded data removed]",
            "text/plain": [
              "<Figure size 432x288 with 1 Axes>"
            ]
          },
          "metadata": {
            "tags": [],
            "needs_background": "light"
          }
        }
      ]
    }
  ]
}