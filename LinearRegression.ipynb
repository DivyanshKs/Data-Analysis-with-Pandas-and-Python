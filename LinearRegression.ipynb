{
  "nbformat": 4,
  "nbformat_minor": 0,
  "metadata": {
    "colab": {
      "name": "Untitled4.ipynb",
      "provenance": [],
      "collapsed_sections": [],
      "authorship_tag": "ABX9TyPnX2un0iM2nSfZc3V7Mids",
      "include_colab_link": true
    },
    "kernelspec": {
      "name": "python3",
      "display_name": "Python 3"
    },
    "language_info": {
      "name": "python"
    }
  },
  "cells": [
    {
      "cell_type": "markdown",
      "metadata": {
        "id": "view-in-github",
        "colab_type": "text"
      },
      "source": [
        "<a href=\"https://colab.research.google.com/github/DivyanshKs/Data-Analysis-with-Pandas-and-Python/blob/master/LinearRegression.ipynb\" target=\"_parent\"><img src=\"https://colab.research.google.com/assets/colab-badge.svg\" alt=\"Open In Colab\"/></a>"
      ]
    },
    {
      "cell_type": "markdown",
      "metadata": {
        "id": "oKMFBZXnSmB-"
      },
      "source": [
        "**Simple Linear Regression**"
      ]
    },
    {
      "cell_type": "code",
      "metadata": {
        "colab": {
          "base_uri": "https://localhost:8080/"
        },
        "id": "8SVNbz1wShiP",
        "outputId": "5aedffcf-b780-4016-94de-131c22ffa49a"
      },
      "source": [
        "#Example 1\n",
        "import numpy as np\n",
        "import pandas as pd\n",
        "import matplotlib.pyplot as plt\n",
        "\n",
        "dataset = pd.read_csv('Popln_profit.csv').values\n",
        "dataset"
      ],
      "execution_count": 3,
      "outputs": [
        {
          "output_type": "execute_result",
          "data": {
            "text/plain": [
              "array([[ 5.5277 ,  9.1302 ],\n",
              "       [ 8.5186 , 13.662  ],\n",
              "       [ 7.0032 , 11.854  ],\n",
              "       [ 5.8598 ,  6.8233 ],\n",
              "       [ 8.3829 , 11.886  ],\n",
              "       [ 7.4764 ,  4.3483 ],\n",
              "       [ 8.5781 , 12.     ],\n",
              "       [ 6.4862 ,  6.5987 ],\n",
              "       [ 5.0546 ,  3.8166 ],\n",
              "       [ 5.7107 ,  3.2522 ],\n",
              "       [14.164  , 15.505  ],\n",
              "       [ 5.734  ,  3.1551 ],\n",
              "       [ 8.4084 ,  7.2258 ],\n",
              "       [ 5.6407 ,  0.71618],\n",
              "       [ 5.3794 ,  3.5129 ],\n",
              "       [ 6.3654 ,  5.3048 ],\n",
              "       [ 5.1301 ,  0.56077],\n",
              "       [ 6.4296 ,  3.6518 ],\n",
              "       [ 7.0708 ,  5.3893 ],\n",
              "       [ 6.1891 ,  3.1386 ],\n",
              "       [20.27   , 21.767  ],\n",
              "       [ 5.4901 ,  4.263  ],\n",
              "       [ 6.3261 ,  5.1875 ],\n",
              "       [ 5.5649 ,  3.0825 ],\n",
              "       [18.945  , 22.638  ],\n",
              "       [12.828  , 13.501  ],\n",
              "       [10.957  ,  7.0467 ],\n",
              "       [13.176  , 14.692  ],\n",
              "       [22.203  , 24.147  ],\n",
              "       [ 5.2524 , -1.22   ],\n",
              "       [ 6.5894 ,  5.9966 ],\n",
              "       [ 9.2482 , 12.134  ],\n",
              "       [ 5.8918 ,  1.8495 ],\n",
              "       [ 8.2111 ,  6.5426 ],\n",
              "       [ 7.9334 ,  4.5623 ],\n",
              "       [ 8.0959 ,  4.1164 ],\n",
              "       [ 5.6063 ,  3.3928 ],\n",
              "       [12.836  , 10.117  ],\n",
              "       [ 6.3534 ,  5.4974 ],\n",
              "       [ 5.4069 ,  0.55657],\n",
              "       [ 6.8825 ,  3.9115 ],\n",
              "       [11.708  ,  5.3854 ],\n",
              "       [ 5.7737 ,  2.4406 ],\n",
              "       [ 7.8247 ,  6.7318 ],\n",
              "       [ 7.0931 ,  1.0463 ],\n",
              "       [ 5.0702 ,  5.1337 ],\n",
              "       [ 5.8014 ,  1.844  ],\n",
              "       [11.7    ,  8.0043 ],\n",
              "       [ 5.5416 ,  1.0179 ],\n",
              "       [ 7.5402 ,  6.7504 ],\n",
              "       [ 5.3077 ,  1.8396 ],\n",
              "       [ 7.4239 ,  4.2885 ],\n",
              "       [ 7.6031 ,  4.9981 ],\n",
              "       [ 6.3328 ,  1.4233 ],\n",
              "       [ 6.3589 , -1.4211 ],\n",
              "       [ 6.2742 ,  2.4756 ],\n",
              "       [ 5.6397 ,  4.6042 ],\n",
              "       [ 9.3102 ,  3.9624 ],\n",
              "       [ 9.4536 ,  5.4141 ],\n",
              "       [ 8.8254 ,  5.1694 ],\n",
              "       [ 5.1793 , -0.74279],\n",
              "       [21.279  , 17.929  ],\n",
              "       [14.908  , 12.054  ],\n",
              "       [18.959  , 17.054  ],\n",
              "       [ 7.2182 ,  4.8852 ],\n",
              "       [ 8.2951 ,  5.7442 ],\n",
              "       [10.236  ,  7.7754 ],\n",
              "       [ 5.4994 ,  1.0173 ],\n",
              "       [20.341  , 20.992  ],\n",
              "       [10.136  ,  6.6799 ],\n",
              "       [ 7.3345 ,  4.0259 ],\n",
              "       [ 6.0062 ,  1.2784 ],\n",
              "       [ 7.2259 ,  3.3411 ],\n",
              "       [ 5.0269 , -2.6807 ],\n",
              "       [ 6.5479 ,  0.29678],\n",
              "       [ 7.5386 ,  3.8845 ],\n",
              "       [ 5.0365 ,  5.7014 ],\n",
              "       [10.274  ,  6.7526 ],\n",
              "       [ 5.1077 ,  2.0576 ],\n",
              "       [ 5.7292 ,  0.47953],\n",
              "       [ 5.1884 ,  0.20421],\n",
              "       [ 6.3557 ,  0.67861],\n",
              "       [ 9.7687 ,  7.5435 ],\n",
              "       [ 6.5159 ,  5.3436 ],\n",
              "       [ 8.5172 ,  4.2415 ],\n",
              "       [ 9.1802 ,  6.7981 ],\n",
              "       [ 6.002  ,  0.92695],\n",
              "       [ 5.5204 ,  0.152  ],\n",
              "       [ 5.0594 ,  2.8214 ],\n",
              "       [ 5.7077 ,  1.8451 ],\n",
              "       [ 7.6366 ,  4.2959 ],\n",
              "       [ 5.8707 ,  7.2029 ],\n",
              "       [ 5.3054 ,  1.9869 ],\n",
              "       [ 8.2934 ,  0.14454],\n",
              "       [13.394  ,  9.0551 ],\n",
              "       [ 5.4369 ,  0.61705]])"
            ]
          },
          "metadata": {
            "tags": []
          },
          "execution_count": 3
        }
      ]
    },
    {
      "cell_type": "code",
      "metadata": {
        "colab": {
          "base_uri": "https://localhost:8080/"
        },
        "id": "yGgO1g_LWSSc",
        "outputId": "10de9b13-973e-4b40-a3cc-995ccfe7bc30"
      },
      "source": [
        "x = dataset[:,0:-1]\n",
        "y = dataset[:,-1]\n",
        "x,y"
      ],
      "execution_count": 4,
      "outputs": [
        {
          "output_type": "execute_result",
          "data": {
            "text/plain": [
              "(array([[ 5.5277],\n",
              "        [ 8.5186],\n",
              "        [ 7.0032],\n",
              "        [ 5.8598],\n",
              "        [ 8.3829],\n",
              "        [ 7.4764],\n",
              "        [ 8.5781],\n",
              "        [ 6.4862],\n",
              "        [ 5.0546],\n",
              "        [ 5.7107],\n",
              "        [14.164 ],\n",
              "        [ 5.734 ],\n",
              "        [ 8.4084],\n",
              "        [ 5.6407],\n",
              "        [ 5.3794],\n",
              "        [ 6.3654],\n",
              "        [ 5.1301],\n",
              "        [ 6.4296],\n",
              "        [ 7.0708],\n",
              "        [ 6.1891],\n",
              "        [20.27  ],\n",
              "        [ 5.4901],\n",
              "        [ 6.3261],\n",
              "        [ 5.5649],\n",
              "        [18.945 ],\n",
              "        [12.828 ],\n",
              "        [10.957 ],\n",
              "        [13.176 ],\n",
              "        [22.203 ],\n",
              "        [ 5.2524],\n",
              "        [ 6.5894],\n",
              "        [ 9.2482],\n",
              "        [ 5.8918],\n",
              "        [ 8.2111],\n",
              "        [ 7.9334],\n",
              "        [ 8.0959],\n",
              "        [ 5.6063],\n",
              "        [12.836 ],\n",
              "        [ 6.3534],\n",
              "        [ 5.4069],\n",
              "        [ 6.8825],\n",
              "        [11.708 ],\n",
              "        [ 5.7737],\n",
              "        [ 7.8247],\n",
              "        [ 7.0931],\n",
              "        [ 5.0702],\n",
              "        [ 5.8014],\n",
              "        [11.7   ],\n",
              "        [ 5.5416],\n",
              "        [ 7.5402],\n",
              "        [ 5.3077],\n",
              "        [ 7.4239],\n",
              "        [ 7.6031],\n",
              "        [ 6.3328],\n",
              "        [ 6.3589],\n",
              "        [ 6.2742],\n",
              "        [ 5.6397],\n",
              "        [ 9.3102],\n",
              "        [ 9.4536],\n",
              "        [ 8.8254],\n",
              "        [ 5.1793],\n",
              "        [21.279 ],\n",
              "        [14.908 ],\n",
              "        [18.959 ],\n",
              "        [ 7.2182],\n",
              "        [ 8.2951],\n",
              "        [10.236 ],\n",
              "        [ 5.4994],\n",
              "        [20.341 ],\n",
              "        [10.136 ],\n",
              "        [ 7.3345],\n",
              "        [ 6.0062],\n",
              "        [ 7.2259],\n",
              "        [ 5.0269],\n",
              "        [ 6.5479],\n",
              "        [ 7.5386],\n",
              "        [ 5.0365],\n",
              "        [10.274 ],\n",
              "        [ 5.1077],\n",
              "        [ 5.7292],\n",
              "        [ 5.1884],\n",
              "        [ 6.3557],\n",
              "        [ 9.7687],\n",
              "        [ 6.5159],\n",
              "        [ 8.5172],\n",
              "        [ 9.1802],\n",
              "        [ 6.002 ],\n",
              "        [ 5.5204],\n",
              "        [ 5.0594],\n",
              "        [ 5.7077],\n",
              "        [ 7.6366],\n",
              "        [ 5.8707],\n",
              "        [ 5.3054],\n",
              "        [ 8.2934],\n",
              "        [13.394 ],\n",
              "        [ 5.4369]]),\n",
              " array([ 9.1302 , 13.662  , 11.854  ,  6.8233 , 11.886  ,  4.3483 ,\n",
              "        12.     ,  6.5987 ,  3.8166 ,  3.2522 , 15.505  ,  3.1551 ,\n",
              "         7.2258 ,  0.71618,  3.5129 ,  5.3048 ,  0.56077,  3.6518 ,\n",
              "         5.3893 ,  3.1386 , 21.767  ,  4.263  ,  5.1875 ,  3.0825 ,\n",
              "        22.638  , 13.501  ,  7.0467 , 14.692  , 24.147  , -1.22   ,\n",
              "         5.9966 , 12.134  ,  1.8495 ,  6.5426 ,  4.5623 ,  4.1164 ,\n",
              "         3.3928 , 10.117  ,  5.4974 ,  0.55657,  3.9115 ,  5.3854 ,\n",
              "         2.4406 ,  6.7318 ,  1.0463 ,  5.1337 ,  1.844  ,  8.0043 ,\n",
              "         1.0179 ,  6.7504 ,  1.8396 ,  4.2885 ,  4.9981 ,  1.4233 ,\n",
              "        -1.4211 ,  2.4756 ,  4.6042 ,  3.9624 ,  5.4141 ,  5.1694 ,\n",
              "        -0.74279, 17.929  , 12.054  , 17.054  ,  4.8852 ,  5.7442 ,\n",
              "         7.7754 ,  1.0173 , 20.992  ,  6.6799 ,  4.0259 ,  1.2784 ,\n",
              "         3.3411 , -2.6807 ,  0.29678,  3.8845 ,  5.7014 ,  6.7526 ,\n",
              "         2.0576 ,  0.47953,  0.20421,  0.67861,  7.5435 ,  5.3436 ,\n",
              "         4.2415 ,  6.7981 ,  0.92695,  0.152  ,  2.8214 ,  1.8451 ,\n",
              "         4.2959 ,  7.2029 ,  1.9869 ,  0.14454,  9.0551 ,  0.61705]))"
            ]
          },
          "metadata": {
            "tags": []
          },
          "execution_count": 4
        }
      ]
    },
    {
      "cell_type": "code",
      "metadata": {
        "colab": {
          "base_uri": "https://localhost:8080/",
          "height": 284
        },
        "id": "C2_DAOReWSYy",
        "outputId": "4f3352b2-9ada-4212-a494-64626a97326e"
      },
      "source": [
        "plt.scatter(x,y)"
      ],
      "execution_count": 5,
      "outputs": [
        {
          "output_type": "execute_result",
          "data": {
            "text/plain": [
              "<matplotlib.collections.PathCollection at 0x7f0f8bdc7c90>"
            ]
          },
          "metadata": {
            "tags": []
          },
          "execution_count": 5
        },
        {
          "output_type": "display_data",
          "data": {
            "image/png": "[encoded data removed]",
            "text/plain": [
              "<Figure size 432x288 with 1 Axes>"
            ]
          },
          "metadata": {
            "tags": [],
            "needs_background": "light"
          }
        }
      ]
    },
    {
      "cell_type": "code",
      "metadata": {
        "colab": {
          "base_uri": "https://localhost:8080/"
        },
        "id": "JlvoUcrdv1Lm",
        "outputId": "41539698-5330-46c4-8a26-a1461760c901"
      },
      "source": [
        "from sklearn.linear_model import LinearRegression\n",
        "\n",
        "model = LinearRegression() #object creation\n",
        "\n",
        "model.fit(x,y) #training\n",
        "\n",
        "y_pred = model.predict(x) #prediction\n",
        "y_pred"
      ],
      "execution_count": 8,
      "outputs": [
        {
          "output_type": "execute_result",
          "data": {
            "text/plain": [
              "array([ 2.49662115,  6.12621963,  4.28721012,  2.89964019,  5.96154127,\n",
              "        4.86146068,  6.19842569,  3.65980619,  1.92249194,  2.7187003 ,\n",
              "       12.9771793 ,  2.74697595,  5.99248672,  2.63375199,  2.31665209,\n",
              "        3.51320968,  2.01411476,  3.59111942,  4.36924592,  3.2992613 ,\n",
              "       20.38709883,  2.45099177,  3.46551728,  2.54176511, 18.77914872,\n",
              "       11.35588017,  9.08533326, 11.77819461, 22.73288567,  2.16253159,\n",
              "        3.78504427,  7.01162371,  2.93847371,  5.75305385,  5.41605178,\n",
              "        5.61325321,  2.59200596, 11.36558855,  3.49864712,  2.35002464,\n",
              "        4.14073497,  9.99670724,  2.79515377,  5.28413919,  4.39630802,\n",
              "        1.94142328,  2.82876903,  9.98699887,  2.51348946,  4.938885  ,\n",
              "        2.22964075,  4.79774945,  5.01521712,  3.47364804,  3.50532163,\n",
              "        3.40253418,  2.63253844,  7.08686364,  7.26088631,  6.49853593,\n",
              "        2.07382129, 21.61156801, 13.88005846, 18.79613838,  4.54812278,\n",
              "        5.85499182,  8.21036569,  2.46227776, 20.47326069,  8.08901096,\n",
              "        4.68925833,  3.07730351,  4.5574671 ,  1.88887669,  3.73468206,\n",
              "        4.93694332,  1.90052674,  8.25648048,  1.9869313 ,  2.74115092,\n",
              "        2.08486457,  3.50143828,  7.64327505,  3.69584855,  6.12452067,\n",
              "        6.92910249,  3.07220661,  2.48776226,  1.92831697,  2.71505966,\n",
              "        5.05587095,  2.91286786,  2.2268496 ,  5.85292879, 12.04274791,\n",
              "        2.38643106])"
            ]
          },
          "metadata": {
            "tags": []
          },
          "execution_count": 8
        }
      ]
    },
    {
      "cell_type": "code",
      "metadata": {
        "colab": {
          "base_uri": "https://localhost:8080/",
          "height": 284
        },
        "id": "3M4Ql699xPap",
        "outputId": "552f8dac-90be-47cf-a531-8c61d4015d47"
      },
      "source": [
        "#visualisation\n",
        "plt.scatter(x,y)\n",
        "plt.plot(x,y_pred, color='red')\n",
        "\n",
        "#plt.show()\n",
        "model.intercept_\n",
        "model.coef_"
      ],
      "execution_count": 13,
      "outputs": [
        {
          "output_type": "execute_result",
          "data": {
            "text/plain": [
              "array([1.21354725])"
            ]
          },
          "metadata": {
            "tags": []
          },
          "execution_count": 13
        },
        {
          "output_type": "display_data",
          "data": {
            "image/png": "[encoded data removed]",
            "text/plain": [
              "<Figure size 432x288 with 1 Axes>"
            ]
          },
          "metadata": {
            "tags": [],
            "needs_background": "light"
          }
        }
      ]
    },
    {
      "cell_type": "code",
      "metadata": {
        "colab": {
          "base_uri": "https://localhost:8080/"
        },
        "id": "5S4evtciyMnC",
        "outputId": "e6287af5-7668-4ce2-ea65-cc96cdfcb938"
      },
      "source": [
        "#Example 2\n",
        "import numpy as np\n",
        "import pandas as pd\n",
        "import matplotlib.pyplot as plt\n",
        "dataset = pd.read_csv('Salary_Data-1.csv').values\n",
        "\n",
        "x = dataset[:,0:-1]\n",
        "y = dataset[:,-1]\n",
        "x,y"
      ],
      "execution_count": 18,
      "outputs": [
        {
          "output_type": "execute_result",
          "data": {
            "text/plain": [
              "(array([[ 1.1],\n",
              "        [ 1.3],\n",
              "        [ 1.5],\n",
              "        [ 2. ],\n",
              "        [ 2.2],\n",
              "        [ 2.9],\n",
              "        [ 3. ],\n",
              "        [ 3.2],\n",
              "        [ 3.2],\n",
              "        [ 3.7],\n",
              "        [ 3.9],\n",
              "        [ 4. ],\n",
              "        [ 4. ],\n",
              "        [ 4.1],\n",
              "        [ 4.5],\n",
              "        [ 4.9],\n",
              "        [ 5.1],\n",
              "        [ 5.3],\n",
              "        [ 5.9],\n",
              "        [ 6. ],\n",
              "        [ 6.8],\n",
              "        [ 7.1],\n",
              "        [ 7.9],\n",
              "        [ 8.2],\n",
              "        [ 8.7],\n",
              "        [ 9. ],\n",
              "        [ 9.5],\n",
              "        [ 9.6],\n",
              "        [10.3],\n",
              "        [10.5]]),\n",
              " array([ 39343.,  46205.,  37731.,  43525.,  39891.,  56642.,  60150.,\n",
              "         54445.,  64445.,  57189.,  63218.,  55794.,  56957.,  57081.,\n",
              "         61111.,  67938.,  66029.,  83088.,  81363.,  93940.,  91738.,\n",
              "         98273., 101302., 113812., 109431., 105582., 116969., 112635.,\n",
              "        122391., 121872.]))"
            ]
          },
          "metadata": {
            "tags": []
          },
          "execution_count": 18
        }
      ]
    },
    {
      "cell_type": "code",
      "metadata": {
        "colab": {
          "base_uri": "https://localhost:8080/",
          "height": 283
        },
        "id": "I3oWQ1ylz1lS",
        "outputId": "3f9b47cb-b3c1-4c76-cc8d-27fe683c2bed"
      },
      "source": [
        "plt.scatter(x,y)"
      ],
      "execution_count": 19,
      "outputs": [
        {
          "output_type": "execute_result",
          "data": {
            "text/plain": [
              "<matplotlib.collections.PathCollection at 0x7f0f8b4e10d0>"
            ]
          },
          "metadata": {
            "tags": []
          },
          "execution_count": 19
        },
        {
          "output_type": "display_data",
          "data": {
            "image/png": "[encoded data removed]",
            "text/plain": [
              "<Figure size 432x288 with 1 Axes>"
            ]
          },
          "metadata": {
            "tags": [],
            "needs_background": "light"
          }
        }
      ]
    },
    {
      "cell_type": "code",
      "metadata": {
        "id": "heT1c6NbzaGt"
      },
      "source": [
        "from sklearn.model_selection import train_test_split\n",
        "x_train, x_test, y_train, y_test = train_test_split(x, y, test_size = 0.3, random_state = 0)"
      ],
      "execution_count": 20,
      "outputs": []
    },
    {
      "cell_type": "code",
      "metadata": {
        "colab": {
          "base_uri": "https://localhost:8080/",
          "height": 295
        },
        "id": "uKL2QmPi0q9n",
        "outputId": "b8fdb578-f58b-4172-f323-4a0a02d87b9f"
      },
      "source": [
        "from sklearn.linear_model import LinearRegression\n",
        "model = LinearRegression()\n",
        "model.fit(x_train,y_train)\n",
        "y_pred = model.predict(x_test)\n",
        "\n",
        "plt.scatter(x_train, y_train, color='red')\n",
        "plt.scatter(x_test, y_test, color='green')\n",
        "plt.plot(x_test, y_pred, color='blue')\n",
        "plt.title('Salary Vs Experince(Training set)')\n",
        "plt.xlabel('Years of exp')\n",
        "plt.ylabel('Salary')\n",
        "plt.show()"
      ],
      "execution_count": 26,
      "outputs": [
        {
          "output_type": "display_data",
          "data": {
            "image/png": "[encoded data removed]",
            "text/plain": [
              "<Figure size 432x288 with 1 Axes>"
            ]
          },
          "metadata": {
            "tags": [],
            "needs_background": "light"
          }
        }
      ]
    },
    {
      "cell_type": "code",
      "metadata": {
        "colab": {
          "base_uri": "https://localhost:8080/",
          "height": 295
        },
        "id": "2b7rXvm_2icI",
        "outputId": "a0af117f-ee02-4a3c-e79a-1bd45f1b1140"
      },
      "source": [
        "#Visualising the Training & Test Set Results\n",
        "plt.scatter(x_train, y_train, color='red')\n",
        "plt.scatter(x_test, y_test, color='green')\n",
        "plt.plot(x_train, model.predict(x_train), color='blue')\n",
        "plt.title('Salary Vs Experince(Training set)')\n",
        "plt.xlabel('Years of exp')\n",
        "plt.ylabel('Salary')\n",
        "plt.show()"
      ],
      "execution_count": 29,
      "outputs": [
        {
          "output_type": "display_data",
          "data": {
            "image/png": "[encoded data removed]",
            "text/plain": [
              "<Figure size 432x288 with 1 Axes>"
            ]
          },
          "metadata": {
            "tags": [],
            "needs_background": "light"
          }
        }
      ]
    },
    {
      "cell_type": "markdown",
      "metadata": {
        "id": "I5RTB8BQ3P8e"
      },
      "source": [
        "**Multivariable Linear Regression Model**"
      ]
    },
    {
      "cell_type": "code",
      "metadata": {
        "colab": {
          "base_uri": "https://localhost:8080/"
        },
        "id": "dzgvxstJ3X75",
        "outputId": "2782125c-e82e-49e2-827d-502db0982818"
      },
      "source": [
        "import numpy as np\n",
        "import pandas as pd\n",
        "import matplotlib.pyplot as plt\n",
        "from sklearn.linear_model import LinearRegression\n",
        "\n",
        "x = [[2, 6], [5, 1], [12, 2], [13, 4], [24, 9], [45, 15], [55, 30], [72, 28]]\n",
        "y = [4, 5, 20, 14, 32, 22, 38, 43]\n",
        "x, y = np.array(x), np.array(y)\n",
        "print(x)\n",
        "print(y)"
      ],
      "execution_count": 34,
      "outputs": [
        {
          "output_type": "stream",
          "text": [
            "[[ 2  6]\n",
            " [ 5  1]\n",
            " [12  2]\n",
            " [13  4]\n",
            " [24  9]\n",
            " [45 15]\n",
            " [55 30]\n",
            " [72 28]]\n",
            "[ 4  5 20 14 32 22 38 43]\n"
          ],
          "name": "stdout"
        }
      ]
    },
    {
      "cell_type": "code",
      "metadata": {
        "id": "3uKvSBNn7NhB"
      },
      "source": [
        "model = LinearRegression().fit(x,y)"
      ],
      "execution_count": 35,
      "outputs": []
    },
    {
      "cell_type": "code",
      "metadata": {
        "colab": {
          "base_uri": "https://localhost:8080/"
        },
        "id": "0TYdfGiT-Ma0",
        "outputId": "2a809b7f-2192-469e-d2c3-eb4b21c406c5"
      },
      "source": [
        "r_sq = model.score(x,y)\n",
        "\n",
        "print(\"Coefficient of determination = \",r_sq)\n",
        "print(\"Intercept = \",model.intercept_)\n",
        "print(\"Slope = \",model.coef_)\n"
      ],
      "execution_count": 36,
      "outputs": [
        {
          "output_type": "stream",
          "text": [
            "Coefficient of determination =  0.7868387608506071\n",
            "Intercept =  8.006580202648177\n",
            "Slope =  [0.49045217 0.02236066]\n"
          ],
          "name": "stdout"
        }
      ]
    },
    {
      "cell_type": "code",
      "metadata": {
        "colab": {
          "base_uri": "https://localhost:8080/"
        },
        "id": "fMkbrmUG-sL5",
        "outputId": "d12f5e89-fd90-4ad8-a8a6-bd1217d91bf3"
      },
      "source": [
        "y_pred = model.predict(x)\n",
        "print('predicted response:', y_pred, sep='\\n')"
      ],
      "execution_count": 37,
      "outputs": [
        {
          "output_type": "stream",
          "text": [
            "predicted response:\n",
            "[ 9.12164853 10.48120173 13.9367276  14.4719011  19.97867831 30.41233792\n",
            " 35.65226961 43.9452352 ]\n"
          ],
          "name": "stdout"
        }
      ]
    },
    {
      "cell_type": "code",
      "metadata": {
        "colab": {
          "base_uri": "https://localhost:8080/"
        },
        "id": "HKADHWvM-2dV",
        "outputId": "d1e58656-ce37-41f7-8f2e-a251342be284"
      },
      "source": [
        "#alternate way to predict\n",
        "y_pred = model.intercept_ + np.sum(model.coef_*x, axis=1)\n",
        "print('predicted response:', y_pred, sep='\\n')"
      ],
      "execution_count": 39,
      "outputs": [
        {
          "output_type": "stream",
          "text": [
            "predicted response:\n",
            "[ 9.12164853 10.48120173 13.9367276  14.4719011  19.97867831 30.41233792\n",
            " 35.65226961 43.9452352 ]\n"
          ],
          "name": "stdout"
        }
      ]
    },
    {
      "cell_type": "code",
      "metadata": {
        "colab": {
          "base_uri": "https://localhost:8080/",
          "height": 265
        },
        "id": "McM8BHcF_otN",
        "outputId": "b564cb83-8493-4dd6-cea1-94da5f8a9c46"
      },
      "source": [
        "plt.scatter(x[:,:-1],y)\n",
        "plt.plot(y_pred,x[:,:-1], color='red')\n",
        "\n",
        "plt.scatter(x[:,-1:],y)\n",
        "plt.plot(y_pred,x[:,-1:], color='green')\n",
        "plt.show()"
      ],
      "execution_count": 52,
      "outputs": [
        {
          "output_type": "display_data",
          "data": {
            "image/png": "[encoded data removed]",
            "text/plain": [
              "<Figure size 432x288 with 1 Axes>"
            ]
          },
          "metadata": {
            "tags": [],
            "needs_background": "light"
          }
        }
      ]
    },
    {
      "cell_type": "code",
      "metadata": {
        "id": "ovky8u9RIilt"
      },
      "source": [
        "import pandas as pd  \n",
        "import numpy as np  \n",
        "import matplotlib.pyplot as plt  \n",
        "import seaborn as seabornInstance \n",
        "from sklearn.model_selection import train_test_split \n",
        "from sklearn.linear_model import LinearRegression\n",
        "from sklearn import metrics"
      ],
      "execution_count": 105,
      "outputs": []
    },
    {
      "cell_type": "code",
      "metadata": {
        "id": "lhBJm43mIwmO"
      },
      "source": [
        "dataset = pd.read_csv('winequality-red.csv')"
      ],
      "execution_count": 106,
      "outputs": []
    },
    {
      "cell_type": "code",
      "metadata": {
        "colab": {
          "base_uri": "https://localhost:8080/"
        },
        "id": "54ZPI4BSQ1vu",
        "outputId": "c0471401-2981-4a94-a8c8-9fbd3545ea89"
      },
      "source": [
        "dataset.shape"
      ],
      "execution_count": 107,
      "outputs": [
        {
          "output_type": "execute_result",
          "data": {
            "text/plain": [
              "(1599, 12)"
            ]
          },
          "metadata": {
            "tags": []
          },
          "execution_count": 107
        }
      ]
    },
    {
      "cell_type": "code",
      "metadata": {
        "colab": {
          "base_uri": "https://localhost:8080/",
          "height": 351
        },
        "id": "i6xJua29Q3nh",
        "outputId": "a6f37d6e-5acb-4443-aac5-a96cf838a1e5"
      },
      "source": [
        "dataset.describe()"
      ],
      "execution_count": 108,
      "outputs": [
        {
          "output_type": "execute_result",
          "data": {
            "text/html": [
              "<div>\n",
              "<style scoped>\n",
              "    .dataframe tbody tr th:only-of-type {\n",
              "        vertical-align: middle;\n",
              "    }\n",
              "\n",
              "    .dataframe tbody tr th {\n",
              "        vertical-align: top;\n",
              "    }\n",
              "\n",
              "    .dataframe thead th {\n",
              "        text-align: right;\n",
              "    }\n",
              "</style>\n",
              "<table border=\"1\" class=\"dataframe\">\n",
              "  <thead>\n",
              "    <tr style=\"text-align: right;\">\n",
              "      <th></th>\n",
              "      <th>fixed acidity</th>\n",
              "      <th>volatile acidity</th>\n",
              "      <th>citric acid</th>\n",
              "      <th>residual sugar</th>\n",
              "      <th>chlorides</th>\n",
              "      <th>free sulfur dioxide</th>\n",
              "      <th>total sulfur dioxide</th>\n",
              "      <th>density</th>\n",
              "      <th>pH</th>\n",
              "      <th>sulphates</th>\n",
              "      <th>alcohol</th>\n",
              "      <th>quality</th>\n",
              "    </tr>\n",
              "  </thead>\n",
              "  <tbody>\n",
              "    <tr>\n",
              "      <th>count</th>\n",
              "      <td>1599.000000</td>\n",
              "      <td>1599.000000</td>\n",
              "      <td>1599.000000</td>\n",
              "      <td>1599.000000</td>\n",
              "      <td>1599.000000</td>\n",
              "      <td>1599.000000</td>\n",
              "      <td>1599.000000</td>\n",
              "      <td>1599.000000</td>\n",
              "      <td>1599.000000</td>\n",
              "      <td>1599.000000</td>\n",
              "      <td>1599.000000</td>\n",
              "      <td>1599.000000</td>\n",
              "    </tr>\n",
              "    <tr>\n",
              "      <th>mean</th>\n",
              "      <td>8.319637</td>\n",
              "      <td>0.527821</td>\n",
              "      <td>0.270976</td>\n",
              "      <td>2.538806</td>\n",
              "      <td>0.087467</td>\n",
              "      <td>15.874922</td>\n",
              "      <td>46.467792</td>\n",
              "      <td>0.996747</td>\n",
              "      <td>3.311113</td>\n",
              "      <td>0.658149</td>\n",
              "      <td>10.422983</td>\n",
              "      <td>5.636023</td>\n",
              "    </tr>\n",
              "    <tr>\n",
              "      <th>std</th>\n",
              "      <td>1.741096</td>\n",
              "      <td>0.179060</td>\n",
              "      <td>0.194801</td>\n",
              "      <td>1.409928</td>\n",
              "      <td>0.047065</td>\n",
              "      <td>10.460157</td>\n",
              "      <td>32.895324</td>\n",
              "      <td>0.001887</td>\n",
              "      <td>0.154386</td>\n",
              "      <td>0.169507</td>\n",
              "      <td>1.065668</td>\n",
              "      <td>0.807569</td>\n",
              "    </tr>\n",
              "    <tr>\n",
              "      <th>min</th>\n",
              "      <td>4.600000</td>\n",
              "      <td>0.120000</td>\n",
              "      <td>0.000000</td>\n",
              "      <td>0.900000</td>\n",
              "      <td>0.012000</td>\n",
              "      <td>1.000000</td>\n",
              "      <td>6.000000</td>\n",
              "      <td>0.990070</td>\n",
              "      <td>2.740000</td>\n",
              "      <td>0.330000</td>\n",
              "      <td>8.400000</td>\n",
              "      <td>3.000000</td>\n",
              "    </tr>\n",
              "    <tr>\n",
              "      <th>25%</th>\n",
              "      <td>7.100000</td>\n",
              "      <td>0.390000</td>\n",
              "      <td>0.090000</td>\n",
              "      <td>1.900000</td>\n",
              "      <td>0.070000</td>\n",
              "      <td>7.000000</td>\n",
              "      <td>22.000000</td>\n",
              "      <td>0.995600</td>\n",
              "      <td>3.210000</td>\n",
              "      <td>0.550000</td>\n",
              "      <td>9.500000</td>\n",
              "      <td>5.000000</td>\n",
              "    </tr>\n",
              "    <tr>\n",
              "      <th>50%</th>\n",
              "      <td>7.900000</td>\n",
              "      <td>0.520000</td>\n",
              "      <td>0.260000</td>\n",
              "      <td>2.200000</td>\n",
              "      <td>0.079000</td>\n",
              "      <td>14.000000</td>\n",
              "      <td>38.000000</td>\n",
              "      <td>0.996750</td>\n",
              "      <td>3.310000</td>\n",
              "      <td>0.620000</td>\n",
              "      <td>10.200000</td>\n",
              "      <td>6.000000</td>\n",
              "    </tr>\n",
              "    <tr>\n",
              "      <th>75%</th>\n",
              "      <td>9.200000</td>\n",
              "      <td>0.640000</td>\n",
              "      <td>0.420000</td>\n",
              "      <td>2.600000</td>\n",
              "      <td>0.090000</td>\n",
              "      <td>21.000000</td>\n",
              "      <td>62.000000</td>\n",
              "      <td>0.997835</td>\n",
              "      <td>3.400000</td>\n",
              "      <td>0.730000</td>\n",
              "      <td>11.100000</td>\n",
              "      <td>6.000000</td>\n",
              "    </tr>\n",
              "    <tr>\n",
              "      <th>max</th>\n",
              "      <td>15.900000</td>\n",
              "      <td>1.580000</td>\n",
              "      <td>1.000000</td>\n",
              "      <td>15.500000</td>\n",
              "      <td>0.611000</td>\n",
              "      <td>72.000000</td>\n",
              "      <td>289.000000</td>\n",
              "      <td>1.003690</td>\n",
              "      <td>4.010000</td>\n",
              "      <td>2.000000</td>\n",
              "      <td>14.900000</td>\n",
              "      <td>8.000000</td>\n",
              "    </tr>\n",
              "  </tbody>\n",
              "</table>\n",
              "</div>"
            ],
            "text/plain": [
              "       fixed acidity  volatile acidity  ...      alcohol      quality\n",
              "count    1599.000000       1599.000000  ...  1599.000000  1599.000000\n",
              "mean        8.319637          0.527821  ...    10.422983     5.636023\n",
              "std         1.741096          0.179060  ...     1.065668     0.807569\n",
              "min         4.600000          0.120000  ...     8.400000     3.000000\n",
              "25%         7.100000          0.390000  ...     9.500000     5.000000\n",
              "50%         7.900000          0.520000  ...    10.200000     6.000000\n",
              "75%         9.200000          0.640000  ...    11.100000     6.000000\n",
              "max        15.900000          1.580000  ...    14.900000     8.000000\n",
              "\n",
              "[8 rows x 12 columns]"
            ]
          },
          "metadata": {
            "tags": []
          },
          "execution_count": 108
        }
      ]
    },
    {
      "cell_type": "code",
      "metadata": {
        "colab": {
          "base_uri": "https://localhost:8080/"
        },
        "id": "NI40G2KsQ_zs",
        "outputId": "b78e35ff-85e1-4b91-c4fe-730878c07bba"
      },
      "source": [
        "dataset.isnull().any()"
      ],
      "execution_count": 109,
      "outputs": [
        {
          "output_type": "execute_result",
          "data": {
            "text/plain": [
              "fixed acidity           False\n",
              "volatile acidity        False\n",
              "citric acid             False\n",
              "residual sugar          False\n",
              "chlorides               False\n",
              "free sulfur dioxide     False\n",
              "total sulfur dioxide    False\n",
              "density                 False\n",
              "pH                      False\n",
              "sulphates               False\n",
              "alcohol                 False\n",
              "quality                 False\n",
              "dtype: bool"
            ]
          },
          "metadata": {
            "tags": []
          },
          "execution_count": 109
        }
      ]
    },
    {
      "cell_type": "code",
      "metadata": {
        "id": "ZHk7rpq9RJOR"
      },
      "source": [
        "dataset = dataset.fillna(method='ffill')"
      ],
      "execution_count": 110,
      "outputs": []
    },
    {
      "cell_type": "code",
      "metadata": {
        "id": "nuocOEEIR_dq"
      },
      "source": [
        "x = dataset[['fixed acidity', 'volatile acidity', 'citric acid', 'residual sugar', 'chlorides', 'free sulfur dioxide', 'total sulfur dioxide', 'density', 'pH', 'sulphates','alcohol']].values\n",
        "y = dataset['quality'].values"
      ],
      "execution_count": 115,
      "outputs": []
    },
    {
      "cell_type": "code",
      "metadata": {
        "colab": {
          "base_uri": "https://localhost:8080/",
          "height": 767
        },
        "id": "dfBJDR3lgb0c",
        "outputId": "8b9e0c04-25d7-4021-d050-bcaae5358332"
      },
      "source": [
        "plt.figure(figsize=(15,10))\n",
        "plt.tight_layout()\n",
        "seabornInstance.distplot(dataset['quality'])"
      ],
      "execution_count": 116,
      "outputs": [
        {
          "output_type": "stream",
          "text": [
            "/usr/local/lib/python3.7/dist-packages/seaborn/distributions.py:2557: FutureWarning: `distplot` is a deprecated function and will be removed in a future version. Please adapt your code to use either `displot` (a figure-level function with similar flexibility) or `histplot` (an axes-level function for histograms).\n",
            "  warnings.warn(msg, FutureWarning)\n"
          ],
          "name": "stderr"
        },
        {
          "output_type": "execute_result",
          "data": {
            "text/plain": [
              "<matplotlib.axes._subplots.AxesSubplot at 0x7f0f8b475b90>"
            ]
          },
          "metadata": {
            "tags": []
          },
          "execution_count": 116
        },
        {
          "output_type": "display_data",
          "data": {
            "image/png": "[encoded data removed]",
            "text/plain": [
              "<Figure size 1500x1000 with 1 Axes>"
            ]
          },
          "metadata": {
            "tags": []
          }
        }
      ]
    },
    {
      "cell_type": "code",
      "metadata": {
        "id": "e_ojXPxjlZj1"
      },
      "source": [
        "x_train, x_test, y_train, y_test = train_test_split(x,y, test_size=0.2, random_state=0)"
      ],
      "execution_count": 117,
      "outputs": []
    },
    {
      "cell_type": "code",
      "metadata": {
        "colab": {
          "base_uri": "https://localhost:8080/"
        },
        "id": "_IbtcBip--xp",
        "outputId": "2911ccbe-a4e3-4ac3-e7ff-11709260528d"
      },
      "source": [
        "model = LinearRegression()\n",
        "model.fit(x_train,y_train)"
      ],
      "execution_count": 118,
      "outputs": [
        {
          "output_type": "execute_result",
          "data": {
            "text/plain": [
              "LinearRegression(copy_X=True, fit_intercept=True, n_jobs=None, normalize=False)"
            ]
          },
          "metadata": {
            "tags": []
          },
          "execution_count": 118
        }
      ]
    },
    {
      "cell_type": "code",
      "metadata": {
        "colab": {
          "base_uri": "https://localhost:8080/",
          "height": 167
        },
        "id": "iq-x-O4sJg9Q",
        "outputId": "3bf46431-27f2-4762-8d6a-841ce86e31a0"
      },
      "source": [
        "coeff = pd.DataFrame(model.coef_, x.columns, columns=[\"Coefficient\"])"
      ],
      "execution_count": 119,
      "outputs": [
        {
          "output_type": "error",
          "ename": "AttributeError",
          "evalue": "ignored",
          "traceback": [
            "\u001b[0;31m---------------------------------------------------------------------------\u001b[0m",
            "\u001b[0;31mAttributeError\u001b[0m                            Traceback (most recent call last)",
            "\u001b[0;32m<ipython-input-119-76895218fbe8>\u001b[0m in \u001b[0;36m<module>\u001b[0;34m()\u001b[0m\n\u001b[0;32m----> 1\u001b[0;31m \u001b[0mcoeff\u001b[0m \u001b[0;34m=\u001b[0m \u001b[0mpd\u001b[0m\u001b[0;34m.\u001b[0m\u001b[0mDataFrame\u001b[0m\u001b[0;34m(\u001b[0m\u001b[0mmodel\u001b[0m\u001b[0;34m.\u001b[0m\u001b[0mcoef_\u001b[0m\u001b[0;34m,\u001b[0m \u001b[0mx\u001b[0m\u001b[0;34m.\u001b[0m\u001b[0mcolumns\u001b[0m\u001b[0;34m,\u001b[0m \u001b[0mcolumns\u001b[0m\u001b[0;34m=\u001b[0m\u001b[0;34m[\u001b[0m\u001b[0;34m\"Coefficient\"\u001b[0m\u001b[0;34m]\u001b[0m\u001b[0;34m)\u001b[0m\u001b[0;34m\u001b[0m\u001b[0;34m\u001b[0m\u001b[0m\n\u001b[0m",
            "\u001b[0;31mAttributeError\u001b[0m: 'numpy.ndarray' object has no attribute 'columns'"
          ]
        }
      ]
    },
    {
      "cell_type": "code",
      "metadata": {
        "colab": {
          "base_uri": "https://localhost:8080/"
        },
        "id": "gh_pBvcLKe4c",
        "outputId": "93c9cc0d-6ba1-41a9-852c-841b861324ff"
      },
      "source": [
        "y_pred = model.predict(x_test)\n",
        "y_pred"
      ],
      "execution_count": 120,
      "outputs": [
        {
          "output_type": "execute_result",
          "data": {
            "text/plain": [
              "array([5.7829301 , 5.03619267, 6.59698929, 5.33912637, 5.93952898,\n",
              "       5.0072068 , 5.39616171, 6.05211188, 4.86760343, 4.95067572,\n",
              "       5.28580441, 5.41265269, 5.7057424 , 5.12921737, 5.52885206,\n",
              "       6.38052412, 6.81012527, 5.73803346, 5.97618825, 5.08613415,\n",
              "       6.34479863, 5.16400983, 5.64203971, 6.1462903 , 5.4817802 ,\n",
              "       5.03391406, 5.18721293, 6.48783659, 5.33301372, 6.30458308,\n",
              "       6.03452293, 5.82849303, 5.58503524, 5.28512701, 5.75656128,\n",
              "       6.15273792, 5.14134479, 5.48228021, 6.38983359, 5.7901819 ,\n",
              "       5.42936928, 6.04810414, 6.70159678, 6.60160183, 5.97253803,\n",
              "       4.78890763, 5.49565005, 6.01881894, 5.48895041, 6.10824243,\n",
              "       5.3126164 , 5.28492351, 5.76043226, 6.36081498, 5.7195388 ,\n",
              "       5.26971928, 5.08498332, 5.31050693, 6.50895816, 5.44323413,\n",
              "       5.16377401, 5.76427324, 6.0703837 , 6.28933679, 5.07315141,\n",
              "       6.11874641, 5.35681067, 6.01343647, 6.12184268, 5.98547673,\n",
              "       5.35327968, 5.4367731 , 5.06017324, 5.58939889, 5.62593935,\n",
              "       6.25651326, 5.37875073, 5.31024191, 5.72008022, 6.30275434,\n",
              "       5.71093253, 5.27783285, 5.89582077, 6.0876033 , 5.50616533,\n",
              "       5.37465715, 6.2437351 , 5.07332478, 5.32665801, 4.97398339,\n",
              "       5.15975198, 5.3222433 , 5.80802642, 5.41018532, 6.20608506,\n",
              "       5.35327968, 6.29102872, 5.3563169 , 5.44615319, 5.91167448,\n",
              "       6.8638794 , 5.95652806, 5.78388971, 6.29371091, 5.59599754,\n",
              "       4.95365311, 5.59599754, 5.42146389, 6.01303846, 5.27638601,\n",
              "       5.88672069, 5.12760247, 6.2448062 , 5.02250118, 5.61019652,\n",
              "       5.78465194, 5.67109764, 6.40669755, 5.80411913, 5.64203971,\n",
              "       5.1425518 , 5.90518858, 5.40535036, 5.08051616, 6.21318148,\n",
              "       6.31555382, 5.31479331, 5.43479319, 6.00371415, 6.44580043,\n",
              "       5.42123137, 5.21176713, 6.0115925 , 5.82456823, 6.30161065,\n",
              "       5.2778688 , 5.89171326, 5.27523169, 6.06991874, 5.33404791,\n",
              "       6.01515226, 5.09525238, 5.49565005, 5.26881614, 5.6457977 ,\n",
              "       5.7407852 , 6.2448062 , 6.40720033, 6.25146759, 5.27789573,\n",
              "       5.91333663, 5.90495368, 5.42146389, 5.51302494, 5.54847605,\n",
              "       5.40070493, 5.08033848, 5.3510922 , 6.22327966, 6.09839802,\n",
              "       5.93181807, 5.58654048, 6.28448742, 5.12182863, 5.92703798,\n",
              "       5.02880639, 6.02096889, 6.48614221, 5.47510197, 5.95369102,\n",
              "       5.96856352, 5.52714605, 4.99032758, 6.61783587, 5.83168392,\n",
              "       6.27155921, 6.1696774 , 6.82398109, 6.09221279, 4.79911152,\n",
              "       5.08007664, 6.97183788, 5.47185136, 6.15652237, 6.76814871,\n",
              "       5.01090071, 5.64760285, 5.78388971, 4.99837302, 6.13355739,\n",
              "       6.07096526, 5.90429107, 5.15557434, 5.46274017, 5.18721745,\n",
              "       5.16438178, 5.28580441, 5.14635187, 5.23327742, 5.13457255,\n",
              "       5.25484703, 6.16206701, 5.16430349, 5.29976489, 5.41360202,\n",
              "       4.95989181, 5.08718841, 6.34194262, 6.02109942, 5.40945753,\n",
              "       5.93102776, 6.16931767, 5.35093909, 6.37326597, 5.00471968,\n",
              "       5.44868099, 5.90152973, 6.03130172, 5.56044971, 5.00135995,\n",
              "       5.03938153, 5.93018212, 6.39367602, 5.74511903, 5.42761053,\n",
              "       6.01275242, 6.38386771, 5.76122648, 4.82219859, 5.46878592,\n",
              "       5.04430938, 5.90506617, 5.06816998, 5.87105926, 6.25707687,\n",
              "       5.63526985, 6.1124061 , 6.58032257, 6.51304421, 6.12637713,\n",
              "       5.34985341, 4.91834558, 5.02633902, 5.10209868, 5.93751622,\n",
              "       4.82726361, 5.58643272, 5.25007252, 4.87286412, 6.34221756,\n",
              "       4.87320824, 5.26969753, 4.89400677, 5.33869588, 5.52716577,\n",
              "       5.53897238, 5.12721593, 5.06001131, 5.13911179, 5.59628108,\n",
              "       5.34085607, 6.96723853, 5.31357668, 5.6468939 , 5.24038769,\n",
              "       4.69060078, 5.33061878, 4.97930332, 5.60209709, 6.49226284,\n",
              "       5.72883634, 5.7319909 , 5.63538976, 6.086924  , 5.92577835,\n",
              "       5.85174439, 6.37461452, 5.18497794, 6.56584684, 6.14312626,\n",
              "       5.37501664, 6.91651759, 5.7319909 , 6.34086207, 5.78421572,\n",
              "       5.18439125, 5.54950551, 5.33360868, 6.269919  , 5.88265344,\n",
              "       5.68163948, 5.42086654, 6.12538899, 5.31406745, 5.19528191,\n",
              "       5.70178575, 5.5675469 , 5.14670499, 5.15556398, 5.24007613,\n",
              "       5.69892321, 5.06382643, 5.35893169, 5.69605721, 6.10381152,\n",
              "       5.84992365, 5.33722415, 5.05158628, 5.59207818, 5.30872494,\n",
              "       5.91032222, 5.92390941, 5.3494868 , 5.3563169 , 5.10159886,\n",
              "       6.55975683, 6.01757571, 6.25129053, 5.16392559, 6.36720517])"
            ]
          },
          "metadata": {
            "tags": []
          },
          "execution_count": 120
        }
      ]
    },
    {
      "cell_type": "code",
      "metadata": {
        "colab": {
          "base_uri": "https://localhost:8080/"
        },
        "id": "cgfn5H4TLS4t",
        "outputId": "2389f378-efc2-4f5f-f5c9-faf92a6ceb8a"
      },
      "source": [
        "  df1 = pd.DataFrame({'Actual':y_test, 'Predicted':y_pred})\n",
        "  df1=df1.head(20)\n",
        "  print(df1)"
      ],
      "execution_count": 125,
      "outputs": [
        {
          "output_type": "stream",
          "text": [
            "    Actual  Predicted\n",
            "0        6   5.782930\n",
            "1        5   5.036193\n",
            "2        7   6.596989\n",
            "3        6   5.339126\n",
            "4        5   5.939529\n",
            "5        6   5.007207\n",
            "6        5   5.396162\n",
            "7        6   6.052112\n",
            "8        4   4.867603\n",
            "9        5   4.950676\n",
            "10       5   5.285804\n",
            "11       5   5.412653\n",
            "12       6   5.705742\n",
            "13       5   5.129217\n",
            "14       6   5.528852\n",
            "15       6   6.380524\n",
            "16       7   6.810125\n",
            "17       5   5.738033\n",
            "18       5   5.976188\n",
            "19       4   5.086134\n"
          ],
          "name": "stdout"
        }
      ]
    },
    {
      "cell_type": "code",
      "metadata": {
        "colab": {
          "base_uri": "https://localhost:8080/",
          "height": 680
        },
        "id": "iYg6KdblLv0g",
        "outputId": "f8ddc6f0-c1db-4752-e73f-96fc23110282"
      },
      "source": [
        "df1.plot(kind='bar',figsize=(10,8))\n",
        "plt.grid(which='major', linestyle='-', linewidth='0.5', color='green')\n",
        "plt.grid(which='minor', linestyle=':', linewidth='0.5', color='black')\n",
        "plt.show()"
      ],
      "execution_count": 128,
      "outputs": [
        {
          "output_type": "display_data",
          "data": {
            "image/png": "[encoded data removed]",
            "text/plain": [
              "<Figure size 1000x800 with 1 Axes>"
            ]
          },
          "metadata": {
            "tags": []
          }
        }
      ]
    },
    {
      "cell_type": "code",
      "metadata": {
        "colab": {
          "base_uri": "https://localhost:8080/"
        },
        "id": "vGSp9OzVM07U",
        "outputId": "ded40bd6-771a-4589-9010-8f5a7c9ebde3"
      },
      "source": [
        "print('Mean Absolute Error:', metrics.mean_absolute_error(y_test, y_pred))  \n",
        "print('Mean Squared Error:', metrics.mean_squared_error(y_test, y_pred))  \n",
        "print('Root Mean Squared Error:', np.sqrt(metrics.mean_squared_error(y_test, y_pred)))"
      ],
      "execution_count": 129,
      "outputs": [
        {
          "output_type": "stream",
          "text": [
            "Mean Absolute Error: 0.46963309286610855\n",
            "Mean Squared Error: 0.3844711978201225\n",
            "Root Mean Squared Error: 0.6200574149384253\n"
          ],
          "name": "stdout"
        }
      ]
    }
  ]
}