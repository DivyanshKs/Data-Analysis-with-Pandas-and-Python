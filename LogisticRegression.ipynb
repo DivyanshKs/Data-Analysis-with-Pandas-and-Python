{
  "nbformat": 4,
  "nbformat_minor": 0,
  "metadata": {
    "colab": {
      "name": "Untitled5.ipynb",
      "provenance": [],
      "authorship_tag": "ABX9TyNaLbHLb5WGEYfqsrhmIU6S",
      "include_colab_link": true
    },
    "kernelspec": {
      "name": "python3",
      "display_name": "Python 3"
    },
    "language_info": {
      "name": "python"
    }
  },
  "cells": [
    {
      "cell_type": "markdown",
      "metadata": {
        "id": "view-in-github",
        "colab_type": "text"
      },
      "source": [
        "<a href=\"https://colab.research.google.com/github/DivyanshKs/Data-Analysis-with-Pandas-and-Python/blob/master/LogisticRegression.ipynb\" target=\"_parent\"><img src=\"https://colab.research.google.com/assets/colab-badge.svg\" alt=\"Open In Colab\"/></a>"
      ]
    },
    {
      "cell_type": "markdown",
      "metadata": {
        "id": "XE0ETjnNUuYe"
      },
      "source": [
        "**Logistic Regression - 0**"
      ]
    },
    {
      "cell_type": "code",
      "metadata": {
        "id": "GfghZR4PUnOd"
      },
      "source": [
        "import numpy as np\n",
        "import pandas as pd\n",
        "import matplotlib.pyplot as plt\n",
        "from sklearn.linear_model import LogisticRegression\n",
        "import seaborn as sn"
      ],
      "execution_count": 2,
      "outputs": []
    },
    {
      "cell_type": "code",
      "metadata": {
        "colab": {
          "base_uri": "https://localhost:8080/",
          "height": 204
        },
        "id": "YjV1AoRBVHWC",
        "outputId": "1a3702ce-7804-4179-c500-443d83281df9"
      },
      "source": [
        "candidates = {'gmat': [780,750,690,710,680,730,690,720,740,690,610,690,710,680,770,610,580,650,540,590,620,600,550,550,570,670,660,580,650,660,640,620,660,660,680,650,670,580,590,690],\n",
        "              'gpa': [4,3.9,3.3,3.7,3.9,3.7,2.3,3.3,3.3,1.7,2.7,3.7,3.7,3.3,3.3,3,2.7,3.7,2.7,2.3,3.3,2,2.3,2.7,3,3.3,3.7,2.3,3.7,3.3,3,2.7,4,3.3,3.3,2.3,2.7,3.3,1.7,3.7],\n",
        "              'work_experience': [3,4,3,5,4,6,1,4,5,1,3,5,6,4,3,1,4,6,2,3,2,1,4,1,2,6,4,2,6,5,1,2,4,6,5,1,2,1,4,5],\n",
        "              'admitted': [1,1,0,1,0,1,0,1,1,0,0,1,1,0,1,0,0,1,0,0,1,0,0,0,0,1,1,0,1,1,0,0,1,1,1,0,0,0,0,1]\n",
        "              }\n",
        "\n",
        "df = pd.DataFrame(candidates,columns= ['gmat', 'gpa','work_experience','admitted'])\n",
        "df.head()"
      ],
      "execution_count": 3,
      "outputs": [
        {
          "output_type": "execute_result",
          "data": {
            "text/html": [
              "<div>\n",
              "<style scoped>\n",
              "    .dataframe tbody tr th:only-of-type {\n",
              "        vertical-align: middle;\n",
              "    }\n",
              "\n",
              "    .dataframe tbody tr th {\n",
              "        vertical-align: top;\n",
              "    }\n",
              "\n",
              "    .dataframe thead th {\n",
              "        text-align: right;\n",
              "    }\n",
              "</style>\n",
              "<table border=\"1\" class=\"dataframe\">\n",
              "  <thead>\n",
              "    <tr style=\"text-align: right;\">\n",
              "      <th></th>\n",
              "      <th>gmat</th>\n",
              "      <th>gpa</th>\n",
              "      <th>work_experience</th>\n",
              "      <th>admitted</th>\n",
              "    </tr>\n",
              "  </thead>\n",
              "  <tbody>\n",
              "    <tr>\n",
              "      <th>0</th>\n",
              "      <td>780</td>\n",
              "      <td>4.0</td>\n",
              "      <td>3</td>\n",
              "      <td>1</td>\n",
              "    </tr>\n",
              "    <tr>\n",
              "      <th>1</th>\n",
              "      <td>750</td>\n",
              "      <td>3.9</td>\n",
              "      <td>4</td>\n",
              "      <td>1</td>\n",
              "    </tr>\n",
              "    <tr>\n",
              "      <th>2</th>\n",
              "      <td>690</td>\n",
              "      <td>3.3</td>\n",
              "      <td>3</td>\n",
              "      <td>0</td>\n",
              "    </tr>\n",
              "    <tr>\n",
              "      <th>3</th>\n",
              "      <td>710</td>\n",
              "      <td>3.7</td>\n",
              "      <td>5</td>\n",
              "      <td>1</td>\n",
              "    </tr>\n",
              "    <tr>\n",
              "      <th>4</th>\n",
              "      <td>680</td>\n",
              "      <td>3.9</td>\n",
              "      <td>4</td>\n",
              "      <td>0</td>\n",
              "    </tr>\n",
              "  </tbody>\n",
              "</table>\n",
              "</div>"
            ],
            "text/plain": [
              "   gmat  gpa  work_experience  admitted\n",
              "0   780  4.0                3         1\n",
              "1   750  3.9                4         1\n",
              "2   690  3.3                3         0\n",
              "3   710  3.7                5         1\n",
              "4   680  3.9                4         0"
            ]
          },
          "metadata": {
            "tags": []
          },
          "execution_count": 3
        }
      ]
    },
    {
      "cell_type": "code",
      "metadata": {
        "id": "VHS9kYkmWZK5"
      },
      "source": [
        "X = df[['gmat', 'gpa','work_experience']]\n",
        "y = df['admitted']"
      ],
      "execution_count": 4,
      "outputs": []
    },
    {
      "cell_type": "code",
      "metadata": {
        "id": "HrLEoQNCWcqC"
      },
      "source": [
        "from sklearn.model_selection import train_test_split\n",
        "X_train,X_test,y_train,y_test = train_test_split(X,y,test_size=0.25,random_state=0)"
      ],
      "execution_count": 6,
      "outputs": []
    },
    {
      "cell_type": "code",
      "metadata": {
        "id": "9wCKwvwJWoTg"
      },
      "source": [
        "model = LogisticRegression()\n",
        "model.fit(X_train, y_train)\n",
        "y_pred = model.predict(X_test)"
      ],
      "execution_count": 7,
      "outputs": []
    },
    {
      "cell_type": "code",
      "metadata": {
        "colab": {
          "base_uri": "https://localhost:8080/"
        },
        "id": "HID0PmcmXPPC",
        "outputId": "68ce67cd-4091-44f4-953d-3ba5afec4636"
      },
      "source": [
        "print(y_test)\n",
        "print(y_pred)"
      ],
      "execution_count": 18,
      "outputs": [
        {
          "output_type": "stream",
          "text": [
            "22    0\n",
            "20    1\n",
            "25    1\n",
            "4     0\n",
            "10    0\n",
            "15    0\n",
            "28    1\n",
            "11    1\n",
            "18    0\n",
            "29    1\n",
            "Name: admitted, dtype: int64\n",
            "[0 0 1 1 0 0 1 1 0 1]\n"
          ],
          "name": "stdout"
        }
      ]
    },
    {
      "cell_type": "code",
      "metadata": {
        "colab": {
          "base_uri": "https://localhost:8080/",
          "height": 301
        },
        "id": "IPIu8WxQXWyc",
        "outputId": "40c8c070-9b91-4ca2-a826-a025a7ab6543"
      },
      "source": [
        "confusion_matrix = pd.crosstab(y_test, y_pred, rownames = ['Actual'], colnames = ['Predicted'])\n",
        "sn.heatmap(confusion_matrix, annot=True)"
      ],
      "execution_count": 12,
      "outputs": [
        {
          "output_type": "execute_result",
          "data": {
            "text/plain": [
              "<matplotlib.axes._subplots.AxesSubplot at 0x7fbd8d764b10>"
            ]
          },
          "metadata": {
            "tags": []
          },
          "execution_count": 12
        },
        {
          "output_type": "display_data",
          "data": {
            "image/png": "[encoded data removed]",
            "text/plain": [
              "<Figure size 432x288 with 2 Axes>"
            ]
          },
          "metadata": {
            "tags": [],
            "needs_background": "light"
          }
        }
      ]
    },
    {
      "cell_type": "code",
      "metadata": {
        "colab": {
          "base_uri": "https://localhost:8080/"
        },
        "id": "Eon7-p59ZKhK",
        "outputId": "90353e32-1434-4f30-c28c-d5e8e519a2e1"
      },
      "source": [
        "from sklearn import metrics\n",
        "print(\"Acuuracy of the model = \",metrics.accuracy_score(y_test,y_pred))"
      ],
      "execution_count": 22,
      "outputs": [
        {
          "output_type": "stream",
          "text": [
            "Acuuracy of the model =  0.8\n"
          ],
          "name": "stdout"
        }
      ]
    },
    {
      "cell_type": "markdown",
      "metadata": {
        "id": "Dl1bypRXZ_HX"
      },
      "source": [
        "**Logistic Regression - 1**"
      ]
    },
    {
      "cell_type": "code",
      "metadata": {
        "id": "cGB8S0OmZgHF"
      },
      "source": [
        "import numpy as np\n",
        "import pandas as pd\n",
        "import matplotlib.pyplot as plt\n",
        "from sklearn.linear_model import LogisticRegression\n",
        "import seaborn as sn"
      ],
      "execution_count": 23,
      "outputs": []
    },
    {
      "cell_type": "code",
      "metadata": {
        "colab": {
          "base_uri": "https://localhost:8080/",
          "height": 359
        },
        "id": "-0lBvi59aL-3",
        "outputId": "05da04e3-cfe4-4dd9-8721-d3c7d260dd05"
      },
      "source": [
        "dataset = pd.read_csv('Ads.csv')\n",
        "dataset.head(10)"
      ],
      "execution_count": 30,
      "outputs": [
        {
          "output_type": "execute_result",
          "data": {
            "text/html": [
              "<div>\n",
              "<style scoped>\n",
              "    .dataframe tbody tr th:only-of-type {\n",
              "        vertical-align: middle;\n",
              "    }\n",
              "\n",
              "    .dataframe tbody tr th {\n",
              "        vertical-align: top;\n",
              "    }\n",
              "\n",
              "    .dataframe thead th {\n",
              "        text-align: right;\n",
              "    }\n",
              "</style>\n",
              "<table border=\"1\" class=\"dataframe\">\n",
              "  <thead>\n",
              "    <tr style=\"text-align: right;\">\n",
              "      <th></th>\n",
              "      <th>User ID</th>\n",
              "      <th>Gender</th>\n",
              "      <th>Age</th>\n",
              "      <th>EstimatedSalary</th>\n",
              "      <th>Purchased</th>\n",
              "    </tr>\n",
              "  </thead>\n",
              "  <tbody>\n",
              "    <tr>\n",
              "      <th>0</th>\n",
              "      <td>15624510</td>\n",
              "      <td>Male</td>\n",
              "      <td>19.0</td>\n",
              "      <td>19000.0</td>\n",
              "      <td>0</td>\n",
              "    </tr>\n",
              "    <tr>\n",
              "      <th>1</th>\n",
              "      <td>15810944</td>\n",
              "      <td>Male</td>\n",
              "      <td>35.0</td>\n",
              "      <td>20000.0</td>\n",
              "      <td>0</td>\n",
              "    </tr>\n",
              "    <tr>\n",
              "      <th>2</th>\n",
              "      <td>15668575</td>\n",
              "      <td>Female</td>\n",
              "      <td>26.0</td>\n",
              "      <td>43000.0</td>\n",
              "      <td>0</td>\n",
              "    </tr>\n",
              "    <tr>\n",
              "      <th>3</th>\n",
              "      <td>15603246</td>\n",
              "      <td>Female</td>\n",
              "      <td>27.0</td>\n",
              "      <td>57000.0</td>\n",
              "      <td>0</td>\n",
              "    </tr>\n",
              "    <tr>\n",
              "      <th>4</th>\n",
              "      <td>15804002</td>\n",
              "      <td>Male</td>\n",
              "      <td>19.0</td>\n",
              "      <td>76000.0</td>\n",
              "      <td>0</td>\n",
              "    </tr>\n",
              "    <tr>\n",
              "      <th>5</th>\n",
              "      <td>15728773</td>\n",
              "      <td>Male</td>\n",
              "      <td>27.0</td>\n",
              "      <td>58000.0</td>\n",
              "      <td>0</td>\n",
              "    </tr>\n",
              "    <tr>\n",
              "      <th>6</th>\n",
              "      <td>15598044</td>\n",
              "      <td>Female</td>\n",
              "      <td>27.0</td>\n",
              "      <td>84000.0</td>\n",
              "      <td>0</td>\n",
              "    </tr>\n",
              "    <tr>\n",
              "      <th>7</th>\n",
              "      <td>15694829</td>\n",
              "      <td>Female</td>\n",
              "      <td>32.0</td>\n",
              "      <td>150000.0</td>\n",
              "      <td>1</td>\n",
              "    </tr>\n",
              "    <tr>\n",
              "      <th>8</th>\n",
              "      <td>15600575</td>\n",
              "      <td>Male</td>\n",
              "      <td>25.0</td>\n",
              "      <td>33000.0</td>\n",
              "      <td>0</td>\n",
              "    </tr>\n",
              "    <tr>\n",
              "      <th>9</th>\n",
              "      <td>15727311</td>\n",
              "      <td>Female</td>\n",
              "      <td>35.0</td>\n",
              "      <td>65000.0</td>\n",
              "      <td>0</td>\n",
              "    </tr>\n",
              "  </tbody>\n",
              "</table>\n",
              "</div>"
            ],
            "text/plain": [
              "    User ID  Gender   Age  EstimatedSalary  Purchased\n",
              "0  15624510    Male  19.0          19000.0          0\n",
              "1  15810944    Male  35.0          20000.0          0\n",
              "2  15668575  Female  26.0          43000.0          0\n",
              "3  15603246  Female  27.0          57000.0          0\n",
              "4  15804002    Male  19.0          76000.0          0\n",
              "5  15728773    Male  27.0          58000.0          0\n",
              "6  15598044  Female  27.0          84000.0          0\n",
              "7  15694829  Female  32.0         150000.0          1\n",
              "8  15600575    Male  25.0          33000.0          0\n",
              "9  15727311  Female  35.0          65000.0          0"
            ]
          },
          "metadata": {
            "tags": []
          },
          "execution_count": 30
        }
      ]
    },
    {
      "cell_type": "code",
      "metadata": {
        "colab": {
          "base_uri": "https://localhost:8080/"
        },
        "id": "AY53nv2CahPe",
        "outputId": "9495a2d2-60d4-4747-ece9-11f7c46e6f93"
      },
      "source": [
        "x = dataset.iloc[:, [2,3]].values\n",
        "y = dataset.iloc[:,4].values\n",
        "x,y"
      ],
      "execution_count": 32,
      "outputs": [
        {
          "output_type": "execute_result",
          "data": {
            "text/plain": [
              "(array([[1.90e+01, 1.90e+04],\n",
              "        [3.50e+01, 2.00e+04],\n",
              "        [2.60e+01, 4.30e+04],\n",
              "        [2.70e+01, 5.70e+04],\n",
              "        [1.90e+01, 7.60e+04],\n",
              "        [2.70e+01, 5.80e+04],\n",
              "        [2.70e+01, 8.40e+04],\n",
              "        [3.20e+01, 1.50e+05],\n",
              "        [2.50e+01, 3.30e+04],\n",
              "        [3.50e+01, 6.50e+04],\n",
              "        [2.60e+01, 8.00e+04],\n",
              "        [2.60e+01, 5.20e+04],\n",
              "        [2.00e+01, 8.60e+04],\n",
              "        [3.20e+01, 1.80e+04],\n",
              "        [1.80e+01, 8.20e+04],\n",
              "        [2.90e+01, 8.00e+04],\n",
              "        [4.70e+01, 2.50e+04],\n",
              "        [4.50e+01, 2.60e+04],\n",
              "        [4.60e+01, 2.80e+04],\n",
              "        [4.80e+01, 2.90e+04],\n",
              "        [4.50e+01, 2.20e+04],\n",
              "        [4.70e+01, 4.90e+04],\n",
              "        [4.80e+01, 4.10e+04],\n",
              "        [4.50e+01, 2.20e+04],\n",
              "        [4.60e+01, 2.30e+04],\n",
              "        [4.70e+01, 2.00e+04],\n",
              "        [4.90e+01, 2.80e+04],\n",
              "        [4.70e+01, 3.00e+04],\n",
              "        [2.90e+01, 4.30e+04],\n",
              "        [3.10e+01, 1.80e+04],\n",
              "        [3.10e+01, 7.40e+04],\n",
              "        [2.70e+01, 1.37e+05],\n",
              "        [2.10e+01, 1.60e+04],\n",
              "        [2.80e+01, 4.40e+04],\n",
              "        [2.70e+01, 9.00e+04],\n",
              "        [3.50e+01, 2.70e+04],\n",
              "        [3.30e+01, 2.80e+04],\n",
              "        [3.00e+01, 4.90e+04],\n",
              "        [2.60e+01, 7.20e+04],\n",
              "        [2.70e+01, 3.10e+04],\n",
              "        [2.70e+01, 1.70e+04],\n",
              "        [3.30e+01, 5.10e+04],\n",
              "        [3.50e+01, 1.08e+05],\n",
              "        [3.00e+01, 1.50e+04],\n",
              "        [2.80e+01, 8.40e+04],\n",
              "        [2.30e+01, 2.00e+04],\n",
              "        [2.50e+01, 7.90e+04],\n",
              "        [2.70e+01, 5.40e+04],\n",
              "        [3.00e+01, 1.35e+05],\n",
              "        [3.10e+01, 8.90e+04],\n",
              "        [2.40e+01, 3.20e+04],\n",
              "        [1.80e+01, 4.40e+04],\n",
              "        [2.90e+01, 8.30e+04],\n",
              "        [3.50e+01, 2.30e+04],\n",
              "        [2.70e+01, 5.80e+04],\n",
              "        [2.40e+01, 5.50e+04],\n",
              "        [2.30e+01, 4.80e+04],\n",
              "        [2.80e+01, 7.90e+04],\n",
              "        [2.20e+01, 1.80e+04],\n",
              "        [3.20e+01, 1.17e+05],\n",
              "        [2.70e+01, 2.00e+04],\n",
              "        [2.50e+01, 8.70e+04],\n",
              "        [2.30e+01, 6.60e+04],\n",
              "        [3.20e+01, 1.20e+05],\n",
              "        [5.90e+01, 8.30e+04],\n",
              "        [2.40e+01, 5.80e+04],\n",
              "        [2.40e+01, 1.90e+04],\n",
              "        [2.30e+01, 8.20e+04],\n",
              "        [2.20e+01, 6.30e+04],\n",
              "        [3.10e+01, 6.80e+04],\n",
              "        [2.50e+01, 8.00e+04],\n",
              "        [2.40e+01, 2.70e+04],\n",
              "        [2.00e+01, 2.30e+04],\n",
              "        [3.30e+01, 1.13e+05],\n",
              "        [3.20e+01, 1.80e+04],\n",
              "        [3.40e+01, 1.12e+05],\n",
              "        [1.80e+01, 5.20e+04],\n",
              "        [2.20e+01, 2.70e+04],\n",
              "        [2.80e+01, 8.70e+04],\n",
              "        [2.60e+01, 1.70e+04],\n",
              "        [3.00e+01, 8.00e+04],\n",
              "        [3.90e+01, 4.20e+04],\n",
              "        [2.00e+01, 4.90e+04],\n",
              "        [3.50e+01, 8.80e+04],\n",
              "        [3.00e+01, 6.20e+04],\n",
              "        [3.10e+01, 1.18e+05],\n",
              "        [2.40e+01, 5.50e+04],\n",
              "        [2.80e+01, 8.50e+04],\n",
              "        [2.60e+01, 8.10e+04],\n",
              "        [3.50e+01, 5.00e+04],\n",
              "        [2.20e+01, 8.10e+04],\n",
              "        [3.00e+01, 1.16e+05],\n",
              "        [2.60e+01, 1.50e+04],\n",
              "        [2.90e+01, 2.80e+04],\n",
              "        [2.90e+01, 8.30e+04],\n",
              "        [3.50e+01, 4.40e+04],\n",
              "        [3.50e+01, 2.50e+04],\n",
              "        [2.80e+01, 1.23e+05],\n",
              "        [3.50e+01, 7.30e+04],\n",
              "        [2.80e+01, 3.70e+04],\n",
              "        [2.70e+01, 8.80e+04],\n",
              "        [2.80e+01, 5.90e+04],\n",
              "        [3.20e+01, 8.60e+04],\n",
              "        [3.30e+01, 1.49e+05],\n",
              "        [1.90e+01, 2.10e+04],\n",
              "        [2.10e+01, 7.20e+04],\n",
              "        [2.60e+01, 3.50e+04],\n",
              "        [2.70e+01, 8.90e+04],\n",
              "        [2.60e+01, 8.60e+04],\n",
              "        [3.80e+01, 8.00e+04],\n",
              "        [3.90e+01, 7.10e+04],\n",
              "        [3.70e+01, 7.10e+04],\n",
              "        [3.80e+01, 6.10e+04],\n",
              "        [3.70e+01, 5.50e+04],\n",
              "        [4.20e+01, 8.00e+04],\n",
              "        [4.00e+01, 5.70e+04],\n",
              "        [3.50e+01, 7.50e+04],\n",
              "        [3.60e+01, 5.20e+04],\n",
              "        [4.00e+01, 5.90e+04],\n",
              "        [4.10e+01, 5.90e+04],\n",
              "        [3.60e+01, 7.50e+04],\n",
              "        [3.70e+01, 7.20e+04],\n",
              "        [4.00e+01, 7.50e+04],\n",
              "        [3.50e+01, 5.30e+04],\n",
              "        [4.10e+01, 5.10e+04],\n",
              "        [3.90e+01, 6.10e+04],\n",
              "        [4.20e+01, 6.50e+04],\n",
              "        [2.60e+01, 3.20e+04],\n",
              "        [3.00e+01, 1.70e+04],\n",
              "        [2.60e+01, 8.40e+04],\n",
              "        [3.10e+01, 5.80e+04],\n",
              "        [3.30e+01, 3.10e+04],\n",
              "        [3.00e+01, 8.70e+04],\n",
              "        [2.10e+01, 6.80e+04],\n",
              "        [2.80e+01, 5.50e+04],\n",
              "        [2.30e+01, 6.30e+04],\n",
              "        [2.00e+01, 8.20e+04],\n",
              "        [3.00e+01, 1.07e+05],\n",
              "        [2.80e+01, 5.90e+04],\n",
              "        [1.90e+01, 2.50e+04],\n",
              "        [1.90e+01, 8.50e+04],\n",
              "        [1.80e+01, 6.80e+04],\n",
              "        [3.50e+01, 5.90e+04],\n",
              "        [3.00e+01, 8.90e+04],\n",
              "        [3.40e+01, 2.50e+04],\n",
              "        [2.40e+01, 8.90e+04],\n",
              "        [2.70e+01, 9.60e+04],\n",
              "        [4.10e+01, 3.00e+04],\n",
              "        [2.90e+01, 6.10e+04],\n",
              "        [2.00e+01, 7.40e+04],\n",
              "        [2.60e+01, 1.50e+04],\n",
              "        [4.10e+01, 4.50e+04],\n",
              "        [3.10e+01, 7.60e+04],\n",
              "        [3.60e+01, 5.00e+04],\n",
              "        [4.00e+01, 4.70e+04],\n",
              "        [3.10e+01, 1.50e+04],\n",
              "        [4.60e+01, 5.90e+04],\n",
              "        [2.90e+01, 7.50e+04],\n",
              "        [2.60e+01, 3.00e+04],\n",
              "        [3.20e+01, 1.35e+05],\n",
              "        [3.20e+01, 1.00e+05],\n",
              "        [2.50e+01, 9.00e+04],\n",
              "        [3.70e+01, 3.30e+04],\n",
              "        [3.50e+01, 3.80e+04],\n",
              "        [3.30e+01, 6.90e+04],\n",
              "        [1.80e+01, 8.60e+04],\n",
              "        [2.20e+01, 5.50e+04],\n",
              "        [3.50e+01, 7.10e+04],\n",
              "        [2.90e+01, 1.48e+05],\n",
              "        [2.90e+01, 4.70e+04],\n",
              "        [2.10e+01, 8.80e+04],\n",
              "        [3.40e+01, 1.15e+05],\n",
              "        [2.60e+01, 1.18e+05],\n",
              "        [3.40e+01, 4.30e+04],\n",
              "        [3.40e+01, 7.20e+04],\n",
              "        [2.30e+01, 2.80e+04],\n",
              "        [3.50e+01, 4.70e+04],\n",
              "        [2.50e+01, 2.20e+04],\n",
              "        [2.40e+01, 2.30e+04],\n",
              "        [3.10e+01, 3.40e+04],\n",
              "        [2.60e+01, 1.60e+04],\n",
              "        [3.10e+01, 7.10e+04],\n",
              "        [3.20e+01, 1.17e+05],\n",
              "        [3.30e+01, 4.30e+04],\n",
              "        [3.30e+01, 6.00e+04],\n",
              "        [3.10e+01, 6.60e+04],\n",
              "        [2.00e+01, 8.20e+04],\n",
              "        [3.30e+01, 4.10e+04],\n",
              "        [3.50e+01, 7.20e+04],\n",
              "        [2.80e+01, 3.20e+04],\n",
              "        [2.40e+01, 8.40e+04],\n",
              "        [1.90e+01, 2.60e+04],\n",
              "        [2.90e+01, 4.30e+04],\n",
              "        [1.90e+01, 7.00e+04],\n",
              "        [2.80e+01, 8.90e+04],\n",
              "        [3.40e+01, 4.30e+04],\n",
              "        [3.00e+01, 7.90e+04],\n",
              "        [2.00e+01, 3.60e+04],\n",
              "        [2.60e+01, 8.00e+04],\n",
              "        [3.50e+01, 2.20e+04],\n",
              "        [3.50e+01, 3.90e+04],\n",
              "        [4.90e+01, 7.40e+04],\n",
              "        [3.90e+01, 1.34e+05],\n",
              "        [4.10e+01, 7.10e+04],\n",
              "        [5.80e+01, 1.01e+05],\n",
              "        [4.70e+01, 4.70e+04],\n",
              "        [5.50e+01, 1.30e+05],\n",
              "        [5.20e+01, 1.14e+05],\n",
              "        [4.00e+01, 1.42e+05],\n",
              "        [4.60e+01, 2.20e+04],\n",
              "        [4.80e+01, 9.60e+04],\n",
              "        [5.20e+01, 1.50e+05],\n",
              "        [5.90e+01, 4.20e+04],\n",
              "        [3.50e+01, 5.80e+04],\n",
              "        [4.70e+01, 4.30e+04],\n",
              "        [6.00e+01, 1.08e+05],\n",
              "        [4.90e+01, 6.50e+04],\n",
              "        [4.00e+01, 7.80e+04],\n",
              "        [4.60e+01, 9.60e+04],\n",
              "        [5.90e+01, 1.43e+05],\n",
              "        [4.10e+01, 8.00e+04],\n",
              "        [3.50e+01, 9.10e+04],\n",
              "        [3.70e+01, 1.44e+05],\n",
              "        [6.00e+01, 1.02e+05],\n",
              "        [3.50e+01, 6.00e+04],\n",
              "        [3.70e+01, 5.30e+04],\n",
              "        [3.60e+01, 1.26e+05],\n",
              "        [5.60e+01, 1.33e+05],\n",
              "        [4.00e+01, 7.20e+04],\n",
              "        [4.20e+01, 8.00e+04],\n",
              "        [3.50e+01, 1.47e+05],\n",
              "        [3.90e+01, 4.20e+04],\n",
              "        [4.00e+01, 1.07e+05],\n",
              "        [4.90e+01, 8.60e+04],\n",
              "        [3.80e+01, 1.12e+05],\n",
              "        [4.60e+01, 7.90e+04],\n",
              "        [4.00e+01, 5.70e+04],\n",
              "        [3.70e+01, 8.00e+04],\n",
              "        [4.60e+01, 8.20e+04],\n",
              "        [5.30e+01, 1.43e+05],\n",
              "        [4.20e+01, 1.49e+05],\n",
              "        [3.80e+01, 5.90e+04],\n",
              "        [5.00e+01, 8.80e+04],\n",
              "        [5.60e+01, 1.04e+05],\n",
              "        [4.10e+01, 7.20e+04],\n",
              "        [5.10e+01, 1.46e+05],\n",
              "        [3.50e+01, 5.00e+04],\n",
              "        [5.70e+01, 1.22e+05],\n",
              "        [4.10e+01, 5.20e+04],\n",
              "        [3.50e+01, 9.70e+04],\n",
              "        [4.40e+01, 3.90e+04],\n",
              "        [3.70e+01, 5.20e+04],\n",
              "        [4.80e+01, 1.34e+05],\n",
              "        [3.70e+01, 1.46e+05],\n",
              "        [5.00e+01, 4.40e+04],\n",
              "        [5.20e+01, 9.00e+04],\n",
              "        [4.10e+01, 7.20e+04],\n",
              "        [4.00e+01, 5.70e+04],\n",
              "        [5.80e+01, 9.50e+04],\n",
              "        [4.50e+01, 1.31e+05],\n",
              "        [3.50e+01, 7.70e+04],\n",
              "        [3.60e+01, 1.44e+05],\n",
              "        [5.50e+01, 1.25e+05],\n",
              "        [3.50e+01, 7.20e+04],\n",
              "        [4.80e+01, 9.00e+04],\n",
              "        [4.20e+01, 1.08e+05],\n",
              "        [4.00e+01, 7.50e+04],\n",
              "        [3.70e+01, 7.40e+04],\n",
              "        [4.70e+01, 1.44e+05],\n",
              "        [4.00e+01, 6.10e+04],\n",
              "        [4.30e+01, 1.33e+05],\n",
              "        [5.90e+01, 7.60e+04],\n",
              "        [6.00e+01, 4.20e+04],\n",
              "        [3.90e+01, 1.06e+05],\n",
              "        [5.70e+01, 2.60e+04],\n",
              "        [5.70e+01, 7.40e+04],\n",
              "        [3.80e+01, 7.10e+04],\n",
              "        [4.90e+01, 8.80e+04],\n",
              "        [5.20e+01, 3.80e+04],\n",
              "        [5.00e+01, 3.60e+04],\n",
              "        [5.90e+01, 8.80e+04],\n",
              "        [3.50e+01, 6.10e+04],\n",
              "        [3.70e+01, 7.00e+04],\n",
              "        [5.20e+01, 2.10e+04],\n",
              "        [4.80e+01, 1.41e+05],\n",
              "        [3.70e+01, 9.30e+04],\n",
              "        [3.70e+01, 6.20e+04],\n",
              "        [4.80e+01, 1.38e+05],\n",
              "        [4.10e+01, 7.90e+04],\n",
              "        [3.70e+01, 7.80e+04],\n",
              "        [3.90e+01, 1.34e+05],\n",
              "        [4.90e+01, 8.90e+04],\n",
              "        [5.50e+01, 3.90e+04],\n",
              "        [3.70e+01, 7.70e+04],\n",
              "        [3.50e+01, 5.70e+04],\n",
              "        [3.60e+01, 6.30e+04],\n",
              "        [4.20e+01, 7.30e+04],\n",
              "        [4.30e+01, 1.12e+05],\n",
              "        [4.50e+01, 7.90e+04],\n",
              "        [4.60e+01, 1.17e+05],\n",
              "        [5.80e+01, 3.80e+04],\n",
              "        [4.80e+01, 7.40e+04],\n",
              "        [3.70e+01, 1.37e+05],\n",
              "        [3.70e+01, 7.90e+04],\n",
              "        [4.00e+01, 6.00e+04],\n",
              "        [4.20e+01, 5.40e+04],\n",
              "        [5.10e+01, 1.34e+05],\n",
              "        [4.70e+01, 1.13e+05],\n",
              "        [3.60e+01, 1.25e+05],\n",
              "        [3.80e+01, 5.00e+04],\n",
              "        [4.20e+01, 7.00e+04],\n",
              "        [3.90e+01, 9.60e+04],\n",
              "        [3.80e+01, 5.00e+04],\n",
              "        [4.90e+01, 1.41e+05],\n",
              "        [3.90e+01, 7.90e+04],\n",
              "        [3.90e+01, 7.50e+04],\n",
              "        [5.40e+01, 1.04e+05],\n",
              "        [3.50e+01, 5.50e+04],\n",
              "        [4.50e+01, 3.20e+04],\n",
              "        [3.60e+01, 6.00e+04],\n",
              "        [5.20e+01, 1.38e+05],\n",
              "        [5.30e+01, 8.20e+04],\n",
              "        [4.10e+01, 5.20e+04],\n",
              "        [4.80e+01, 3.00e+04],\n",
              "        [4.80e+01, 1.31e+05],\n",
              "        [4.10e+01, 6.00e+04],\n",
              "        [4.10e+01, 7.20e+04],\n",
              "        [4.20e+01, 7.50e+04],\n",
              "        [3.60e+01, 1.18e+05],\n",
              "        [4.70e+01, 1.07e+05],\n",
              "        [3.80e+01, 5.10e+04],\n",
              "        [4.80e+01, 1.19e+05],\n",
              "        [4.20e+01, 6.50e+04],\n",
              "        [4.00e+01, 6.50e+04],\n",
              "        [5.70e+01, 6.00e+04],\n",
              "        [3.60e+01, 5.40e+04],\n",
              "        [5.80e+01, 1.44e+05],\n",
              "        [3.50e+01, 7.90e+04],\n",
              "        [3.80e+01, 5.50e+04],\n",
              "        [3.90e+01, 1.22e+05],\n",
              "        [5.30e+01, 1.04e+05],\n",
              "        [3.50e+01, 7.50e+04],\n",
              "        [3.80e+01, 6.50e+04],\n",
              "        [4.70e+01, 5.10e+04],\n",
              "        [4.70e+01, 1.05e+05],\n",
              "        [4.10e+01, 6.30e+04],\n",
              "        [5.30e+01, 7.20e+04],\n",
              "        [5.40e+01, 1.08e+05],\n",
              "        [3.90e+01, 7.70e+04],\n",
              "        [3.80e+01, 6.10e+04],\n",
              "        [3.80e+01, 1.13e+05],\n",
              "        [3.70e+01, 7.50e+04],\n",
              "        [4.20e+01, 9.00e+04],\n",
              "        [3.70e+01, 5.70e+04],\n",
              "        [3.60e+01, 9.90e+04],\n",
              "        [6.00e+01, 3.40e+04],\n",
              "        [5.40e+01, 7.00e+04],\n",
              "        [4.10e+01, 7.20e+04],\n",
              "        [4.00e+01, 7.10e+04],\n",
              "        [4.20e+01, 5.40e+04],\n",
              "        [4.30e+01, 1.29e+05],\n",
              "        [5.30e+01, 3.40e+04],\n",
              "        [4.70e+01, 5.00e+04],\n",
              "        [4.20e+01, 7.90e+04],\n",
              "        [4.20e+01, 1.04e+05],\n",
              "        [5.90e+01, 2.90e+04],\n",
              "        [5.80e+01, 4.70e+04],\n",
              "        [4.60e+01, 8.80e+04],\n",
              "        [3.80e+01, 7.10e+04],\n",
              "        [5.40e+01, 2.60e+04],\n",
              "        [6.00e+01, 4.60e+04],\n",
              "        [6.00e+01, 8.30e+04],\n",
              "        [3.90e+01, 7.30e+04],\n",
              "        [5.90e+01, 1.30e+05],\n",
              "        [3.70e+01, 8.00e+04],\n",
              "        [4.60e+01, 3.20e+04],\n",
              "        [4.60e+01, 7.40e+04],\n",
              "        [4.20e+01, 5.30e+04],\n",
              "        [4.10e+01, 8.70e+04],\n",
              "        [5.80e+01, 2.30e+04],\n",
              "        [4.20e+01, 6.40e+04],\n",
              "        [4.80e+01, 3.30e+04],\n",
              "        [4.40e+01, 1.39e+05],\n",
              "        [4.90e+01, 2.80e+04],\n",
              "        [5.70e+01, 3.30e+04],\n",
              "        [5.60e+01, 6.00e+04],\n",
              "        [4.90e+01, 3.90e+04],\n",
              "        [3.90e+01, 7.10e+04],\n",
              "        [4.70e+01, 3.40e+04],\n",
              "        [4.80e+01, 3.50e+04],\n",
              "        [4.80e+01, 3.30e+04],\n",
              "        [4.70e+01, 2.30e+04],\n",
              "        [4.50e+01, 4.50e+04],\n",
              "        [6.00e+01, 4.20e+04],\n",
              "        [3.90e+01, 5.90e+04],\n",
              "        [4.60e+01, 4.10e+04],\n",
              "        [5.10e+01, 2.30e+04],\n",
              "        [5.00e+01, 2.00e+04],\n",
              "        [3.60e+01, 3.30e+04],\n",
              "        [4.90e+01, 3.60e+04]]),\n",
              " array([0, 0, 0, 0, 0, 0, 0, 1, 0, 0, 0, 0, 0, 0, 0, 0, 1, 1, 1, 1, 1, 1,\n",
              "        1, 1, 1, 1, 1, 1, 0, 0, 0, 1, 0, 0, 0, 0, 0, 0, 0, 0, 0, 0, 0, 0,\n",
              "        0, 0, 0, 0, 1, 0, 0, 0, 0, 0, 0, 0, 0, 0, 0, 0, 0, 0, 0, 1, 0, 0,\n",
              "        0, 0, 0, 0, 0, 0, 0, 0, 0, 1, 0, 0, 0, 0, 0, 0, 0, 0, 0, 1, 0, 0,\n",
              "        0, 0, 0, 0, 0, 0, 0, 0, 0, 1, 0, 0, 0, 0, 0, 1, 0, 0, 0, 0, 0, 0,\n",
              "        0, 0, 0, 0, 0, 0, 0, 0, 0, 0, 0, 0, 0, 0, 0, 0, 0, 0, 0, 0, 0, 0,\n",
              "        0, 0, 0, 0, 0, 1, 0, 0, 0, 0, 0, 0, 0, 0, 1, 0, 0, 0, 0, 0, 0, 0,\n",
              "        0, 0, 0, 0, 0, 1, 1, 0, 0, 0, 0, 0, 0, 0, 1, 0, 0, 0, 0, 0, 0, 0,\n",
              "        0, 0, 0, 0, 0, 0, 1, 0, 0, 0, 0, 0, 0, 0, 0, 0, 0, 0, 0, 0, 0, 0,\n",
              "        0, 0, 0, 0, 1, 0, 1, 0, 1, 0, 1, 0, 1, 1, 0, 0, 0, 1, 0, 0, 0, 1,\n",
              "        0, 1, 1, 1, 0, 0, 1, 1, 0, 1, 1, 0, 1, 1, 0, 1, 0, 0, 0, 1, 1, 0,\n",
              "        1, 1, 0, 1, 0, 1, 0, 1, 0, 0, 1, 1, 0, 1, 0, 0, 1, 1, 0, 1, 1, 0,\n",
              "        1, 1, 0, 0, 1, 0, 0, 1, 1, 1, 1, 1, 0, 1, 1, 1, 1, 0, 1, 1, 0, 1,\n",
              "        0, 1, 0, 1, 1, 1, 1, 0, 0, 0, 1, 1, 0, 1, 1, 1, 1, 1, 0, 0, 0, 1,\n",
              "        1, 0, 0, 1, 0, 1, 0, 1, 1, 0, 1, 0, 1, 1, 0, 1, 1, 0, 0, 0, 1, 1,\n",
              "        0, 1, 0, 0, 1, 0, 1, 0, 0, 1, 1, 0, 0, 1, 1, 0, 1, 1, 0, 0, 1, 0,\n",
              "        1, 0, 1, 1, 1, 0, 1, 0, 1, 1, 1, 0, 1, 1, 1, 1, 0, 1, 1, 1, 0, 1,\n",
              "        0, 1, 0, 0, 1, 1, 0, 1, 1, 1, 1, 1, 1, 0, 1, 1, 1, 1, 1, 1, 0, 1,\n",
              "        1, 1, 0, 1]))"
            ]
          },
          "metadata": {
            "tags": []
          },
          "execution_count": 32
        }
      ]
    },
    {
      "cell_type": "code",
      "metadata": {
        "id": "T-2J-vR1bloL"
      },
      "source": [
        "x_train, x_test, y_train, y_test = train_test_split(x, y, test_size = 0.25, random_state = 0)"
      ],
      "execution_count": 35,
      "outputs": []
    },
    {
      "cell_type": "code",
      "metadata": {
        "colab": {
          "base_uri": "https://localhost:8080/"
        },
        "id": "uV_hYjGsczo7",
        "outputId": "d165719f-4f2f-4d30-ce8f-8bd62bc3be05"
      },
      "source": [
        "from sklearn.preprocessing import StandardScaler\n",
        "sc_x = StandardScaler()\n",
        "x_train = sc_x.fit_transform(x_train)\n",
        "x_test = sc_x.transform(x_test)\n",
        "x_train, x_test"
      ],
      "execution_count": 37,
      "outputs": [
        {
          "output_type": "execute_result",
          "data": {
            "text/plain": [
              "(array([[ 0.58164944, -0.88670699],\n",
              "        [-0.60673761,  1.46173768],\n",
              "        [-0.01254409, -0.5677824 ],\n",
              "        [-0.60673761,  1.89663484],\n",
              "        [ 1.37390747, -1.40858358],\n",
              "        [ 1.47293972,  0.99784738],\n",
              "        [ 0.08648817, -0.79972756],\n",
              "        [-0.01254409, -0.24885782],\n",
              "        [-0.21060859, -0.5677824 ],\n",
              "        [-0.21060859, -0.19087153],\n",
              "        [-0.30964085, -1.29261101],\n",
              "        [-0.30964085, -0.5677824 ],\n",
              "        [ 0.38358493,  0.09905991],\n",
              "        [ 0.8787462 , -0.59677555],\n",
              "        [ 2.06713324, -1.17663843],\n",
              "        [ 1.07681071, -0.13288524],\n",
              "        [ 0.68068169,  1.78066227],\n",
              "        [-0.70576986,  0.56295021],\n",
              "        [ 0.77971394,  0.35999821],\n",
              "        [ 0.8787462 , -0.53878926],\n",
              "        [-1.20093113, -1.58254245],\n",
              "        [ 2.1661655 ,  0.93986109],\n",
              "        [-0.01254409,  1.22979253],\n",
              "        [ 0.18552042,  1.08482681],\n",
              "        [ 0.38358493, -0.48080297],\n",
              "        [-0.30964085, -0.30684411],\n",
              "        [ 0.97777845, -0.8287207 ],\n",
              "        [ 0.97777845,  1.8676417 ],\n",
              "        [-0.01254409,  1.25878567],\n",
              "        [-0.90383437,  2.27354572],\n",
              "        [-1.20093113, -1.58254245],\n",
              "        [ 2.1661655 , -0.79972756],\n",
              "        [-1.39899564, -1.46656987],\n",
              "        [ 0.38358493,  2.30253886],\n",
              "        [ 0.77971394,  0.76590222],\n",
              "        [-1.00286662, -0.30684411],\n",
              "        [ 0.08648817,  0.76590222],\n",
              "        [-1.00286662,  0.56295021],\n",
              "        [ 0.28455268,  0.07006676],\n",
              "        [ 0.68068169, -1.26361786],\n",
              "        [-0.50770535, -0.01691267],\n",
              "        [-1.79512465,  0.35999821],\n",
              "        [-0.70576986,  0.12805305],\n",
              "        [ 0.38358493,  0.30201192],\n",
              "        [-0.30964085,  0.07006676],\n",
              "        [-0.50770535,  2.30253886],\n",
              "        [ 0.18552042,  0.04107362],\n",
              "        [ 1.27487521,  2.21555943],\n",
              "        [ 0.77971394,  0.27301877],\n",
              "        [-0.30964085,  0.1570462 ],\n",
              "        [-0.01254409, -0.53878926],\n",
              "        [-0.21060859,  0.1570462 ],\n",
              "        [-0.11157634,  0.24402563],\n",
              "        [-0.01254409, -0.24885782],\n",
              "        [ 2.1661655 ,  1.11381995],\n",
              "        [-1.79512465,  0.35999821],\n",
              "        [ 1.86906873,  0.12805305],\n",
              "        [ 0.38358493, -0.13288524],\n",
              "        [-1.20093113,  0.30201192],\n",
              "        [ 0.77971394,  1.37475825],\n",
              "        [-0.30964085, -0.24885782],\n",
              "        [-1.6960924 , -0.04590581],\n",
              "        [-1.00286662, -0.74174127],\n",
              "        [ 0.28455268,  0.50496393],\n",
              "        [-0.11157634, -1.06066585],\n",
              "        [-1.10189888,  0.59194336],\n",
              "        [ 0.08648817, -0.79972756],\n",
              "        [-1.00286662,  1.54871711],\n",
              "        [-0.70576986,  1.40375139],\n",
              "        [-1.29996338,  0.50496393],\n",
              "        [-0.30964085,  0.04107362],\n",
              "        [-0.11157634,  0.01208048],\n",
              "        [-0.30964085, -0.88670699],\n",
              "        [ 0.8787462 , -1.3505973 ],\n",
              "        [-0.30964085,  2.24455257],\n",
              "        [ 0.97777845,  1.98361427],\n",
              "        [-1.20093113,  0.47597078],\n",
              "        [-1.29996338,  0.27301877],\n",
              "        [ 1.37390747,  1.98361427],\n",
              "        [ 1.27487521, -1.3505973 ],\n",
              "        [-0.30964085, -0.27785096],\n",
              "        [-0.50770535,  1.25878567],\n",
              "        [-0.80480212,  1.08482681],\n",
              "        [ 0.97777845, -1.06066585],\n",
              "        [ 0.28455268,  0.30201192],\n",
              "        [ 0.97777845,  0.76590222],\n",
              "        [-0.70576986, -1.49556302],\n",
              "        [-0.70576986,  0.04107362],\n",
              "        [ 0.48261718,  1.72267598],\n",
              "        [ 2.06713324,  0.18603934],\n",
              "        [-1.99318916, -0.74174127],\n",
              "        [-0.21060859,  1.40375139],\n",
              "        [ 0.38358493,  0.59194336],\n",
              "        [ 0.8787462 , -1.14764529],\n",
              "        [-1.20093113, -0.77073441],\n",
              "        [ 0.18552042,  0.24402563],\n",
              "        [ 0.77971394, -0.30684411],\n",
              "        [ 2.06713324, -0.79972756],\n",
              "        [ 0.77971394,  0.12805305],\n",
              "        [-0.30964085,  0.6209365 ],\n",
              "        [-1.00286662, -0.30684411],\n",
              "        [ 0.18552042, -0.3648304 ],\n",
              "        [ 2.06713324,  2.12857999],\n",
              "        [ 1.86906873, -1.26361786],\n",
              "        [ 1.37390747, -0.91570013],\n",
              "        [ 0.8787462 ,  1.25878567],\n",
              "        [ 1.47293972,  2.12857999],\n",
              "        [-0.30964085, -1.23462472],\n",
              "        [ 1.96810099,  0.91086794],\n",
              "        [ 0.68068169, -0.71274813],\n",
              "        [-1.49802789,  0.35999821],\n",
              "        [ 0.77971394, -1.3505973 ],\n",
              "        [ 0.38358493, -0.13288524],\n",
              "        [-1.00286662,  0.41798449],\n",
              "        [-0.01254409, -0.30684411],\n",
              "        [-1.20093113,  0.41798449],\n",
              "        [-0.90383437, -1.20563157],\n",
              "        [-0.11157634,  0.04107362],\n",
              "        [-1.59706014, -0.42281668],\n",
              "        [ 0.97777845, -1.00267957],\n",
              "        [ 1.07681071, -1.20563157],\n",
              "        [-0.01254409, -0.13288524],\n",
              "        [-1.10189888, -1.52455616],\n",
              "        [ 0.77971394, -1.20563157],\n",
              "        [ 0.97777845,  2.07059371],\n",
              "        [-1.20093113, -1.52455616],\n",
              "        [-0.30964085,  0.79489537],\n",
              "        [ 0.08648817, -0.30684411],\n",
              "        [-1.39899564, -1.23462472],\n",
              "        [-0.60673761, -1.49556302],\n",
              "        [ 0.77971394,  0.53395707],\n",
              "        [-0.30964085, -0.33583725],\n",
              "        [ 1.77003648, -0.27785096],\n",
              "        [ 0.8787462 , -1.03167271],\n",
              "        [ 0.18552042,  0.07006676],\n",
              "        [-0.60673761,  0.8818748 ],\n",
              "        [-1.89415691, -1.40858358],\n",
              "        [-1.29996338,  0.59194336],\n",
              "        [-0.30964085,  0.53395707],\n",
              "        [-1.00286662, -1.089659  ],\n",
              "        [ 1.17584296, -1.43757673],\n",
              "        [ 0.18552042, -0.30684411],\n",
              "        [ 1.17584296, -0.74174127],\n",
              "        [-0.30964085,  0.07006676],\n",
              "        [ 0.18552042,  2.09958685],\n",
              "        [ 0.77971394, -1.089659  ],\n",
              "        [ 0.08648817,  0.04107362],\n",
              "        [-1.79512465,  0.12805305],\n",
              "        [-0.90383437,  0.1570462 ],\n",
              "        [-0.70576986,  0.18603934],\n",
              "        [ 0.8787462 , -1.29261101],\n",
              "        [ 0.18552042, -0.24885782],\n",
              "        [-0.4086731 ,  1.22979253],\n",
              "        [-0.01254409,  0.30201192],\n",
              "        [ 0.38358493,  0.1570462 ],\n",
              "        [ 0.8787462 , -0.65476184],\n",
              "        [ 0.08648817,  0.1570462 ],\n",
              "        [-1.89415691, -1.29261101],\n",
              "        [-0.11157634,  0.30201192],\n",
              "        [-0.21060859, -0.27785096],\n",
              "        [ 0.28455268, -0.50979612],\n",
              "        [-0.21060859,  1.6067034 ],\n",
              "        [ 0.97777845, -1.17663843],\n",
              "        [-0.21060859,  1.63569655],\n",
              "        [ 1.27487521,  1.8676417 ],\n",
              "        [-1.10189888, -0.3648304 ],\n",
              "        [-0.01254409,  0.04107362],\n",
              "        [ 0.08648817, -0.24885782],\n",
              "        [-1.59706014, -1.23462472],\n",
              "        [-0.50770535, -0.27785096],\n",
              "        [ 0.97777845,  0.12805305],\n",
              "        [ 1.96810099, -1.3505973 ],\n",
              "        [ 1.47293972,  0.07006676],\n",
              "        [-0.60673761,  1.37475825],\n",
              "        [ 1.57197197,  0.01208048],\n",
              "        [-0.80480212,  0.30201192],\n",
              "        [ 1.96810099,  0.73690908],\n",
              "        [-1.20093113, -0.50979612],\n",
              "        [ 0.68068169,  0.27301877],\n",
              "        [-1.39899564, -0.42281668],\n",
              "        [ 0.18552042,  0.1570462 ],\n",
              "        [-0.50770535, -1.20563157],\n",
              "        [ 0.58164944,  2.01260742],\n",
              "        [-1.59706014, -1.49556302],\n",
              "        [-0.50770535, -0.53878926],\n",
              "        [ 0.48261718,  1.83864855],\n",
              "        [-1.39899564, -1.089659  ],\n",
              "        [ 0.77971394, -1.37959044],\n",
              "        [-0.30964085, -0.42281668],\n",
              "        [ 1.57197197,  0.99784738],\n",
              "        [ 0.97777845,  1.43274454],\n",
              "        [-0.30964085, -0.48080297],\n",
              "        [-0.11157634,  2.15757314],\n",
              "        [-1.49802789, -0.1038921 ],\n",
              "        [-0.11157634,  1.95462113],\n",
              "        [-0.70576986, -0.33583725],\n",
              "        [-0.50770535, -0.8287207 ],\n",
              "        [ 0.68068169, -1.37959044],\n",
              "        [-0.80480212, -1.58254245],\n",
              "        [-1.89415691, -1.46656987],\n",
              "        [ 1.07681071,  0.12805305],\n",
              "        [ 0.08648817,  1.51972397],\n",
              "        [-0.30964085,  0.09905991],\n",
              "        [ 0.08648817,  0.04107362],\n",
              "        [-1.39899564, -1.3505973 ],\n",
              "        [ 0.28455268,  0.07006676],\n",
              "        [-0.90383437,  0.38899135],\n",
              "        [ 1.57197197, -1.26361786],\n",
              "        [-0.30964085, -0.74174127],\n",
              "        [-0.11157634,  0.1570462 ],\n",
              "        [-0.90383437, -0.65476184],\n",
              "        [-0.70576986, -0.04590581],\n",
              "        [ 0.38358493, -0.45180983],\n",
              "        [-0.80480212,  1.89663484],\n",
              "        [ 1.37390747,  1.28777882],\n",
              "        [ 1.17584296, -0.97368642],\n",
              "        [ 1.77003648,  1.83864855],\n",
              "        [-0.90383437, -0.24885782],\n",
              "        [-0.80480212,  0.56295021],\n",
              "        [-1.20093113, -1.5535493 ],\n",
              "        [-0.50770535, -1.11865214],\n",
              "        [ 0.28455268,  0.07006676],\n",
              "        [-0.21060859, -1.06066585],\n",
              "        [ 1.67100423,  1.6067034 ],\n",
              "        [ 0.97777845,  1.78066227],\n",
              "        [ 0.28455268,  0.04107362],\n",
              "        [-0.80480212, -0.21986468],\n",
              "        [-0.11157634,  0.07006676],\n",
              "        [ 0.28455268, -0.19087153],\n",
              "        [ 1.96810099, -0.65476184],\n",
              "        [-0.80480212,  1.3457651 ],\n",
              "        [-1.79512465, -0.59677555],\n",
              "        [-0.11157634,  0.12805305],\n",
              "        [ 0.28455268, -0.30684411],\n",
              "        [ 1.07681071,  0.56295021],\n",
              "        [-1.00286662,  0.27301877],\n",
              "        [ 1.47293972,  0.35999821],\n",
              "        [ 0.18552042, -0.3648304 ],\n",
              "        [ 2.1661655 , -1.03167271],\n",
              "        [-0.30964085,  1.11381995],\n",
              "        [-1.6960924 ,  0.07006676],\n",
              "        [-0.01254409,  0.04107362],\n",
              "        [ 0.08648817,  1.05583366],\n",
              "        [-0.11157634, -0.3648304 ],\n",
              "        [-1.20093113,  0.07006676],\n",
              "        [-0.30964085, -1.3505973 ],\n",
              "        [ 1.57197197,  1.11381995],\n",
              "        [-0.80480212, -1.52455616],\n",
              "        [ 0.08648817,  1.8676417 ],\n",
              "        [-0.90383437, -0.77073441],\n",
              "        [-0.50770535, -0.77073441],\n",
              "        [-0.30964085, -0.91570013],\n",
              "        [ 0.28455268, -0.71274813],\n",
              "        [ 0.28455268,  0.07006676],\n",
              "        [ 0.08648817,  1.8676417 ],\n",
              "        [-1.10189888,  1.95462113],\n",
              "        [-1.6960924 , -1.5535493 ],\n",
              "        [-1.20093113, -1.089659  ],\n",
              "        [-0.70576986, -0.1038921 ],\n",
              "        [ 0.08648817,  0.09905991],\n",
              "        [ 0.28455268,  0.27301877],\n",
              "        [ 0.8787462 , -0.5677824 ],\n",
              "        [ 0.28455268, -1.14764529],\n",
              "        [-0.11157634,  0.67892279],\n",
              "        [ 2.1661655 , -0.68375498],\n",
              "        [-1.29996338, -1.37959044],\n",
              "        [-1.00286662, -0.94469328],\n",
              "        [-0.01254409, -0.42281668],\n",
              "        [-0.21060859, -0.45180983],\n",
              "        [-1.79512465, -0.97368642],\n",
              "        [ 1.77003648,  0.99784738],\n",
              "        [ 0.18552042, -0.3648304 ],\n",
              "        [ 0.38358493,  1.11381995],\n",
              "        [-1.79512465, -1.3505973 ],\n",
              "        [ 0.18552042, -0.13288524],\n",
              "        [ 0.8787462 , -1.43757673],\n",
              "        [-1.99318916,  0.47597078],\n",
              "        [-0.30964085,  0.27301877],\n",
              "        [ 1.86906873, -1.06066585],\n",
              "        [-0.4086731 ,  0.07006676],\n",
              "        [ 1.07681071, -0.88670699],\n",
              "        [-1.10189888, -1.11865214],\n",
              "        [-1.89415691,  0.01208048],\n",
              "        [ 0.08648817,  0.27301877],\n",
              "        [-1.20093113,  0.33100506],\n",
              "        [-1.29996338,  0.30201192],\n",
              "        [-1.00286662,  0.44697764],\n",
              "        [ 1.67100423, -0.88670699],\n",
              "        [ 1.17584296,  0.53395707],\n",
              "        [ 1.07681071,  0.53395707],\n",
              "        [ 1.37390747,  2.331532  ],\n",
              "        [-0.30964085, -0.13288524],\n",
              "        [ 0.38358493, -0.45180983],\n",
              "        [-0.4086731 , -0.77073441],\n",
              "        [-0.11157634, -0.50979612],\n",
              "        [ 0.97777845, -1.14764529],\n",
              "        [-0.90383437, -0.77073441],\n",
              "        [-0.21060859, -0.50979612],\n",
              "        [-1.10189888, -0.45180983],\n",
              "        [-1.20093113,  1.40375139]]), array([[-0.80480212,  0.50496393],\n",
              "        [-0.01254409, -0.5677824 ],\n",
              "        [-0.30964085,  0.1570462 ],\n",
              "        [-0.80480212,  0.27301877],\n",
              "        [-0.30964085, -0.5677824 ],\n",
              "        [-1.10189888, -1.43757673],\n",
              "        [-0.70576986, -1.58254245],\n",
              "        [-0.21060859,  2.15757314],\n",
              "        [-1.99318916, -0.04590581],\n",
              "        [ 0.8787462 , -0.77073441],\n",
              "        [-0.80480212, -0.59677555],\n",
              "        [-1.00286662, -0.42281668],\n",
              "        [-0.11157634, -0.42281668],\n",
              "        [ 0.08648817,  0.21503249],\n",
              "        [-1.79512465,  0.47597078],\n",
              "        [-0.60673761,  1.37475825],\n",
              "        [-0.11157634,  0.21503249],\n",
              "        [-1.89415691,  0.44697764],\n",
              "        [ 1.67100423,  1.75166912],\n",
              "        [-0.30964085, -1.37959044],\n",
              "        [-0.30964085, -0.65476184],\n",
              "        [ 0.8787462 ,  2.15757314],\n",
              "        [ 0.28455268, -0.53878926],\n",
              "        [ 0.8787462 ,  1.02684052],\n",
              "        [-1.49802789, -1.20563157],\n",
              "        [ 1.07681071,  2.07059371],\n",
              "        [-1.00286662,  0.50496393],\n",
              "        [-0.90383437,  0.30201192],\n",
              "        [-0.11157634, -0.21986468],\n",
              "        [-0.60673761,  0.47597078],\n",
              "        [-1.6960924 ,  0.53395707],\n",
              "        [-0.11157634,  0.27301877],\n",
              "        [ 1.86906873, -0.27785096],\n",
              "        [-0.11157634, -0.48080297],\n",
              "        [-1.39899564, -0.33583725],\n",
              "        [-1.99318916, -0.50979612],\n",
              "        [-1.59706014,  0.33100506],\n",
              "        [-0.4086731 , -0.77073441],\n",
              "        [-0.70576986, -1.03167271],\n",
              "        [ 1.07681071, -0.97368642],\n",
              "        [-1.10189888,  0.53395707],\n",
              "        [ 0.28455268, -0.50979612],\n",
              "        [-1.10189888,  0.41798449],\n",
              "        [-0.30964085, -1.43757673],\n",
              "        [ 0.48261718,  1.22979253],\n",
              "        [-1.10189888, -0.33583725],\n",
              "        [-0.11157634,  0.30201192],\n",
              "        [ 1.37390747,  0.59194336],\n",
              "        [-1.20093113, -1.14764529],\n",
              "        [ 1.07681071,  0.47597078],\n",
              "        [ 1.86906873,  1.51972397],\n",
              "        [-0.4086731 , -1.29261101],\n",
              "        [-0.30964085, -0.3648304 ],\n",
              "        [-0.4086731 ,  1.31677196],\n",
              "        [ 2.06713324,  0.53395707],\n",
              "        [ 0.68068169, -1.089659  ],\n",
              "        [-0.90383437,  0.38899135],\n",
              "        [-1.20093113,  0.30201192],\n",
              "        [ 1.07681071, -1.20563157],\n",
              "        [-1.49802789, -1.43757673],\n",
              "        [-0.60673761, -1.49556302],\n",
              "        [ 2.1661655 , -0.79972756],\n",
              "        [-1.89415691,  0.18603934],\n",
              "        [-0.21060859,  0.85288166],\n",
              "        [-1.89415691, -1.26361786],\n",
              "        [ 2.1661655 ,  0.38899135],\n",
              "        [-1.39899564,  0.56295021],\n",
              "        [-1.10189888, -0.33583725],\n",
              "        [ 0.18552042, -0.65476184],\n",
              "        [ 0.38358493,  0.01208048],\n",
              "        [-0.60673761,  2.331532  ],\n",
              "        [-0.30964085,  0.21503249],\n",
              "        [-1.59706014, -0.19087153],\n",
              "        [ 0.68068169, -1.37959044],\n",
              "        [-1.10189888,  0.56295021],\n",
              "        [-1.99318916,  0.35999821],\n",
              "        [ 0.38358493,  0.27301877],\n",
              "        [ 0.18552042, -0.27785096],\n",
              "        [ 1.47293972, -1.03167271],\n",
              "        [ 0.8787462 ,  1.08482681],\n",
              "        [ 1.96810099,  2.15757314],\n",
              "        [ 2.06713324,  0.38899135],\n",
              "        [-1.39899564, -0.42281668],\n",
              "        [-1.20093113, -1.00267957],\n",
              "        [ 1.96810099, -0.91570013],\n",
              "        [ 0.38358493,  0.30201192],\n",
              "        [ 0.18552042,  0.1570462 ],\n",
              "        [ 2.06713324,  1.75166912],\n",
              "        [ 0.77971394, -0.8287207 ],\n",
              "        [ 0.28455268, -0.27785096],\n",
              "        [ 0.38358493, -0.16187839],\n",
              "        [-0.11157634,  2.21555943],\n",
              "        [-1.49802789, -0.62576869],\n",
              "        [-1.29996338, -1.06066585],\n",
              "        [-1.39899564,  0.41798449],\n",
              "        [-1.10189888,  0.76590222],\n",
              "        [-1.49802789, -0.19087153],\n",
              "        [ 0.97777845, -1.06066585],\n",
              "        [ 0.97777845,  0.59194336],\n",
              "        [ 0.38358493,  0.99784738]]))"
            ]
          },
          "metadata": {
            "tags": []
          },
          "execution_count": 37
        }
      ]
    },
    {
      "cell_type": "code",
      "metadata": {
        "colab": {
          "base_uri": "https://localhost:8080/"
        },
        "id": "N3MY2-4IdebP",
        "outputId": "92200f35-4575-4894-b254-710ee5a908e2"
      },
      "source": [
        "from sklearn.linear_model import LogisticRegression\n",
        "classifier = LogisticRegression(random_state=0)\n",
        "classifier.fit(x_train, y_train)"
      ],
      "execution_count": 38,
      "outputs": [
        {
          "output_type": "execute_result",
          "data": {
            "text/plain": [
              "LogisticRegression(C=1.0, class_weight=None, dual=False, fit_intercept=True,\n",
              "                   intercept_scaling=1, l1_ratio=None, max_iter=100,\n",
              "                   multi_class='auto', n_jobs=None, penalty='l2',\n",
              "                   random_state=0, solver='lbfgs', tol=0.0001, verbose=0,\n",
              "                   warm_start=False)"
            ]
          },
          "metadata": {
            "tags": []
          },
          "execution_count": 38
        }
      ]
    },
    {
      "cell_type": "code",
      "metadata": {
        "colab": {
          "base_uri": "https://localhost:8080/"
        },
        "id": "lZ1ZglWIgQlq",
        "outputId": "06a9f950-a91c-461f-b64f-4433193d35fb"
      },
      "source": [
        "y_pred = classifier.predict(x_test)\n",
        "y_pred"
      ],
      "execution_count": 39,
      "outputs": [
        {
          "output_type": "execute_result",
          "data": {
            "text/plain": [
              "array([0, 0, 0, 0, 0, 0, 0, 1, 0, 1, 0, 0, 0, 0, 0, 0, 0, 0, 1, 0, 0, 1,\n",
              "       0, 1, 0, 1, 0, 0, 0, 0, 0, 0, 1, 0, 0, 0, 0, 0, 0, 1, 0, 0, 0, 0,\n",
              "       1, 0, 0, 1, 0, 1, 1, 0, 0, 0, 1, 0, 0, 0, 0, 0, 0, 1, 0, 0, 0, 1,\n",
              "       0, 0, 0, 0, 1, 0, 0, 0, 0, 0, 1, 0, 1, 1, 1, 1, 0, 0, 1, 1, 0, 1,\n",
              "       0, 0, 0, 1, 0, 0, 0, 0, 0, 0, 1, 1])"
            ]
          },
          "metadata": {
            "tags": []
          },
          "execution_count": 39
        }
      ]
    },
    {
      "cell_type": "code",
      "metadata": {
        "colab": {
          "base_uri": "https://localhost:8080/"
        },
        "id": "S6Tgfh-8jRn9",
        "outputId": "e4c7775e-6c58-4ff9-f629-ebb3c52e66f3"
      },
      "source": [
        "#cross validation\n",
        "from sklearn.model_selection import cross_val_score\n",
        "scores = cross_val_score(classifier, x_train, y_train, cv = 8)\n",
        "scores"
      ],
      "execution_count": 48,
      "outputs": [
        {
          "output_type": "execute_result",
          "data": {
            "text/plain": [
              "array([0.81578947, 0.86842105, 0.76315789, 0.71052632, 0.67567568,\n",
              "       0.91891892, 0.97297297, 0.89189189])"
            ]
          },
          "metadata": {
            "tags": []
          },
          "execution_count": 48
        }
      ]
    },
    {
      "cell_type": "code",
      "metadata": {
        "colab": {
          "base_uri": "https://localhost:8080/"
        },
        "id": "R0kOr_7LlQbw",
        "outputId": "52a55ca6-218c-4542-bd62-8cba074c9683"
      },
      "source": [
        "#confusion matrix\n",
        "from sklearn.metrics import confusion_matrix\n",
        "cm = confusion_matrix(y_test, y_pred)\n",
        "cm"
      ],
      "execution_count": 51,
      "outputs": [
        {
          "output_type": "execute_result",
          "data": {
            "text/plain": [
              "array([[65,  3],\n",
              "       [ 8, 24]])"
            ]
          },
          "metadata": {
            "tags": []
          },
          "execution_count": 51
        }
      ]
    },
    {
      "cell_type": "code",
      "metadata": {
        "colab": {
          "base_uri": "https://localhost:8080/",
          "height": 283
        },
        "id": "vVAY281LlsG9",
        "outputId": "f76a0795-2fff-4b5e-a6a5-6fc924f8d3aa"
      },
      "source": [
        "import seaborn as sn\n",
        "sn.heatmap(cm, annot = True, cmap = 'Blues')"
      ],
      "execution_count": 53,
      "outputs": [
        {
          "output_type": "execute_result",
          "data": {
            "text/plain": [
              "<matplotlib.axes._subplots.AxesSubplot at 0x7fbd831e6110>"
            ]
          },
          "metadata": {
            "tags": []
          },
          "execution_count": 53
        },
        {
          "output_type": "display_data",
          "data": {
            "image/png": "[encoded data removed]",
            "text/plain": [
              "<Figure size 432x288 with 2 Axes>"
            ]
          },
          "metadata": {
            "tags": [],
            "needs_background": "light"
          }
        }
      ]
    },
    {
      "cell_type": "code",
      "metadata": {
        "colab": {
          "base_uri": "https://localhost:8080/",
          "height": 283
        },
        "id": "_vVv6Ra2mTi-",
        "outputId": "cd15516a-cc6b-43cc-f964-955fef32fbc5"
      },
      "source": [
        "sn.heatmap(cm/np.sum(cm), annot=True, \n",
        "            fmt='.2%', cmap='Blues')"
      ],
      "execution_count": 55,
      "outputs": [
        {
          "output_type": "execute_result",
          "data": {
            "text/plain": [
              "<matplotlib.axes._subplots.AxesSubplot at 0x7fbd8311ce90>"
            ]
          },
          "metadata": {
            "tags": []
          },
          "execution_count": 55
        },
        {
          "output_type": "display_data",
          "data": {
            "image/png": "[encoded data removed]",
            "text/plain": [
              "<Figure size 432x288 with 2 Axes>"
            ]
          },
          "metadata": {
            "tags": [],
            "needs_background": "light"
          }
        }
      ]
    },
    {
      "cell_type": "code",
      "metadata": {
        "colab": {
          "base_uri": "https://localhost:8080/",
          "height": 350
        },
        "id": "f3vAFtmYmfzh",
        "outputId": "429935c3-6588-42d4-9427-86ea636ef1d7"
      },
      "source": [
        "#Visualizing the Training Set Results\n",
        "from matplotlib.colors import ListedColormap\n",
        "x_set , y_set = x_train ,y_train\n",
        "x1, x2 = np.meshgrid(np.arange(start = x_set[:,0].min()-1,stop =x_set[:,0].max()+1,step=0.01),\n",
        "                    np.arange(start = x_set[:,1].min()-1,stop =x_set[:,1].max()+1,step=0.01))\n",
        "plt.contour(x1,x2,classifier.predict(np.array([x1.ravel(),x2.ravel()]).T).reshape(x1.shape),\n",
        "            alpha= 0.75 ,cmap = ListedColormap(('red','green')))\n",
        "plt.xlim(x1.min() ,x1.max())\n",
        "plt.ylim(x2.min() ,x2.max())\n",
        "for i,j in enumerate(np.unique(y_set)):\n",
        "    plt.scatter(x_set[y_set == j ,0], x_set[y_set == j,1],\n",
        "                c= ListedColormap(('red' , 'green'))(i) , label = j)\n",
        "plt.title('Logistic Regression(Training Set)')\n",
        "plt.xlabel('Age')\n",
        "plt.ylabel('Estimated Salary')\n",
        "plt.legend()\n",
        "plt.show()"
      ],
      "execution_count": 61,
      "outputs": [
        {
          "output_type": "stream",
          "text": [
            "*c* argument looks like a single numeric RGB or RGBA sequence, which should be avoided as value-mapping will have precedence in case its length matches with *x* & *y*.  Please use the *color* keyword-argument or provide a 2-D array with a single row if you intend to specify the same RGB or RGBA value for all points.\n",
            "*c* argument looks like a single numeric RGB or RGBA sequence, which should be avoided as value-mapping will have precedence in case its length matches with *x* & *y*.  Please use the *color* keyword-argument or provide a 2-D array with a single row if you intend to specify the same RGB or RGBA value for all points.\n"
          ],
          "name": "stderr"
        },
        {
          "output_type": "display_data",
          "data": {
            "image/png": "[encoded data removed]",
            "text/plain": [
              "<Figure size 432x288 with 1 Axes>"
            ]
          },
          "metadata": {
            "tags": [],
            "needs_background": "light"
          }
        }
      ]
    },
    {
      "cell_type": "code",
      "metadata": {
        "colab": {
          "base_uri": "https://localhost:8080/",
          "height": 350
        },
        "id": "oETvZSS1ngBA",
        "outputId": "c692fb54-0c18-43ca-9d2a-7e5cf9a87dd1"
      },
      "source": [
        "#Visualizing the Test Set Results\n",
        "from matplotlib.colors import ListedColormap\n",
        "x_set , y_set = x_test ,y_test\n",
        "x1, x2 = np.meshgrid(np.arange(start = x_set[:,0].min()-1,stop =x_set[:,0].max()+1,step=0.01),\n",
        "                    np.arange(start = x_set[:,1].min()-1,stop =x_set[:,1].max()+1,step=0.01))\n",
        "plt.contour(x1,x2,classifier.predict(np.array([x1.ravel(),x2.ravel()]).T).reshape(x1.shape),\n",
        "            alpha= 0.75 ,cmap = ListedColormap(('red','green')))\n",
        "plt.xlim(x1.min() ,x1.max())\n",
        "plt.ylim(x2.min() ,x2.max())\n",
        "for i,j in enumerate(np.unique(y_set)):\n",
        "    plt.scatter(x_set[y_set == j ,0], x_set[y_set == j,1],\n",
        "                c= ListedColormap(('red' , 'green'))(i) , label = j)\n",
        "plt.title('Logistic Regression(Test Set)')\n",
        "plt.xlabel('Age')\n",
        "plt.ylabel('Estimated Salary')\n",
        "plt.legend()\n",
        "plt.show()"
      ],
      "execution_count": 62,
      "outputs": [
        {
          "output_type": "stream",
          "text": [
            "*c* argument looks like a single numeric RGB or RGBA sequence, which should be avoided as value-mapping will have precedence in case its length matches with *x* & *y*.  Please use the *color* keyword-argument or provide a 2-D array with a single row if you intend to specify the same RGB or RGBA value for all points.\n",
            "*c* argument looks like a single numeric RGB or RGBA sequence, which should be avoided as value-mapping will have precedence in case its length matches with *x* & *y*.  Please use the *color* keyword-argument or provide a 2-D array with a single row if you intend to specify the same RGB or RGBA value for all points.\n"
          ],
          "name": "stderr"
        },
        {
          "output_type": "display_data",
          "data": {
            "image/png": "[encoded data removed]",
            "text/plain": [
              "<Figure size 432x288 with 1 Axes>"
            ]
          },
          "metadata": {
            "tags": [],
            "needs_background": "light"
          }
        }
      ]
    },
    {
      "cell_type": "code",
      "metadata": {
        "colab": {
          "base_uri": "https://localhost:8080/"
        },
        "id": "kZcJA2s8njbv",
        "outputId": "0a6b56d4-d6f3-4a15-d57a-d1d4ed76c799"
      },
      "source": [
        "metrics.accuracy_score(y_test, y_pred)"
      ],
      "execution_count": 64,
      "outputs": [
        {
          "output_type": "execute_result",
          "data": {
            "text/plain": [
              "0.89"
            ]
          },
          "metadata": {
            "tags": []
          },
          "execution_count": 64
        }
      ]
    },
    {
      "cell_type": "markdown",
      "metadata": {
        "id": "nnNL0X1QnxUm"
      },
      "source": [
        "**Logistic Regression - 2 (Iris Dataset)**"
      ]
    },
    {
      "cell_type": "code",
      "metadata": {
        "colab": {
          "base_uri": "https://localhost:8080/"
        },
        "id": "ZqOZP8SfnqWX",
        "outputId": "eb45f247-7bdb-4763-fbc5-22ac48a2adde"
      },
      "source": [
        "from sklearn import datasets\n",
        "import matplotlib.pyplot as plt\n",
        "data = datasets.load_iris()\n",
        "data.data"
      ],
      "execution_count": 74,
      "outputs": [
        {
          "output_type": "execute_result",
          "data": {
            "text/plain": [
              "array([[5.1, 3.5, 1.4, 0.2],\n",
              "       [4.9, 3. , 1.4, 0.2],\n",
              "       [4.7, 3.2, 1.3, 0.2],\n",
              "       [4.6, 3.1, 1.5, 0.2],\n",
              "       [5. , 3.6, 1.4, 0.2],\n",
              "       [5.4, 3.9, 1.7, 0.4],\n",
              "       [4.6, 3.4, 1.4, 0.3],\n",
              "       [5. , 3.4, 1.5, 0.2],\n",
              "       [4.4, 2.9, 1.4, 0.2],\n",
              "       [4.9, 3.1, 1.5, 0.1],\n",
              "       [5.4, 3.7, 1.5, 0.2],\n",
              "       [4.8, 3.4, 1.6, 0.2],\n",
              "       [4.8, 3. , 1.4, 0.1],\n",
              "       [4.3, 3. , 1.1, 0.1],\n",
              "       [5.8, 4. , 1.2, 0.2],\n",
              "       [5.7, 4.4, 1.5, 0.4],\n",
              "       [5.4, 3.9, 1.3, 0.4],\n",
              "       [5.1, 3.5, 1.4, 0.3],\n",
              "       [5.7, 3.8, 1.7, 0.3],\n",
              "       [5.1, 3.8, 1.5, 0.3],\n",
              "       [5.4, 3.4, 1.7, 0.2],\n",
              "       [5.1, 3.7, 1.5, 0.4],\n",
              "       [4.6, 3.6, 1. , 0.2],\n",
              "       [5.1, 3.3, 1.7, 0.5],\n",
              "       [4.8, 3.4, 1.9, 0.2],\n",
              "       [5. , 3. , 1.6, 0.2],\n",
              "       [5. , 3.4, 1.6, 0.4],\n",
              "       [5.2, 3.5, 1.5, 0.2],\n",
              "       [5.2, 3.4, 1.4, 0.2],\n",
              "       [4.7, 3.2, 1.6, 0.2],\n",
              "       [4.8, 3.1, 1.6, 0.2],\n",
              "       [5.4, 3.4, 1.5, 0.4],\n",
              "       [5.2, 4.1, 1.5, 0.1],\n",
              "       [5.5, 4.2, 1.4, 0.2],\n",
              "       [4.9, 3.1, 1.5, 0.2],\n",
              "       [5. , 3.2, 1.2, 0.2],\n",
              "       [5.5, 3.5, 1.3, 0.2],\n",
              "       [4.9, 3.6, 1.4, 0.1],\n",
              "       [4.4, 3. , 1.3, 0.2],\n",
              "       [5.1, 3.4, 1.5, 0.2],\n",
              "       [5. , 3.5, 1.3, 0.3],\n",
              "       [4.5, 2.3, 1.3, 0.3],\n",
              "       [4.4, 3.2, 1.3, 0.2],\n",
              "       [5. , 3.5, 1.6, 0.6],\n",
              "       [5.1, 3.8, 1.9, 0.4],\n",
              "       [4.8, 3. , 1.4, 0.3],\n",
              "       [5.1, 3.8, 1.6, 0.2],\n",
              "       [4.6, 3.2, 1.4, 0.2],\n",
              "       [5.3, 3.7, 1.5, 0.2],\n",
              "       [5. , 3.3, 1.4, 0.2],\n",
              "       [7. , 3.2, 4.7, 1.4],\n",
              "       [6.4, 3.2, 4.5, 1.5],\n",
              "       [6.9, 3.1, 4.9, 1.5],\n",
              "       [5.5, 2.3, 4. , 1.3],\n",
              "       [6.5, 2.8, 4.6, 1.5],\n",
              "       [5.7, 2.8, 4.5, 1.3],\n",
              "       [6.3, 3.3, 4.7, 1.6],\n",
              "       [4.9, 2.4, 3.3, 1. ],\n",
              "       [6.6, 2.9, 4.6, 1.3],\n",
              "       [5.2, 2.7, 3.9, 1.4],\n",
              "       [5. , 2. , 3.5, 1. ],\n",
              "       [5.9, 3. , 4.2, 1.5],\n",
              "       [6. , 2.2, 4. , 1. ],\n",
              "       [6.1, 2.9, 4.7, 1.4],\n",
              "       [5.6, 2.9, 3.6, 1.3],\n",
              "       [6.7, 3.1, 4.4, 1.4],\n",
              "       [5.6, 3. , 4.5, 1.5],\n",
              "       [5.8, 2.7, 4.1, 1. ],\n",
              "       [6.2, 2.2, 4.5, 1.5],\n",
              "       [5.6, 2.5, 3.9, 1.1],\n",
              "       [5.9, 3.2, 4.8, 1.8],\n",
              "       [6.1, 2.8, 4. , 1.3],\n",
              "       [6.3, 2.5, 4.9, 1.5],\n",
              "       [6.1, 2.8, 4.7, 1.2],\n",
              "       [6.4, 2.9, 4.3, 1.3],\n",
              "       [6.6, 3. , 4.4, 1.4],\n",
              "       [6.8, 2.8, 4.8, 1.4],\n",
              "       [6.7, 3. , 5. , 1.7],\n",
              "       [6. , 2.9, 4.5, 1.5],\n",
              "       [5.7, 2.6, 3.5, 1. ],\n",
              "       [5.5, 2.4, 3.8, 1.1],\n",
              "       [5.5, 2.4, 3.7, 1. ],\n",
              "       [5.8, 2.7, 3.9, 1.2],\n",
              "       [6. , 2.7, 5.1, 1.6],\n",
              "       [5.4, 3. , 4.5, 1.5],\n",
              "       [6. , 3.4, 4.5, 1.6],\n",
              "       [6.7, 3.1, 4.7, 1.5],\n",
              "       [6.3, 2.3, 4.4, 1.3],\n",
              "       [5.6, 3. , 4.1, 1.3],\n",
              "       [5.5, 2.5, 4. , 1.3],\n",
              "       [5.5, 2.6, 4.4, 1.2],\n",
              "       [6.1, 3. , 4.6, 1.4],\n",
              "       [5.8, 2.6, 4. , 1.2],\n",
              "       [5. , 2.3, 3.3, 1. ],\n",
              "       [5.6, 2.7, 4.2, 1.3],\n",
              "       [5.7, 3. , 4.2, 1.2],\n",
              "       [5.7, 2.9, 4.2, 1.3],\n",
              "       [6.2, 2.9, 4.3, 1.3],\n",
              "       [5.1, 2.5, 3. , 1.1],\n",
              "       [5.7, 2.8, 4.1, 1.3],\n",
              "       [6.3, 3.3, 6. , 2.5],\n",
              "       [5.8, 2.7, 5.1, 1.9],\n",
              "       [7.1, 3. , 5.9, 2.1],\n",
              "       [6.3, 2.9, 5.6, 1.8],\n",
              "       [6.5, 3. , 5.8, 2.2],\n",
              "       [7.6, 3. , 6.6, 2.1],\n",
              "       [4.9, 2.5, 4.5, 1.7],\n",
              "       [7.3, 2.9, 6.3, 1.8],\n",
              "       [6.7, 2.5, 5.8, 1.8],\n",
              "       [7.2, 3.6, 6.1, 2.5],\n",
              "       [6.5, 3.2, 5.1, 2. ],\n",
              "       [6.4, 2.7, 5.3, 1.9],\n",
              "       [6.8, 3. , 5.5, 2.1],\n",
              "       [5.7, 2.5, 5. , 2. ],\n",
              "       [5.8, 2.8, 5.1, 2.4],\n",
              "       [6.4, 3.2, 5.3, 2.3],\n",
              "       [6.5, 3. , 5.5, 1.8],\n",
              "       [7.7, 3.8, 6.7, 2.2],\n",
              "       [7.7, 2.6, 6.9, 2.3],\n",
              "       [6. , 2.2, 5. , 1.5],\n",
              "       [6.9, 3.2, 5.7, 2.3],\n",
              "       [5.6, 2.8, 4.9, 2. ],\n",
              "       [7.7, 2.8, 6.7, 2. ],\n",
              "       [6.3, 2.7, 4.9, 1.8],\n",
              "       [6.7, 3.3, 5.7, 2.1],\n",
              "       [7.2, 3.2, 6. , 1.8],\n",
              "       [6.2, 2.8, 4.8, 1.8],\n",
              "       [6.1, 3. , 4.9, 1.8],\n",
              "       [6.4, 2.8, 5.6, 2.1],\n",
              "       [7.2, 3. , 5.8, 1.6],\n",
              "       [7.4, 2.8, 6.1, 1.9],\n",
              "       [7.9, 3.8, 6.4, 2. ],\n",
              "       [6.4, 2.8, 5.6, 2.2],\n",
              "       [6.3, 2.8, 5.1, 1.5],\n",
              "       [6.1, 2.6, 5.6, 1.4],\n",
              "       [7.7, 3. , 6.1, 2.3],\n",
              "       [6.3, 3.4, 5.6, 2.4],\n",
              "       [6.4, 3.1, 5.5, 1.8],\n",
              "       [6. , 3. , 4.8, 1.8],\n",
              "       [6.9, 3.1, 5.4, 2.1],\n",
              "       [6.7, 3.1, 5.6, 2.4],\n",
              "       [6.9, 3.1, 5.1, 2.3],\n",
              "       [5.8, 2.7, 5.1, 1.9],\n",
              "       [6.8, 3.2, 5.9, 2.3],\n",
              "       [6.7, 3.3, 5.7, 2.5],\n",
              "       [6.7, 3. , 5.2, 2.3],\n",
              "       [6.3, 2.5, 5. , 1.9],\n",
              "       [6.5, 3. , 5.2, 2. ],\n",
              "       [6.2, 3.4, 5.4, 2.3],\n",
              "       [5.9, 3. , 5.1, 1.8]])"
            ]
          },
          "metadata": {
            "tags": []
          },
          "execution_count": 74
        }
      ]
    },
    {
      "cell_type": "code",
      "metadata": {
        "colab": {
          "base_uri": "https://localhost:8080/"
        },
        "id": "95JDTmQLoEzw",
        "outputId": "3c5fc680-9204-49fa-be12-2c7eaed7c034"
      },
      "source": [
        "data.target"
      ],
      "execution_count": 75,
      "outputs": [
        {
          "output_type": "execute_result",
          "data": {
            "text/plain": [
              "array([0, 0, 0, 0, 0, 0, 0, 0, 0, 0, 0, 0, 0, 0, 0, 0, 0, 0, 0, 0, 0, 0,\n",
              "       0, 0, 0, 0, 0, 0, 0, 0, 0, 0, 0, 0, 0, 0, 0, 0, 0, 0, 0, 0, 0, 0,\n",
              "       0, 0, 0, 0, 0, 0, 1, 1, 1, 1, 1, 1, 1, 1, 1, 1, 1, 1, 1, 1, 1, 1,\n",
              "       1, 1, 1, 1, 1, 1, 1, 1, 1, 1, 1, 1, 1, 1, 1, 1, 1, 1, 1, 1, 1, 1,\n",
              "       1, 1, 1, 1, 1, 1, 1, 1, 1, 1, 1, 1, 2, 2, 2, 2, 2, 2, 2, 2, 2, 2,\n",
              "       2, 2, 2, 2, 2, 2, 2, 2, 2, 2, 2, 2, 2, 2, 2, 2, 2, 2, 2, 2, 2, 2,\n",
              "       2, 2, 2, 2, 2, 2, 2, 2, 2, 2, 2, 2, 2, 2, 2, 2, 2, 2])"
            ]
          },
          "metadata": {
            "tags": []
          },
          "execution_count": 75
        }
      ]
    },
    {
      "cell_type": "code",
      "metadata": {
        "id": "3Wy8TpDioGuv"
      },
      "source": [
        "X = data.data[:,:2]\n",
        "y = (data.target!=0)"
      ],
      "execution_count": 76,
      "outputs": []
    },
    {
      "cell_type": "code",
      "metadata": {
        "colab": {
          "base_uri": "https://localhost:8080/",
          "height": 376
        },
        "id": "3Zzk7078okYP",
        "outputId": "f95b96f2-968f-4e65-ca9d-9010b071ad23"
      },
      "source": [
        "plt.figure(figsize=(10,6))\n",
        "plt.scatter(X[y==0][:,0], X[y==0][:,1], color = 'b', label = '0')\n",
        "plt.scatter(X[y==1][:,0], X[y==1][:,1], color = 'r', label = '1')\n",
        "plt.legend();"
      ],
      "execution_count": 77,
      "outputs": [
        {
          "output_type": "display_data",
          "data": {
            "image/png": "[encoded data removed]",
            "text/plain": [
              "<Figure size 720x432 with 1 Axes>"
            ]
          },
          "metadata": {
            "tags": [],
            "needs_background": "light"
          }
        }
      ]
    },
    {
      "cell_type": "code",
      "metadata": {
        "colab": {
          "base_uri": "https://localhost:8080/"
        },
        "id": "otq0Mqj_pUhS",
        "outputId": "31c8b375-3f38-454e-a5a8-dcf295a7a92e"
      },
      "source": [
        "from sklearn.linear_model import LogisticRegression\n",
        "model = LogisticRegression()\n",
        "model.fit(X,y)\n",
        "y_pred = model.predict(X)\n",
        "y_pred"
      ],
      "execution_count": 78,
      "outputs": [
        {
          "output_type": "execute_result",
          "data": {
            "text/plain": [
              "array([False, False, False, False, False, False, False, False, False,\n",
              "       False, False, False, False, False, False, False, False, False,\n",
              "       False, False, False, False, False, False, False, False, False,\n",
              "       False, False, False, False, False, False, False, False, False,\n",
              "       False, False, False, False, False, False, False, False, False,\n",
              "       False, False, False, False, False,  True,  True,  True,  True,\n",
              "        True,  True,  True,  True,  True,  True,  True,  True,  True,\n",
              "        True,  True,  True,  True,  True,  True,  True,  True,  True,\n",
              "        True,  True,  True,  True,  True,  True,  True,  True,  True,\n",
              "        True,  True,  True,  True,  True,  True,  True,  True,  True,\n",
              "        True,  True,  True,  True,  True,  True,  True,  True,  True,\n",
              "        True,  True,  True,  True,  True,  True,  True,  True,  True,\n",
              "        True,  True,  True,  True,  True,  True,  True,  True,  True,\n",
              "        True,  True,  True,  True,  True,  True,  True,  True,  True,\n",
              "        True,  True,  True,  True,  True,  True,  True,  True,  True,\n",
              "        True,  True,  True,  True,  True,  True,  True,  True,  True,\n",
              "        True,  True,  True,  True,  True,  True])"
            ]
          },
          "metadata": {
            "tags": []
          },
          "execution_count": 78
        }
      ]
    },
    {
      "cell_type": "code",
      "metadata": {
        "colab": {
          "base_uri": "https://localhost:8080/"
        },
        "id": "YP_j9oN2q3NL",
        "outputId": "b13221bb-5922-4494-e6ae-e0b2369a1adf"
      },
      "source": [
        "metrics.accuracy_score(y, preds)"
      ],
      "execution_count": 80,
      "outputs": [
        {
          "output_type": "execute_result",
          "data": {
            "text/plain": [
              "1.0"
            ]
          },
          "metadata": {
            "tags": []
          },
          "execution_count": 80
        }
      ]
    },
    {
      "cell_type": "code",
      "metadata": {
        "colab": {
          "base_uri": "https://localhost:8080/",
          "height": 283
        },
        "id": "cMG91pCVrDWd",
        "outputId": "f4d6c304-c8eb-4ef1-ed12-ad7e22efaa52"
      },
      "source": [
        "#Making the Confusion Matrix\n",
        "from sklearn.metrics import confusion_matrix\n",
        "cm = confusion_matrix(y,y_pred)\n",
        "import seaborn as sns\n",
        "sns.heatmap(cm/np.sum(cm), annot=True, \n",
        "            fmt='.2%', cmap='Blues')"
      ],
      "execution_count": 83,
      "outputs": [
        {
          "output_type": "execute_result",
          "data": {
            "text/plain": [
              "<matplotlib.axes._subplots.AxesSubplot at 0x7fbd81e52a50>"
            ]
          },
          "metadata": {
            "tags": []
          },
          "execution_count": 83
        },
        {
          "output_type": "display_data",
          "data": {
            "image/png": "[encoded data removed]",
            "text/plain": [
              "<Figure size 432x288 with 2 Axes>"
            ]
          },
          "metadata": {
            "tags": [],
            "needs_background": "light"
          }
        }
      ]
    },
    {
      "cell_type": "markdown",
      "metadata": {
        "id": "zIbsVpANrW2n"
      },
      "source": [
        "**Logistic Resgression - 3**"
      ]
    },
    {
      "cell_type": "code",
      "metadata": {
        "colab": {
          "base_uri": "https://localhost:8080/"
        },
        "id": "d4NBNer6reiz",
        "outputId": "9d41f022-a402-4d4b-a79b-b166009c1397"
      },
      "source": [
        "#Logistic Regression\n",
        "\n",
        "# Importing the libraries\n",
        "import numpy as np\n",
        "import matplotlib.pyplot as plt\n",
        "import pandas as pd\n",
        "#Importing the data\n",
        "df =pd.read_csv('Chip_test.csv').values\n",
        "df.shape  "
      ],
      "execution_count": 90,
      "outputs": [
        {
          "output_type": "execute_result",
          "data": {
            "text/plain": [
              "(118, 3)"
            ]
          },
          "metadata": {
            "tags": []
          },
          "execution_count": 90
        }
      ]
    },
    {
      "cell_type": "code",
      "metadata": {
        "id": "WvDqb5w0rqKv"
      },
      "source": [
        "x = df[:,0:2]\n",
        "y = df[:,-1]"
      ],
      "execution_count": 91,
      "outputs": []
    },
    {
      "cell_type": "code",
      "metadata": {
        "id": "DTOcecH_sExd"
      },
      "source": [
        "from sklearn.model_selection import train_test_split\n",
        "x_train, x_test, y_train, y_test = train_test_split(x, y, test_size = 0.25)"
      ],
      "execution_count": 92,
      "outputs": []
    },
    {
      "cell_type": "code",
      "metadata": {
        "colab": {
          "base_uri": "https://localhost:8080/"
        },
        "id": "cyAQUCPcsgn-",
        "outputId": "c887cd28-fad0-4ca1-ca1e-d5650f0bfc42"
      },
      "source": [
        "from sklearn.linear_model import LogisticRegression\n",
        "model = LogisticRegression()\n",
        "model.fit(x_train,y_train)\n",
        "y_pred = model.predict(x_test)\n",
        "y_pred"
      ],
      "execution_count": 93,
      "outputs": [
        {
          "output_type": "execute_result",
          "data": {
            "text/plain": [
              "array([1., 0., 0., 0., 1., 1., 1., 1., 0., 1., 0., 0., 1., 1., 1., 1., 1.,\n",
              "       0., 0., 0., 1., 0., 0., 1., 0., 1., 1., 0., 1., 0.])"
            ]
          },
          "metadata": {
            "tags": []
          },
          "execution_count": 93
        }
      ]
    },
    {
      "cell_type": "code",
      "metadata": {
        "colab": {
          "base_uri": "https://localhost:8080/"
        },
        "id": "4WpMn307tEn6",
        "outputId": "2e294346-2582-4ea3-ee32-4519b5d5aa9b"
      },
      "source": [
        "from sklearn.metrics import confusion_matrix\n",
        "cm = confusion_matrix(y_test, y_pred)\n",
        "cm"
      ],
      "execution_count": 95,
      "outputs": [
        {
          "output_type": "execute_result",
          "data": {
            "text/plain": [
              "array([[8, 9],\n",
              "       [6, 7]])"
            ]
          },
          "metadata": {
            "tags": []
          },
          "execution_count": 95
        }
      ]
    },
    {
      "cell_type": "code",
      "metadata": {
        "colab": {
          "base_uri": "https://localhost:8080/",
          "height": 287
        },
        "id": "hT6NthS2tUs8",
        "outputId": "912c0bf1-8779-4493-9997-a254415aa262"
      },
      "source": [
        "import seaborn as sn\n",
        "sn.heatmap(cm, annot = True, cmap = 'Oranges')"
      ],
      "execution_count": 98,
      "outputs": [
        {
          "output_type": "execute_result",
          "data": {
            "text/plain": [
              "<matplotlib.axes._subplots.AxesSubplot at 0x7fbd81cd14d0>"
            ]
          },
          "metadata": {
            "tags": []
          },
          "execution_count": 98
        },
        {
          "output_type": "display_data",
          "data": {
            "image/png": "[encoded data removed]",
            "text/plain": [
              "<Figure size 432x288 with 2 Axes>"
            ]
          },
          "metadata": {
            "tags": [],
            "needs_background": "light"
          }
        }
      ]
    },
    {
      "cell_type": "code",
      "metadata": {
        "colab": {
          "base_uri": "https://localhost:8080/"
        },
        "id": "FzRkgs9BtweA",
        "outputId": "75d67067-1fc3-464f-fe33-013e0162a948"
      },
      "source": [
        "metrics.accuracy_score(y_test, y_pred)"
      ],
      "execution_count": 99,
      "outputs": [
        {
          "output_type": "execute_result",
          "data": {
            "text/plain": [
              "0.5"
            ]
          },
          "metadata": {
            "tags": []
          },
          "execution_count": 99
        }
      ]
    },
    {
      "cell_type": "markdown",
      "metadata": {
        "id": "OOyRaY49t2NZ"
      },
      "source": [
        "**Logistic Regression - 4**"
      ]
    },
    {
      "cell_type": "code",
      "metadata": {
        "colab": {
          "base_uri": "https://localhost:8080/"
        },
        "id": "4UKLKRiCt7dx",
        "outputId": "1340f68d-c85c-4bb8-bccd-bed691f70cb2"
      },
      "source": [
        "import numpy as np\n",
        "import matplotlib.pyplot as plt\n",
        "import pandas as pd\n",
        "\n",
        "df = pd.read_csv('examdata.csv').values\n",
        "df.shape"
      ],
      "execution_count": 101,
      "outputs": [
        {
          "output_type": "execute_result",
          "data": {
            "text/plain": [
              "(100, 3)"
            ]
          },
          "metadata": {
            "tags": []
          },
          "execution_count": 101
        }
      ]
    },
    {
      "cell_type": "code",
      "metadata": {
        "id": "41DqOFpWuGem"
      },
      "source": [
        "x = df[:, 0:2]\n",
        "y = df[:, 2]\n",
        "from sklearn.model_selection import train_test_split\n",
        "x_train, x_test, y_train, y_test = train_test_split(x, y, test_size = 0.20)"
      ],
      "execution_count": 102,
      "outputs": []
    },
    {
      "cell_type": "code",
      "metadata": {
        "id": "Ug4UbRZOuGlX"
      },
      "source": [
        "from sklearn.preprocessing import StandardScaler\n",
        "sc_x = StandardScaler()\n",
        "x_train = sc_x.fit_transform(x_train)\n",
        "x_test = sc_x.transform(x_test)\n",
        "\n",
        "from sklearn.linear_model import LogisticRegression\n",
        "classifier = LogisticRegression(random_state =0)\n",
        "classifier.fit(x_train,y_train)\n",
        "\n",
        "y_pred = classifier.predict(x_test)"
      ],
      "execution_count": 103,
      "outputs": []
    },
    {
      "cell_type": "code",
      "metadata": {
        "colab": {
          "base_uri": "https://localhost:8080/"
        },
        "id": "__HrFxkyuGnG",
        "outputId": "eb33fa05-c28b-4536-a350-4b636daa90cc"
      },
      "source": [
        "from sklearn.metrics import confusion_matrix\n",
        "cm = confusion_matrix(y_test,y_pred)\n",
        "cm"
      ],
      "execution_count": 104,
      "outputs": [
        {
          "output_type": "execute_result",
          "data": {
            "text/plain": [
              "array([[8, 2],\n",
              "       [1, 9]])"
            ]
          },
          "metadata": {
            "tags": []
          },
          "execution_count": 104
        }
      ]
    },
    {
      "cell_type": "code",
      "metadata": {
        "colab": {
          "base_uri": "https://localhost:8080/",
          "height": 336
        },
        "id": "_wCbuPuBuGpl",
        "outputId": "4bf60f07-218a-4016-8f78-18f096ec5e6b"
      },
      "source": [
        "from matplotlib.colors import ListedColormap\n",
        "x_set , y_set = x_train ,y_train\n",
        "x1, x2 = np.meshgrid(np.arange(start = x_set[:,0].min()-1,stop =x_set[:,0].max()+1,step=0.01),\n",
        "                    np.arange(start = x_set[:,1].min()-1,stop =x_set[:,1].max()+1,step=0.01))\n",
        "plt.contour(x1,x2,classifier.predict(np.array([x1.ravel(),x2.ravel()]).T).reshape(x1.shape),\n",
        "            alpha= 0.75 ,cmap = ListedColormap(('red','green')))\n",
        "plt.xlim(x1.min() ,x1.max())\n",
        "plt.ylim(x2.min() ,x2.max())\n",
        "for i,j in enumerate(np.unique(y_set)):\n",
        "    plt.scatter(x_set[y_set == j ,0], x_set[y_set == j,1],\n",
        "                c= ListedColormap(('red' , 'green'))(i) , label = j)\n",
        "plt.title('Logistic Regression(Training Set)')\n",
        "plt.legend()\n",
        "plt.show()\n",
        "      "
      ],
      "execution_count": 105,
      "outputs": [
        {
          "output_type": "stream",
          "text": [
            "*c* argument looks like a single numeric RGB or RGBA sequence, which should be avoided as value-mapping will have precedence in case its length matches with *x* & *y*.  Please use the *color* keyword-argument or provide a 2-D array with a single row if you intend to specify the same RGB or RGBA value for all points.\n",
            "*c* argument looks like a single numeric RGB or RGBA sequence, which should be avoided as value-mapping will have precedence in case its length matches with *x* & *y*.  Please use the *color* keyword-argument or provide a 2-D array with a single row if you intend to specify the same RGB or RGBA value for all points.\n"
          ],
          "name": "stderr"
        },
        {
          "output_type": "display_data",
          "data": {
            "image/png": "[encoded data removed]",
            "text/plain": [
              "<Figure size 432x288 with 1 Axes>"
            ]
          },
          "metadata": {
            "tags": [],
            "needs_background": "light"
          }
        }
      ]
    },
    {
      "cell_type": "code",
      "metadata": {
        "colab": {
          "base_uri": "https://localhost:8080/",
          "height": 354
        },
        "id": "JzQh0GiIuGr1",
        "outputId": "3af7c8b0-2369-4b53-cae5-f2f1ddabd013"
      },
      "source": [
        "from matplotlib.colors import ListedColormap\n",
        "x_set , y_set = x_test ,y_test\n",
        "x1, x2 = np.meshgrid(np.arange(start = x_set[:,0].min()-1,stop =x_set[:,0].max()+1,step=0.01),\n",
        "                    np.arange(start = x_set[:,1].min()-1,stop =x_set[:,1].max()+1,step=0.01))\n",
        "plt.contour(x1,x2,classifier.predict(np.array([x1.ravel(),x2.ravel()]).T).reshape(x1.shape),\n",
        "            alpha= 0.75 ,cmap = ListedColormap(('red','green')))\n",
        "plt.xlim(x1.min() ,x1.max())\n",
        "plt.ylim(x2.min() ,x2.max())\n",
        "for i,j in enumerate(np.unique(y_set)):\n",
        "    plt.scatter(x_set[y_set == j ,0], x_set[y_set == j,1],\n",
        "                c= ListedColormap(('red' , 'green'))(i) , label = j)\n",
        "plt.title('Test Set')\n",
        " \n",
        "plt.legend()"
      ],
      "execution_count": 106,
      "outputs": [
        {
          "output_type": "stream",
          "text": [
            "*c* argument looks like a single numeric RGB or RGBA sequence, which should be avoided as value-mapping will have precedence in case its length matches with *x* & *y*.  Please use the *color* keyword-argument or provide a 2-D array with a single row if you intend to specify the same RGB or RGBA value for all points.\n",
            "*c* argument looks like a single numeric RGB or RGBA sequence, which should be avoided as value-mapping will have precedence in case its length matches with *x* & *y*.  Please use the *color* keyword-argument or provide a 2-D array with a single row if you intend to specify the same RGB or RGBA value for all points.\n"
          ],
          "name": "stderr"
        },
        {
          "output_type": "execute_result",
          "data": {
            "text/plain": [
              "<matplotlib.legend.Legend at 0x7fbd81b2efd0>"
            ]
          },
          "metadata": {
            "tags": []
          },
          "execution_count": 106
        },
        {
          "output_type": "display_data",
          "data": {
            "image/png": "[encoded data removed]",
            "text/plain": [
              "<Figure size 432x288 with 1 Axes>"
            ]
          },
          "metadata": {
            "tags": [],
            "needs_background": "light"
          }
        }
      ]
    },
    {
      "cell_type": "code",
      "metadata": {
        "colab": {
          "base_uri": "https://localhost:8080/"
        },
        "id": "JBvw45iHupKQ",
        "outputId": "8d197477-4f58-4de3-9db7-07df9a1dc083"
      },
      "source": [
        "metrics.accuracy_score(y_test, y_pred)"
      ],
      "execution_count": 107,
      "outputs": [
        {
          "output_type": "execute_result",
          "data": {
            "text/plain": [
              "0.85"
            ]
          },
          "metadata": {
            "tags": []
          },
          "execution_count": 107
        }
      ]
    },
    {
      "cell_type": "markdown",
      "metadata": {
        "id": "w7C8y9xUux4H"
      },
      "source": [
        "**Logistic Regression - 5**"
      ]
    },
    {
      "cell_type": "code",
      "metadata": {
        "colab": {
          "base_uri": "https://localhost:8080/"
        },
        "id": "F9miOj3iu2qI",
        "outputId": "fe2ab496-a267-42cb-ebe6-5f893b3e66ac"
      },
      "source": [
        "import numpy as np\n",
        "import matplotlib.pyplot as plt\n",
        "import pandas as pd\n",
        "\n",
        "dataset = pd.read_csv('LR_df.csv').values\n",
        "X = dataset[:, 0].reshape(-1, 1)\n",
        "y = dataset[:, -1] \n",
        "\n",
        "from sklearn.model_selection import train_test_split\n",
        "X_train, X_test, y_train, y_test = train_test_split(X, y, test_size = 0.25, random_state = 0)\n",
        "\n",
        "from sklearn.preprocessing import StandardScaler\n",
        "sc_X = StandardScaler() \n",
        "X_train = sc_X.fit_transform(X_train)\n",
        "X_test = sc_X.transform(X_test)\n",
        "\n",
        "from sklearn.linear_model import LogisticRegression\n",
        "classifier = LogisticRegression(random_state =0)\n",
        "classifier.fit(X_train,y_train)\n",
        "\n",
        "y_pred = classifier.predict(X_test) \n",
        "\n",
        "from sklearn.metrics import confusion_matrix\n",
        "cm = confusion_matrix(y_test,y_pred)\n",
        "cm"
      ],
      "execution_count": 108,
      "outputs": [
        {
          "output_type": "execute_result",
          "data": {
            "text/plain": [
              "array([[108,  23],\n",
              "       [ 45,  16]])"
            ]
          },
          "metadata": {
            "tags": []
          },
          "execution_count": 108
        }
      ]
    },
    {
      "cell_type": "code",
      "metadata": {
        "colab": {
          "base_uri": "https://localhost:8080/",
          "height": 283
        },
        "id": "zfbk7lygvL4m",
        "outputId": "70110a0f-e59b-4573-c3b1-40af086bef65"
      },
      "source": [
        "import seaborn as sns\n",
        "sns.heatmap(cm, annot=True, cmap='Blues')"
      ],
      "execution_count": 109,
      "outputs": [
        {
          "output_type": "execute_result",
          "data": {
            "text/plain": [
              "<matplotlib.axes._subplots.AxesSubplot at 0x7fbd81bf0210>"
            ]
          },
          "metadata": {
            "tags": []
          },
          "execution_count": 109
        },
        {
          "output_type": "display_data",
          "data": {
            "image/png": "[encoded data removed]",
            "text/plain": [
              "<Figure size 432x288 with 2 Axes>"
            ]
          },
          "metadata": {
            "tags": [],
            "needs_background": "light"
          }
        }
      ]
    },
    {
      "cell_type": "code",
      "metadata": {
        "colab": {
          "base_uri": "https://localhost:8080/",
          "height": 283
        },
        "id": "c4IZura5vL85",
        "outputId": "304033bd-bbc4-44b7-a40e-ca96472e1c87"
      },
      "source": [
        "sns.heatmap(cm/np.sum(cm), annot=True, \n",
        "            fmt='.2%', cmap='Greens')"
      ],
      "execution_count": 110,
      "outputs": [
        {
          "output_type": "execute_result",
          "data": {
            "text/plain": [
              "<matplotlib.axes._subplots.AxesSubplot at 0x7fbd81a7c110>"
            ]
          },
          "metadata": {
            "tags": []
          },
          "execution_count": 110
        },
        {
          "output_type": "display_data",
          "data": {
            "image/png": "[encoded data removed]",
            "text/plain": [
              "<Figure size 432x288 with 2 Axes>"
            ]
          },
          "metadata": {
            "tags": [],
            "needs_background": "light"
          }
        }
      ]
    },
    {
      "cell_type": "code",
      "metadata": {
        "colab": {
          "base_uri": "https://localhost:8080/"
        },
        "id": "wrGudg_GvL_s",
        "outputId": "18a00dd8-0a20-4257-e202-3a5d3eeb5868"
      },
      "source": [
        "metrics.accuracy_score(y_test,y_pred)"
      ],
      "execution_count": 111,
      "outputs": [
        {
          "output_type": "execute_result",
          "data": {
            "text/plain": [
              "0.6458333333333334"
            ]
          },
          "metadata": {
            "tags": []
          },
          "execution_count": 111
        }
      ]
    }
  ]
}